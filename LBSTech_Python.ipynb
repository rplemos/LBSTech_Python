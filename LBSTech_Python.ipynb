{
  "cells": [
    {
      "cell_type": "markdown",
      "metadata": {
        "id": "view-in-github",
        "colab_type": "text"
      },
      "source": [
        "<a href=\"https://colab.research.google.com/github/rplemos/LBSTech_Python/blob/main/LBSTech_Python.ipynb\" target=\"_parent\"><img src=\"https://colab.research.google.com/assets/colab-badge.svg\" alt=\"Open In Colab\"/></a>"
      ]
    },
    {
      "cell_type": "markdown",
      "metadata": {
        "id": "Ht5E9zwkpmUU"
      },
      "source": [
        "## Exercício 1 - Transcrição de DNA para RNA"
      ]
    },
    {
      "cell_type": "code",
      "execution_count": null,
      "metadata": {
        "colab": {
          "base_uri": "https://localhost:8080/"
        },
        "id": "VM606vBnDR9K",
        "outputId": "d35e4660-edbd-4ef6-f92b-c8896c78c57f"
      },
      "outputs": [
        {
          "name": "stdout",
          "output_type": "stream",
          "text": [
            "SeqDNA: ATGATCTCGTAA\n",
            "SeqRNA: AUGAUCUCGUAA\n"
          ]
        }
      ],
      "source": [
        "seqDNA = \"ATGATCTCGTAA\"\n",
        "seqRNA = seqDNA.replace(\"T\",\"U\")\n",
        "print(f\"SeqDNA: {seqDNA}\")\n",
        "print(f\"SeqRNA: {seqRNA}\")"
      ]
    },
    {
      "cell_type": "markdown",
      "metadata": {
        "id": "zoy6WrDrrtgr"
      },
      "source": [
        "## Exercício 2 - Sequência Reverso-Complementar"
      ]
    },
    {
      "cell_type": "code",
      "execution_count": null,
      "metadata": {
        "colab": {
          "base_uri": "https://localhost:8080/"
        },
        "id": "jlBReDbprx65",
        "outputId": "ca09cb57-3651-44a5-9e23-1f77ddba94db"
      },
      "outputs": [
        {
          "name": "stdout",
          "output_type": "stream",
          "text": [
            "Reverso complementar de ATCGGTA: TACCGAT\n"
          ]
        }
      ],
      "source": [
        "seqDNA = (\"ATCGGTA\")\n",
        "rev = seqDNA[::-1]\n",
        "rev_comp = \"\"\n",
        "for letter in revDNA:\n",
        "    if letter == \"A\":\n",
        "        rev_comp += \"T\"\n",
        "    elif letter == \"T\":\n",
        "        rev_comp += \"A\"\n",
        "    elif letter == \"C\":\n",
        "        rev_comp += \"G\"\n",
        "    elif letter == \"G\":\n",
        "        rev_comp += \"C\"\n",
        "\n",
        "print(f\"Reverso complementar de {seqDNA}: {rev_comp}\")"
      ]
    },
    {
      "cell_type": "markdown",
      "metadata": {
        "id": "RRm7YBBNtwYf"
      },
      "source": [
        "## Exercício 3 - Código de Aminoácidos - 1 letra vs. 3 letras"
      ]
    },
    {
      "cell_type": "code",
      "execution_count": null,
      "metadata": {
        "colab": {
          "base_uri": "https://localhost:8080/"
        },
        "id": "0_EnOF-8t1w6",
        "outputId": "e5bbc785-d1c6-4d84-c815-72febf0637e2"
      },
      "outputs": [
        {
          "name": "stdout",
          "output_type": "stream",
          "text": [
            "SER = S\n",
            "S = SER\n"
          ]
        }
      ],
      "source": [
        "tres_um_dict = {\n",
        "    \"ALA\": \"A\",\n",
        "    \"ARG\": \"R\",\n",
        "    \"ASN\": \"N\",\n",
        "    \"ASP\": \"D\",\n",
        "    \"CYS\": \"C\",\n",
        "    \"GLN\": \"Q\",\n",
        "    \"GLU\": \"E\",\n",
        "    \"GLY\": \"G\",\n",
        "    \"HIS\": \"H\",\n",
        "    \"ILE\": \"I\",\n",
        "    \"LEU\": \"L\",\n",
        "    \"LYS\": \"K\",\n",
        "    \"MET\": \"M\",\n",
        "    \"PHE\": \"F\",\n",
        "    \"PRO\": \"P\",\n",
        "    \"SER\": \"S\",\n",
        "    \"THR\": \"T\",\n",
        "    \"TRP\": \"W\",\n",
        "    \"TYR\": \"Y\",\n",
        "    \"VAL\": \"V\",\n",
        "}\n",
        "\n",
        "def tres_um(codigo):\n",
        "    return tres_um_dict.get(codigo.upper())\n",
        "\n",
        "def um_tres(codigo):\n",
        "    for key, value in tres_um_dict.items():\n",
        "        if value == codigo.upper():\n",
        "            return key\n",
        "\n",
        "uma_letra = \"S\"\n",
        "tres_letras = \"Ser\"\n",
        "\n",
        "print(f\"{tres_letras.upper()} = {tres_um(tres_letras)}\")\n",
        "print(f\"{uma_letra} = {um_tres(uma_letra)}\")"
      ]
    },
    {
      "cell_type": "markdown",
      "metadata": {
        "id": "Hjj3pXxJwLEp"
      },
      "source": [
        "## Exercício 4 - Tradução de RNA para Proteína"
      ]
    },
    {
      "cell_type": "code",
      "execution_count": null,
      "metadata": {
        "colab": {
          "base_uri": "https://localhost:8080/"
        },
        "id": "TYawSMTJwOeg",
        "outputId": "e1292719-0ae7-4b70-a427-802c53c46a95"
      },
      "outputs": [
        {
          "name": "stdout",
          "output_type": "stream",
          "text": [
            "Tradução de GAGAGAGACCCUGAUAGCAUGUAGGGG: ERDPDSM*\n"
          ]
        }
      ],
      "source": [
        "tabela_codons = {\n",
        "    \"UUU\": \"F\", \"UUC\": \"F\", \"UUA\": \"L\", \"UUG\": \"L\",\n",
        "    \"UCU\": \"S\", \"UCC\": \"S\", \"UCA\": \"S\", \"UCG\": \"S\",\n",
        "    \"UAU\": \"Y\", \"UAC\": \"Y\", \"UAA\": \"*\", \"UAG\": \"*\",\n",
        "    \"UGU\": \"C\", \"UGC\": \"C\", \"UGA\": \"*\", \"UGG\": \"W\",\n",
        "    \"CUU\": \"L\", \"CUC\": \"L\", \"CUA\": \"L\", \"CUG\": \"L\",\n",
        "    \"CCU\": \"P\", \"CCC\": \"P\", \"CCA\": \"P\", \"CCG\": \"P\",\n",
        "    \"CAU\": \"H\", \"CAC\": \"H\", \"CAA\": \"Q\", \"CAG\": \"Q\",\n",
        "    \"CGU\": \"R\", \"CGC\": \"R\", \"CGA\": \"R\", \"CGG\": \"R\",\n",
        "    \"AUU\": \"I\", \"AUC\": \"I\", \"AUA\": \"I\", \"AUG\": \"M\",\n",
        "    \"ACU\": \"T\", \"AAC\": \"T\", \"ACA\": \"T\", \"ACG\": \"T\",\n",
        "    \"AAU\": \"N\", \"AAC\": \"N\", \"AAA\": \"K\", \"AAG\": \"K\",\n",
        "    \"AGU\": \"S\", \"AGC\": \"S\", \"AGA\": \"R\", \"AGG\": \"R\",\n",
        "    \"GUU\": \"V\", \"GUC\": \"V\", \"GUA\": \"V\", \"GUG\": \"V\",\n",
        "    \"GCU\": \"A\", \"GCC\": \"A\", \"GCA\": \"A\", \"GCG\": \"A\",\n",
        "    \"GAU\": \"D\", \"GAC\": \"D\", \"GAA\": \"E\", \"GAG\": \"E\",\n",
        "    \"GGU\": \"G\", \"GGC\": \"G\", \"GGA\": \"G\", \"GGG\": \"G\",\n",
        "}\n",
        "\n",
        "RNA = \"GAGAGAGACCCUGAUAGCAUGUAGGGG\"\n",
        "\n",
        "def traducao(rna):\n",
        "    codons = [RNA[i:i+3] for i in range (0, len(RNA), 3)]\n",
        "    prot = \"\"\n",
        "    for codon in codons:\n",
        "        if codon in tabela_codons:\n",
        "            prot += tabela_codons[codon]\n",
        "            if tabela_codons[codon] == \"*\":\n",
        "                break\n",
        "    return prot\n",
        "\n",
        "print(f\"Tradução de {RNA}: {traducao(RNA)}\")"
      ]
    },
    {
      "cell_type": "markdown",
      "metadata": {
        "id": "IzTzrv9C0_jq"
      },
      "source": [
        "## Exercício 5 - Codificação DNA para proteína"
      ]
    },
    {
      "cell_type": "code",
      "execution_count": null,
      "metadata": {
        "colab": {
          "base_uri": "https://localhost:8080/"
        },
        "id": "Z1brlRVd1ExJ",
        "outputId": "1919f78b-fbe7-43de-a46b-989ec3ff5189"
      },
      "outputs": [
        {
          "name": "stdout",
          "output_type": "stream",
          "text": [
            "De DNA 'ATGGTCCAAAGCTTAAGAGG' para proteína 'MVQSLR'\n"
          ]
        }
      ],
      "source": [
        "DNA = \"ATGGTCCAAAGCTTAAGAGG\"\n",
        "RNA = DNA.replace(\"T\",\"U\")\n",
        "print(f\"De DNA '{DNA}' para proteína '{traducao(RNA)}'\")"
      ]
    },
    {
      "cell_type": "markdown",
      "metadata": {
        "id": "itu7tXq42DFN"
      },
      "source": [
        "## Trabalhando com Arquivos"
      ]
    },
    {
      "cell_type": "code",
      "execution_count": null,
      "metadata": {
        "id": "EVmbTAVZ2FrJ"
      },
      "outputs": [],
      "source": [
        "import os\n",
        "\n",
        "def get_dna():\n",
        "    dna = \"\"\n",
        "    for file in os.listdir():\n",
        "        if (file.split(\".\")[-1] == \"fasta\"):\n",
        "            fasta = file\n",
        "\n",
        "    with open(fasta) as f:\n",
        "        for linha in f:\n",
        "            if linha.startswith(\">\"):\n",
        "                continue\n",
        "            dna += linha.strip()\n",
        "    return dna\n",
        "\n",
        "def transc(dna):\n",
        "    rna = dna.replace(\"T\",\"U\")\n",
        "    return rna\n",
        "\n",
        "def trad(rna):\n",
        "    codons = [rna[i:i+3] for i in range (0, len(rna), 3)]\n",
        "    prot = \"\"\n",
        "    for codon in codons:\n",
        "        if codon in tabela_codons:\n",
        "            prot += tabela_codons[codon]\n",
        "            if tabela_codons[codon] == \"*\":\n",
        "                break\n",
        "    return prot\n",
        "\n",
        "dna = get_dna()\n",
        "rna = transc(dna)\n",
        "prot = trad(rna)\n",
        "output_file = \"output.fasta\"\n",
        "\n",
        "with open(output_file, \"w\") as f:\n",
        "    f.write(\">proteina\\n\")\n",
        "    f.write(prot)"
      ]
    },
    {
      "cell_type": "markdown",
      "metadata": {
        "id": "dAT6YQip62xV"
      },
      "source": [
        "## Exercício 7 - Formatos FASTA e PDBx/MMCIF"
      ]
    },
    {
      "cell_type": "code",
      "execution_count": null,
      "metadata": {
        "id": "8I6puMv78lmR"
      },
      "outputs": [],
      "source": [
        "\"\"\"\n",
        "Formato PDB ( extensão \" .pdb\" ) e formato PDBx/MMCIF ( extensão \" .cif\" ) .\n",
        "O formato PDB (Protein Data Bank) e o formato mmCIF (macromolecular\n",
        "Crystallographic Information File) são dois formatos de arquivo usados para\n",
        "armazenar informações sobre a estrutura de biomoléculas, mas eles têm algumas\n",
        "diferenças:\n",
        "- PDB: O formato PDB original era relativamente simples e limitado em termos\n",
        "de campos e estrutura. Ele foi inicialmente desenvolvido para armazenar\n",
        "informações sobre estruturas de proteínas e ácidos nucleicos, mas ao longo do\n",
        "tempo, tornou-se insuficiente para acomodar estruturas mais complexas, como\n",
        "as de vírus e complexos proteína-ligante. Isso resultou em algumas limitações na\n",
        "representação detalhada dessas estruturas. Por isso, surgiu a necessidade de se\n",
        "propor um formato que suprisse tais necessidades.\n",
        "- mmCIF: O formato mmCIF é uma expansão do PDB original que inclui dados\n",
        "relevantes das macromoléculas. O MMCIF é capaz de suprir as limitações do\n",
        "arquivo PDB e consegue suportar dados que representam estruturas maiores,\n",
        "química mais complexa e novos métodos de experimentação. Enquanto isso,\n",
        "o PDB não é mais modificado ou recebe algum tipo de extensão para novos\n",
        "conteúdos. A tendência é a evolução do MMCIF e a estagnação do PDB.\n",
        "\"\"\""
      ]
    },
    {
      "cell_type": "markdown",
      "metadata": {
        "id": "hkyI70_V9GIE"
      },
      "source": [
        "## Exercício 8 - Lendo um Arquivo PDB"
      ]
    },
    {
      "cell_type": "code",
      "execution_count": null,
      "metadata": {
        "id": "QPtIYkUo9JjC"
      },
      "outputs": [],
      "source": [
        "def get_pdb():\n",
        "    list_aa = \"\"\n",
        "    anterior = \"\"\n",
        "    for file in os.listdir():\n",
        "        if file.split(\".\")[-1] == \"pdb\":\n",
        "            pdb = file\n",
        "\n",
        "    with open(pdb) as f:\n",
        "        for linha in f:\n",
        "            if linha[0:4] == \"ATOM\":\n",
        "                aa = linha[17:20].strip()\n",
        "                num = linha[23:26].strip()\n",
        "                atual = num+aa\n",
        "                if anterior != atual:\n",
        "                    list_aa += aa\n",
        "                anterior = atual\n",
        "    return list_aa\n",
        "\n",
        "def convert_aa(list_aa):\n",
        "    lista_final = \"\"\n",
        "    tres_um_dict = {\n",
        "        \"ALA\": \"A\",\n",
        "        \"ARG\": \"R\",\n",
        "        \"ASN\": \"N\",\n",
        "        \"ASP\": \"D\",\n",
        "        \"CYS\": \"C\",\n",
        "        \"GLN\": \"Q\",\n",
        "        \"GLU\": \"E\",\n",
        "        \"GLY\": \"G\",\n",
        "        \"HIS\": \"H\",\n",
        "        \"ILE\": \"I\",\n",
        "        \"LEU\": \"L\",\n",
        "        \"LYS\": \"K\",\n",
        "        \"MET\": \"M\",\n",
        "        \"PHE\": \"F\",\n",
        "        \"PRO\": \"P\",\n",
        "        \"SER\": \"S\",\n",
        "        \"THR\": \"T\",\n",
        "        \"TRP\": \"W\",\n",
        "        \"TYR\": \"Y\",\n",
        "        \"VAL\": \"V\",\n",
        "    }\n",
        "    tres = [list_aa[i:i+3] for i in range (0, len(list_aa), 3)]\n",
        "    for aa in tres:\n",
        "        lista_final += tres_um_dict.get(aa)\n",
        "    return lista_final\n",
        "\n",
        "def write_output(list):\n",
        "    with open(\"output_pdb.fasta\", \"w\") as f:\n",
        "        f.write(\">protein\\n\")\n",
        "        f.write(list)\n",
        "\n",
        "\n",
        "list_aa_tres = get_pdb()\n",
        "list_aa_um = convert_aa(list_aa_tres)\n",
        "write_output(list_aa_um)"
      ]
    },
    {
      "cell_type": "markdown",
      "metadata": {
        "id": "LA_aj_DqE7Cl"
      },
      "source": [
        "## Exercício 9 - Lendo um Arquivo PDBx/MMCIF"
      ]
    },
    {
      "cell_type": "code",
      "execution_count": null,
      "metadata": {
        "colab": {
          "base_uri": "https://localhost:8080/",
          "height": 35
        },
        "id": "Im6TEvOMFBUC",
        "outputId": "c4833345-4af5-4c3d-9a97-c1a3e27db453"
      },
      "outputs": [
        {
          "data": {
            "application/vnd.google.colaboratory.intrinsic+json": {
              "type": "string"
            },
            "text/plain": [
              "'MNIFEMLRIDEGLRLKIYKDTEGYYTIGIGHLLTKSPSLNAAKSELDKAIGRNCNGVITKDEAEKLFNQDVDAAVRGILRNAKLKPVYDSLDAVRRCALINMVFQMGETGVAGFTNSLRMLQQKRWDEAAVNLAKSRWYNQTPNRAKRVITTFRTGTWDAYKNL'"
            ]
          },
          "execution_count": 50,
          "metadata": {},
          "output_type": "execute_result"
        }
      ],
      "source": [
        "import os\n",
        "\n",
        "def get_cif():\n",
        "    for file in os.listdir():\n",
        "        if file.split(\".\")[-1] == \"cif\":\n",
        "            cif = file\n",
        "    return cif\n",
        "\n",
        "def get_aa(cif_file):\n",
        "    inside = False\n",
        "    cont_colon = 0\n",
        "    sequence = []\n",
        "\n",
        "    with open(cif_file) as f:\n",
        "        for linha in f:\n",
        "            if linha.strip() == (\"_entity_poly.pdbx_seq_one_letter_code\"):\n",
        "                inside = True\n",
        "\n",
        "            if inside:\n",
        "                if linha.startswith(\";\"):\n",
        "                    cont_colon += 1\n",
        "                    if cont_colon == 2:\n",
        "                        break\n",
        "                sequence.append((linha).strip().replace(\";\",\"\"))\n",
        "    return \"\".join(sequence[1:])\n",
        "\n",
        "file = get_cif()\n",
        "get_aa(file)"
      ]
    },
    {
      "cell_type": "markdown",
      "metadata": {
        "id": "9e62vninZEpd"
      },
      "source": [
        "## Exercício 10 - Lendo um Arquivo PDB de Múltiplas Cadeias"
      ]
    },
    {
      "cell_type": "code",
      "execution_count": null,
      "metadata": {
        "id": "DFoL0HXOZjSp"
      },
      "outputs": [],
      "source": [
        "import os\n",
        "\n",
        "def get_pdb():\n",
        "    for file in os.listdir():\n",
        "        if file.split(\".\")[-1] == \"pdb\":\n",
        "            pdb = file\n",
        "    return pdb\n",
        "\n",
        "def get_chain(pdb_file):\n",
        "    output = []\n",
        "    with open(pdb_file) as f:\n",
        "        for linha in f:\n",
        "            if ((linha.startswith(\"ATOM\") or linha.startswith(\"HETATM\"))\n",
        "            and linha[21] == \"A\"):\n",
        "                output.append(linha)\n",
        "    with open(\"output.pdb\", \"w\") as f:\n",
        "        f.write(\"\".join(output))\n",
        "\n",
        "file = get_pdb()\n",
        "get_chain(file)"
      ]
    },
    {
      "cell_type": "markdown",
      "metadata": {
        "id": "p-QJygX9d_0H"
      },
      "source": [
        "## Exercício 11 - Obtendo Posições 3D de um Arquivo PDB"
      ]
    },
    {
      "cell_type": "code",
      "execution_count": null,
      "metadata": {
        "id": "ctyYkdqReGro"
      },
      "outputs": [],
      "source": [
        "import os\n",
        "\n",
        "def get_pdb():\n",
        "    for file in os.listdir():\n",
        "        if file == \"1b7v.pdb\":\n",
        "            pdb = file\n",
        "    return pdb\n",
        "\n",
        "def get_pos(pdb_file):\n",
        "    atoms = []\n",
        "    with open(pdb_file) as f:\n",
        "        for linha in f:\n",
        "            if (linha.startswith(\"ATOM\") and linha[13:15] == \"CA\"):\n",
        "                nome = linha[17:20]\n",
        "                pos = linha[22:26].strip()\n",
        "                chain = linha[21]\n",
        "                x = linha[32:38]\n",
        "                y = linha[40:46]\n",
        "                z = linha[48:54]\n",
        "                atoms.append(f\"{nome}-{pos}-{chain},{x},{y},{z}\")\n",
        "    with open (\"output11.csv\", \"w\") as f:\n",
        "        f.write(\"\\n\".join(atoms))\n",
        "\n",
        "file = get_pdb()\n",
        "get_pos(file)"
      ]
    },
    {
      "cell_type": "markdown",
      "metadata": {
        "id": "hU6wVk0IjE5X"
      },
      "source": [
        "## Exercício 12 - Distância Euclidiana Entre Pares de Átomos"
      ]
    },
    {
      "cell_type": "code",
      "execution_count": null,
      "metadata": {
        "colab": {
          "base_uri": "https://localhost:8080/"
        },
        "id": "lURsOhANjJ7Q",
        "outputId": "990070a8-db13-466e-9ad1-48cfafa89f2f"
      },
      "outputs": [
        {
          "data": {
            "text/plain": [
              "1.7320508075688772"
            ]
          },
          "execution_count": 128,
          "metadata": {},
          "output_type": "execute_result"
        }
      ],
      "source": [
        "import math\n",
        "\n",
        "def euclid(x1,y1,z1,x2,y2,z2):\n",
        "    dist = math.sqrt((x1-x2)**2 + (y1-y2)**2 + (z1-z2)**2)\n",
        "    return dist\n",
        "\n",
        "euclid(1,3,5,2,4,6)"
      ]
    },
    {
      "cell_type": "markdown",
      "metadata": {
        "id": "YibF_9tfmA_-"
      },
      "source": [
        "## Exercício 13 - Como Calcular a Matriz de Distância Entre Carbonos-Alfa de uma Proteína"
      ]
    },
    {
      "cell_type": "code",
      "execution_count": null,
      "metadata": {
        "id": "NpXOFHytmFrG"
      },
      "outputs": [],
      "source": [
        "import os\n",
        "import math\n",
        "\n",
        "def get_pdb():\n",
        "    for file in os.listdir():\n",
        "        if file == \"2lzm.pdb\":\n",
        "            pdb = file\n",
        "    return pdb\n",
        "\n",
        "def process(pdb_file):\n",
        "    coords = []\n",
        "    with open(pdb_file) as f:\n",
        "        for linha in f:\n",
        "            if linha.startswith(\"ATOM\") and linha[13:15] == \"CA\":\n",
        "                x = float(linha[32:38])\n",
        "                y = float(linha[40:46])\n",
        "                z = float(linha[48:54])\n",
        "                coords.append([x,y,z])\n",
        "    return coords\n",
        "\n",
        "def euclid(x1,x2,y1,y2,z1,z2):\n",
        "    dist = math.sqrt((x1-x2)**2 + (y1-y2)**2 + (z1-z2)**2)\n",
        "    return dist\n",
        "\n",
        "def gera_matriz(coords):\n",
        "    i = 0\n",
        "    matriz = [] # inicializa nova linha na matriz (quando começa um novo atom1)\n",
        "    for atom1 in coords: # primeiro átomo na comparação\n",
        "        matriz.append([])\n",
        "        for atom2 in coords: # segundo átomo na comparação\n",
        "            dist = euclid(atom1[0], atom2[0], # x\n",
        "                          atom1[1], atom2[1], # y\n",
        "                          atom1[2], atom2[2]) # z\n",
        "            matriz[i].append(dist)\n",
        "        i += 1\n",
        "    return matriz\n",
        "\n",
        "file = get_pdb()\n",
        "matriz = gera_matriz(process(file))\n",
        "\n",
        "#for linha in matriz:\n",
        "#    print(linha)"
      ]
    },
    {
      "cell_type": "markdown",
      "metadata": {
        "id": "QlKF08Oq2qSl"
      },
      "source": [
        "## Exercício 14 - Plotando Histogramas de Distância Entre Carbonos-Alfa"
      ]
    },
    {
      "cell_type": "code",
      "execution_count": null,
      "metadata": {
        "id": "Fr3knhP02yO4"
      },
      "outputs": [],
      "source": [
        "import matplotlib.pyplot as plt\n",
        "\n",
        "# utilizando o código gerado na questão anterior\n",
        "\n",
        "valores = []\n",
        "for linha in matriz:\n",
        "    for valor in linha:\n",
        "        valores.append(valor)\n",
        "\n",
        "plt.hist(valores, edgecolor=\"white\")\n",
        "plt.xlabel(\"Distância\")\n",
        "plt.ylabel(\"Frequência\")\n",
        "plt.title(\"Matriz de Distância\")\n",
        "plt.show()"
      ]
    },
    {
      "cell_type": "markdown",
      "metadata": {
        "id": "Lc8Fjn-R4jU0"
      },
      "source": [
        "## Exercício 15 - Calculando Ligações de Hidrogênio"
      ]
    },
    {
      "cell_type": "code",
      "execution_count": null,
      "metadata": {
        "colab": {
          "base_uri": "https://localhost:8080/"
        },
        "id": "ySqcXbdd4nGp",
        "outputId": "e118cc6a-7adc-45e8-d00d-dd7de9d5bc78"
      },
      "outputs": [
        {
          "name": "stdout",
          "output_type": "stream",
          "text": [
            "['SER0 - MET1 - Distance: 2.240834442791346', 'SER0 - GLU67 - Distance: 2.8590790475256185', 'SER0 - LEU68 - Distance: 3.8837680157290517', 'SER0 - GLY69 - Distance: 3.758104575447576', 'SER0 - GLU322 - Distance: 2.951529095231826', 'SER0 - ASP323 - Distance: 1.431213471149567', 'SER0 - ASP324 - Distance: 2.0954665351658535', 'SER0 - GLU416 - Distance: 3.5863980537581157', 'SER0 - MET1 - Distance: 3.621807559769018', 'SER0 - GLU322 - Distance: 2.073065604364706', 'SER0 - ASP323 - Distance: 2.8057136347104303', 'SER0 - ASP324 - Distance: 3.7321850168500506', 'MET1 - SER2 - Distance: 2.245389498505771', 'MET1 - SER196 - Distance: 3.4044597221879433', 'MET1 - ALA197 - Distance: 2.3863782181372644', 'MET1 - ILE38 - Distance: 2.918044036679361', 'MET1 - LEU68 - Distance: 3.312937971046246', 'MET1 - GLY69 - Distance: 3.3354660843726207', 'SER2 - LEU3 - Distance: 2.2526841767100874', 'SER2 - ALA197 - Distance: 2.56351204405207', 'SER2 - ARG198 - Distance: 1.21379652331023', 'SER2 - GLU199 - Distance: 3.2826065862360054', 'SER2 - LEU3 - Distance: 3.226094542941976', 'SER2 - ALA197 - Distance: 3.1166969695496545', 'SER2 - ARG198 - Distance: 2.4615340745153227', 'SER2 - ARG474 - Distance: 3.129313343211256', 'LEU3 - ARG198 - Distance: 3.7860223190044713', 'LEU3 - GLU199 - Distance: 1.8161291253652636', 'LEU3 - ARG474 - Distance: 2.7959474243983933', 'LEU3 - ARG474 - Distance: 3.6790858919030405', 'PRO4 - ASP6 - Distance: 3.1733800591798027', 'PRO4 - PHE7 - Distance: 2.961348510391843', 'PRO4 - GLU199 - Distance: 3.708218709838998', 'PRO5 - ASP6 - Distance: 2.19349173693452', 'PRO5 - PHE7 - Distance: 3.1306743682472', 'ASP6 - PHE7 - Distance: 2.2523043755229892', 'ASP6 - LYS8 - Distance: 3.2170672980215986', 'ASP6 - PHE134 - Distance: 3.1569885967484903', 'ASP6 - LEU135 - Distance: 1.3948268709771825', 'ASP6 - PHE7 - Distance: 3.2932165127728856', 'ASP6 - LEU135 - Distance: 3.489511427119848', 'ASP6 - VAL203 - Distance: 3.4320206875833366', 'ASP6 - ARG422 - Distance: 3.0555243412547037', 'ASP6 - LEU135 - Distance: 3.5738343554227594', 'ASP6 - ASN136 - Distance: 3.3798476297016706', 'ASP6 - LYS137 - Distance: 3.7825523129231144', 'ASP6 - ASN206 - Distance: 3.5273441850774927', 'ASP6 - ARG422 - Distance: 3.3694490647582143', 'PHE7 - LYS8 - Distance: 2.217996618572716', 'PHE7 - TRP9 - Distance: 3.80696164939969', 'PHE7 - ASN71 - Distance: 3.213075940590262', 'LYS8 - TRP9 - Distance: 2.2462620060892284', 'LYS8 - TYR424 - Distance: 2.7963944643057776', 'TRP9 - GLY10 - Distance: 2.245814106287518', 'TRP9 - ASN71 - Distance: 3.0461690695035286', 'TRP9 - SER72 - Distance: 2.951986619210867', 'GLY10 - PHE11 - Distance: 2.283300681031739', 'GLY10 - TRP32 - Distance: 2.481385500078535', 'GLY10 - ALA181 - Distance: 2.9574348682599916', 'PHE11 - ALA12 - Distance: 2.2784156776145985', 'PHE11 - ARG74 - Distance: 2.917096844467117', 'ALA12 - THR13 - Distance: 2.2621894261975513', 'ALA12 - LEU429 - Distance: 3.407840665289383', 'THR13 - ALA14 - Distance: 2.2619622012756997', 'THR13 - ALA14 - Distance: 3.4328759080397884', 'ALA14 - ALA15 - Distance: 2.2761656354492286', 'ALA14 - TYR16 - Distance: 3.39275478041075', 'ALA14 - GLN17 - Distance: 2.9856582188857446', 'ALA14 - ILE18 - Distance: 3.228923040272097', 'ALA14 - ASP237 - Distance: 3.0317435577568204', 'ALA15 - TYR16 - Distance: 2.2549980044337055', 'ALA15 - GLN17 - Distance: 3.0926910611957372', 'ALA15 - ILE18 - Distance: 3.207707125034957', 'ALA15 - GLU19 - Distance: 2.867461595209256', 'ALA15 - ILE257 - Distance: 3.298000303214058', 'TYR16 - ASP33 - Distance: 3.891543781071976', 'TYR16 - GLY48 - Distance: 3.0427208218960855', 'TYR16 - LEU65 - Distance: 3.6298236871782072', 'TYR16 - LEU326 - Distance: 2.513404464068607', 'TYR16 - GLY327 - Distance: 3.1344284965524403', 'GLN17 - ILE18 - Distance: 2.257180763696161', 'GLN17 - ASP237 - Distance: 3.4104281256170754', 'GLN17 - ALA238 - Distance: 3.017467978289082', 'GLN17 - LYS256 - Distance: 2.8663101716318136', 'GLN17 - PHE433 - Distance: 3.0799860389293987', 'GLN17 - HIS120 - Distance: 3.7964916699500355', 'GLN17 - ASP237 - Distance: 3.4679480964974077', 'GLN17 - TRP435 - Distance: 3.2224118296704414', 'ILE18 - GLU19 - Distance: 2.2637502070679094', 'ILE18 - GLY20 - Distance: 3.5656961452148455', 'ILE18 - CYS52 - Distance: 3.0385717039424947', 'ILE18 - ASP53 - Distance: 3.2666363433966734', 'ILE18 - SER54 - Distance: 3.106162584283058', 'ILE18 - THR239 - Distance: 2.701153457321516', 'GLU19 - GLY20 - Distance: 2.216327141917455', 'GLU19 - SER21 - Distance: 3.7334169335877845', 'GLU19 - ASP53 - Distance: 3.879737362245022', 'GLU19 - SER54 - Distance: 3.1037852696344825', 'GLU19 - TYR55 - Distance: 3.0478165955319576', 'GLU19 - ASP254 - Distance: 2.362241731914835', 'GLU19 - ARG81 - Distance: 2.8391401867466866', 'GLU19 - ARG81 - Distance: 3.131833648200364', 'GLU19 - GLU258 - Distance: 2.6329713253280964', 'GLY20 - SER21 - Distance: 2.2717017850061185', 'GLY20 - VAL22 - Distance: 3.11790474517744', 'GLY20 - ARG81 - Distance: 2.897475107744677', 'GLY20 - ASP254 - Distance: 2.992938522589459', 'GLY20 - ARG255 - Distance: 1.4288691332658812', 'GLY20 - LYS256 - Distance: 2.443278330440475', 'GLY20 - ILE257 - Distance: 2.970906090740668', 'GLY20 - GLU258 - Distance: 3.472584916168363', 'SER21 - VAL22 - Distance: 2.2734786121712256', 'SER21 - ASN23 - Distance: 3.242195089750153', 'SER21 - GLU24 - Distance: 3.2651843745797913', 'SER21 - GLU24 - Distance: 3.283675227546112', 'SER21 - ARG81 - Distance: 3.2553846162934454', 'SER21 - ARG81 - Distance: 3.1019879110015887', 'SER21 - ARG255 - Distance: 2.4554742922702295', 'SER21 - ASP254 - Distance: 2.7096274651693317', 'SER21 - ARG255 - Distance: 3.460324984737705', 'VAL22 - ASN23 - Distance: 2.2511561474051507', 'VAL22 - ARG27 - Distance: 2.9996208093690773', 'VAL22 - GLU60 - Distance: 3.421141476174292', 'VAL22 - ILE62 - Distance: 3.550359700086739', 'ASN23 - GLU24 - Distance: 2.248173925656106', 'ASN23 - GLU24 - Distance: 2.2398071345542223', 'ASN23 - GLU60 - Distance: 2.9086804568394924', 'ASN23 - ARG255 - Distance: 3.387562250350539', 'GLU24 - ASP25 - Distance: 2.267697951668166', 'GLU24 - GLY26 - Distance: 3.1689307344907376', 'GLU24 - ARG27 - Distance: 3.1978731994874363', 'GLU24 - ARG81 - Distance: 3.472486861026259', 'GLU24 - ASP25 - Distance: 2.2713698509930085', 'GLU24 - GLY26 - Distance: 3.149572193171639', 'GLU24 - ARG27 - Distance: 3.1735160311553505', 'GLU24 - ARG81 - Distance: 3.4830248348238912', 'GLU24 - LYS56 - Distance: 2.6794727093217436', 'GLU24 - ARG255 - Distance: 3.5474399219719017', 'GLU24 - LYS56 - Distance: 2.9372265830201116', 'ASP25 - GLY26 - Distance: 2.229608037301624', 'ASP25 - ARG27 - Distance: 3.420122951006292', 'ASP25 - ASN93 - Distance: 2.791749451508855', 'GLY26 - ARG27 - Distance: 2.245899819671392', 'GLY26 - GLY28 - Distance: 3.2971375464181034', 'GLY26 - ASP106 - Distance: 3.6303666481500194', 'GLY26 - ASP275 - Distance: 1.8207034354886023', 'GLY26 - SER276 - Distance: 2.340274770192592', 'ARG27 - GLY28 - Distance: 2.215759463479735', 'ARG27 - SER276 - Distance: 1.377595731700709', 'ARG27 - MET277 - Distance: 1.8894327190985118', 'ARG27 - ARG278 - Distance: 3.818443007300227', 'GLY28 - ARG27 - Distance: 3.4593775451661792', 'GLY28 - SER30 - Distance: 3.5784479876058004', 'GLY28 - LEU107 - Distance: 3.0731262583890038', 'GLY28 - MET277 - Distance: 1.9093145366858744', 'GLY28 - ARG278 - Distance: 3.5191881165973498', 'PRO29 - SER30 - Distance: 2.2563098191516184', 'PRO29 - LEU107 - Distance: 3.833963614850824', 'PRO29 - ASP125 - Distance: 2.8837811983574615', 'PRO29 - GLY418 - Distance: 2.587768343573281', 'PRO29 - CYS419 - Distance: 0.8576794272920389', 'SER30 - ILE31 - Distance: 2.2510017769873043', 'SER30 - TRP32 - Distance: 3.143075086599111', 'SER30 - ASP33 - Distance: 2.9901897933074455', 'SER30 - THR34 - Distance: 3.2448915236106104', 'SER30 - LYS66 - Distance: 2.9300104095378257', 'SER30 - ALA413 - Distance: 2.694100777625069', 'SER30 - VAL414 - Distance: 1.6366102162702034', 'SER30 - CYS419 - Distance: 3.803054693269604', 'SER30 - ARG27 - Distance: 3.714041868369285', 'SER30 - ILE31 - Distance: 3.1503475998689416', 'SER30 - TRP32 - Distance: 3.0333173259650894', 'SER30 - ASP33 - Distance: 3.4200499996345095', 'ILE31 - TRP32 - Distance: 2.2304591455572553', 'ILE31 - ASP33 - Distance: 3.799601294872925', 'ILE31 - THR34 - Distance: 3.6640177401317247', 'ILE31 - PHE35 - Distance: 2.973550234988471', 'ILE31 - ALA70 - Distance: 2.226286145130496', 'ILE31 - PHE325 - Distance: 3.650863048650276', 'ILE31 - ALA412 - Distance: 2.934813281965311', 'ILE31 - ALA413 - Distance: 2.884731876622158', 'ILE31 - VAL414 - Distance: 2.925599767569035', 'TRP32 - ASP33 - Distance: 2.3085012453971085', 'TRP32 - THR34 - Distance: 3.437410362467656', 'TRP32 - PHE35 - Distance: 3.422268399760605', 'TRP32 - CYS36 - Distance: 2.934899146478457', 'TRP32 - LEU65 - Distance: 2.374898103077267', 'TRP32 - PHE325 - Distance: 2.159756699260359', 'TRP32 - LEU326 - Distance: 1.8478363022735533', 'TRP32 - ALA413 - Distance: 3.013711001406741', 'ASP33 - THR34 - Distance: 2.216303679552967', 'ASP33 - PHE35 - Distance: 3.7027574859825765', 'ASP33 - CYS36 - Distance: 3.571198818324175', 'ASP33 - ALA37 - Distance: 3.492455583110544', 'ASP33 - LEU64 - Distance: 2.8229498755734217', 'ASP33 - LEU65 - Distance: 2.048723749069161', 'ASP33 - LYS66 - Distance: 2.6986785655205385', 'ASP33 - GLU67 - Distance: 2.5384117081356212', 'ASP33 - LEU68 - Distance: 3.393052460543454', 'ASP33 - GLN280 - Distance: 3.78054546328966', 'ASP33 - ASP324 - Distance: 3.6455653882491252', 'ASP33 - PHE325 - Distance: 1.8542062992019002', 'ASP33 - LEU326 - Distance: 2.746739703721486', 'ASP33 - GLY327 - Distance: 3.6412554153753076', 'ASP33 - ARG358 - Distance: 1.8317363347381617', 'ASP33 - ARG358 - Distance: 2.8037913617100667', 'ASP33 - ARG358 - Distance: 3.0150729676079138', 'ASP33 - ALA412 - Distance: 3.8753886256735606', 'ASP33 - ALA413 - Distance: 2.8263846164313904', 'ASP33 - ARG27 - Distance: 3.188437077942734', 'ASP33 - ARG27 - Distance: 3.066943266511463', 'ASP33 - SER30 - Distance: 2.8278836609733413', 'ASP33 - ILE62 - Distance: 2.602211751568269', 'ASP33 - LEU65 - Distance: 3.6976999607864376', 'ASP33 - GLY327 - Distance: 3.850227395881962', 'ASP33 - ASN362 - Distance: 2.109939335620814', 'ASP33 - ARG27 - Distance: 3.103663641569429', 'ASP33 - ILE62 - Distance: 1.0930329363747473', 'ASP33 - ALA63 - Distance: 2.6101250927877', 'ASP33 - LEU64 - Distance: 3.398182013959816', 'ASP33 - LEU65 - Distance: 3.769430460958261', 'ASP33 - GLY327 - Distance: 2.3729694477594934', 'ASP33 - ASN362 - Distance: 0.5238119891716875', 'THR34 - PHE35 - Distance: 2.2518059419052974', 'THR34 - CYS36 - Distance: 3.3473864431822005', 'THR34 - ALA37 - Distance: 3.146349789835834', 'THR34 - ILE38 - Distance: 3.825012548999021', 'THR34 - GLU67 - Distance: 2.2424760868290226', 'THR34 - LEU68 - Distance: 0.8750794249666678', 'THR34 - GLY69 - Distance: 2.477033709903845', 'THR34 - ASP323 - Distance: 3.3992555067249675', 'THR34 - ASP324 - Distance: 1.0979426214515968', 'THR34 - PHE325 - Distance: 3.0012070904887596', 'THR34 - ALA412 - Distance: 2.177204170490219', 'THR34 - LYS66 - Distance: 2.30379122317974', 'THR34 - GLU67 - Distance: 3.6586027387514997', 'THR34 - TRP201 - Distance: 3.2308593284140414', 'THR34 - ARG284 - Distance: 3.217772676868271', 'THR34 - ALA412 - Distance: 3.5645124491296123', 'THR34 - ALA413 - Distance: 3.068187412789509', 'THR34 - VAL414 - Distance: 2.6150013384317807', 'THR34 - ALA415 - Distance: 1.8441588868641459', 'THR34 - GLU416 - Distance: 2.197506313984102', 'THR34 - ASP417 - Distance: 3.5470052156713847', 'PHE35 - CYS36 - Distance: 2.285129536809678', 'PHE35 - ALA37 - Distance: 3.270499656015881', 'PHE35 - ILE38 - Distance: 3.1120324548436176', 'PHE35 - LEU68 - Distance: 2.717421756003294', 'CYS36 - ALA37 - Distance: 2.2536534782437108', 'CYS36 - ILE38 - Distance: 3.315499057457264', 'CYS36 - LEU326 - Distance: 3.392912613080392', 'ALA37 - ILE38 - Distance: 2.253694522334382', 'ILE38 - GLY40 - Distance: 3.371626610406322', 'ILE38 - LYS41 - Distance: 3.3484895102120302', 'ILE38 - LYS463 - Distance: 3.4050886919432797', 'PRO39 - GLY40 - Distance: 2.262703250539054', 'PRO39 - LYS41 - Distance: 3.434593716875402', 'GLY40 - LYS41 - Distance: 2.2328298188621525', 'GLY40 - ILE42 - Distance: 3.7261677364284083', 'GLY40 - SER461 - Distance: 3.143225413488509', 'GLY40 - LYS463 - Distance: 3.2320327968632983', 'GLY40 - SER464 - Distance: 2.7676114250378396', 'LYS41 - ILE42 - Distance: 2.2850676138792907', 'LYS41 - SER461 - Distance: 3.081209827324326', 'LYS41 - ALA462 - Distance: 1.0378795691215823', 'LYS41 - LYS463 - Distance: 2.793574412826693', 'LYS41 - SER464 - Distance: 3.6028046019733018', 'ILE42 - ALA43 - Distance: 2.2415182354823706', 'ILE42 - ASP44 - Distance: 3.1374322303437907', 'ILE42 - GLY45 - Distance: 2.8606420607968417', 'ILE42 - LYS459 - Distance: 1.9603566002133381', 'ILE42 - LYS460 - Distance: 1.8514885902970104', 'ILE42 - SER461 - Distance: 3.4120776661735', 'ILE42 - ALA462 - Distance: 3.683310196005759', 'ALA43 - ASP44 - Distance: 2.223572575833763', 'ALA43 - GLY45 - Distance: 3.8201166212564766', 'ALA43 - LEU394 - Distance: 3.2565345077244268', 'ALA43 - GLU395 - Distance: 2.9309762878604078', 'ALA43 - ASP396 - Distance: 3.3936272629739404', 'ALA43 - LYS460 - Distance: 2.701090890732854', 'ASP44 - GLY45 - Distance: 2.221217909166049', 'ASP44 - SER46 - Distance: 3.306427225873873', 'ASP44 - LYS459 - Distance: 3.6925904186627574', 'ASP44 - GLY45 - Distance: 3.343367613649448', 'ASP44 - SER46 - Distance: 3.152840782532477', 'ASP44 - LYS459 - Distance: 3.0541646975891794', 'ASP44 - TYR439 - Distance: 3.03985279248848', 'GLY45 - SER46 - Distance: 2.227922350531994', 'SER46 - SER47 - Distance: 2.261568703356144', 'SER46 - SER47 - Distance: 3.3234695726002923', 'SER46 - THR331 - Distance: 2.6900765788356273', 'SER46 - LEU332 - Distance: 3.882596038734909', 'SER47 - GLY48 - Distance: 2.2384561644133285', 'SER47 - ALA49 - Distance: 3.088171789263027', 'SER47 - THR331 - Distance: 2.8911751935847816', 'SER47 - GLN355 - Distance: 3.8168004925591825', 'SER47 - GLY48 - Distance: 3.156332206850224', 'SER47 - ALA49 - Distance: 2.99809172641532', 'SER47 - LEU329 - Distance: 2.8058754427094597', 'SER47 - GLU330 - Distance: 2.689339881829739', 'SER47 - GLN355 - Distance: 0.627895691974393', 'GLY48 - ALA49 - Distance: 2.2431910306525387', 'GLY48 - VAL50 - Distance: 3.318057865679863', 'GLY48 - ALA51 - Distance: 3.8166680494902856', 'GLY48 - LYS256 - Distance: 2.871996344008818', 'ALA49 - VAL50 - Distance: 2.3081347447668628', 'ALA49 - ALA51 - Distance: 2.777600583237266', 'ALA49 - ILE313 - Distance: 3.8985660184226716', 'ALA49 - LYS314 - Distance: 3.5885168245390737', 'VAL50 - GLY20 - Distance: 3.613085108325017', 'VAL50 - ALA51 - Distance: 2.2321330605499297', 'VAL50 - CYS52 - Distance: 3.105855276731354', 'VAL50 - ASP53 - Distance: 2.7909149037546808', 'VAL50 - CYS253 - Distance: 3.049026237997962', 'ALA51 - CYS52 - Distance: 2.2307911152772677', 'ALA51 - ASP53 - Distance: 3.5172111110935624', 'ALA51 - THR239 - Distance: 3.8741235137770205', 'ALA51 - LEU240 - Distance: 1.7300063583698184', 'ALA51 - ILE313 - Distance: 3.4403595742305773', 'CYS52 - ASP53 - Distance: 2.2658587775940493', 'CYS52 - SER54 - Distance: 3.1659148756717963', 'CYS52 - THR239 - Distance: 3.6974370853335694', 'CYS52 - LEU240 - Distance: 3.2951840616269124', 'CYS52 - ARG456 - Distance: 2.817098862304981', 'CYS52 - ARG456 - Distance: 3.008242510171013', 'CYS52 - ALA238 - Distance: 3.07156149214044', 'CYS52 - THR239 - Distance: 1.7120905349893172', 'CYS52 - ASN311 - Distance: 3.6565695672310152', 'ASP53 - SER54 - Distance: 2.2313731198524356', 'ASP53 - TYR55 - Distance: 3.427871205281788', 'ASP53 - LYS56 - Distance: 3.44486821228331', 'ASP53 - ARG57 - Distance: 3.371353734036229', 'ASP53 - CYS253 - Distance: 3.787016899883073', 'ASP53 - ASP254 - Distance: 3.644438777095867', 'SER54 - TYR55 - Distance: 2.2411597444180544', 'SER54 - LYS56 - Distance: 3.317503428784966', 'SER54 - ARG57 - Distance: 3.1420919782845314', 'SER54 - THR58 - Distance: 3.51905257136065', 'SER54 - TRP363 - Distance: 2.627431255047409', 'SER54 - LEU360 - Distance: 3.678866809222644', 'SER54 - ARG456 - Distance: 3.1580506645714244', 'TYR55 - ARG367 - Distance: 3.072248850597884', 'LYS56 - ARG57 - Distance: 2.192329354818753', 'ARG57 - THR58 - Distance: 2.251174138088829', 'ARG57 - LYS59 - Distance: 3.313895140163611', 'ARG57 - ASP61 - Distance: 2.9627065328850923', 'THR58 - LYS59 - Distance: 2.2185278902912176', 'THR58 - ASP61 - Distance: 3.2647111663974218', 'THR58 - TRP363 - Distance: 3.896663957797745', 'THR58 - LYS366 - Distance: 2.7267403616772907', 'THR58 - LYS59 - Distance: 3.1079633202468746', 'THR58 - LYS366 - Distance: 2.822197193677294', 'LYS59 - ASN23 - Distance: 3.347737892965936', 'LYS59 - ASN23 - Distance: 2.4532873863451043', 'LYS59 - GLU60 - Distance: 2.2758826859045245', 'LYS59 - ILE62 - Distance: 3.4766399008237827', 'LYS59 - ALA63 - Distance: 2.9895165160942', 'LYS59 - ARG255 - Distance: 2.737843677056817', 'GLU60 - ILE62 - Distance: 3.523719767518412', 'GLU60 - ALA63 - Distance: 3.316450662982942', 'GLU60 - LEU64 - Distance: 2.879260495335565', 'GLU60 - ARG255 - Distance: 3.365494614466052', 'GLU60 - GLY327 - Distance: 2.463738216613121', 'GLU60 - ASN328 - Distance: 2.0716510323893855', 'GLU60 - LEU329 - Distance: 3.782521645675015', 'GLU60 - ARG358 - Distance: 3.8561904776605647', 'GLU60 - ASN362 - Distance: 3.5216577062514185', 'GLU60 - ARG57 - Distance: 2.953372817644262', 'GLU60 - ARG57 - Distance: 2.6054302907581324', 'GLU60 - ARG255 - Distance: 3.6429501780836913', 'GLU60 - HIS315 - Distance: 2.9803712855951345', 'GLU60 - LYS316 - Distance: 3.068685875093766', 'GLU60 - LEU329 - Distance: 3.298689133580186', 'GLU60 - GLU330 - Distance: 3.86323413735176', 'ASP61 - ASP33 - Distance: 3.2784127256951634', 'ASP61 - ILE62 - Distance: 2.24856665456019', 'ASP61 - ALA63 - Distance: 3.5137478566339957', 'ASP61 - LEU64 - Distance: 3.2551285688894067', 'ASP61 - LEU65 - Distance: 3.0190139118593033', 'ASP61 - LEU326 - Distance: 3.216116135962755', 'ASP61 - GLY327 - Distance: 1.797239271772125', 'ASP61 - ARG358 - Distance: 3.7643573156649226', 'ASP61 - ASN362 - Distance: 1.5879464726495023', 'ASP61 - ASP359 - Distance: 2.6090827890275907', 'ASP61 - LEU360 - Distance: 3.5010706933736713', 'ASP61 - ARG456 - Distance: 3.2402078637025733', 'ASP61 - ARG456 - Distance: 2.9311057640419587', 'ASP61 - ASP359 - Distance: 3.513727507932282', 'ASP61 - LEU360 - Distance: 2.35492420260186', 'ASP61 - ARG456 - Distance: 3.44996304328032', 'ILE62 - SER30 - Distance: 3.59375569564766', 'ILE62 - ASP33 - Distance: 3.5569866460249746', 'ILE62 - THR34 - Distance: 3.426702788395864', 'ILE62 - ALA63 - Distance: 2.2602172461955954', 'ILE62 - LEU64 - Distance: 3.3464915956864405', 'ILE62 - LEU65 - Distance: 3.2439865906011387', 'ILE62 - LYS66 - Distance: 2.973559483178367', 'ILE62 - GLN280 - Distance: 2.56227906364627', 'ILE62 - GLY327 - Distance: 3.6369961506715933', 'ILE62 - ARG358 - Distance: 3.681168021158504', 'ILE62 - ASN362 - Distance: 3.249769530289802', 'ILE62 - ALA413 - Distance: 3.6701158019877234', 'ILE62 - ASP417 - Distance: 2.942046226693251', 'ALA63 - THR34 - Distance: 3.493126965914638', 'ALA63 - LEU64 - Distance: 2.255293772438525', 'ALA63 - LEU65 - Distance: 3.6063506485088204', 'ALA63 - LYS66 - Distance: 3.4119771394310328', 'ALA63 - GLU67 - Distance: 2.8682322081728318', 'ALA63 - GLN280 - Distance: 1.9111457296606162', 'ALA63 - GLY327 - Distance: 3.846786840988203', 'ALA63 - ASN328 - Distance: 3.5002469912850445', 'ALA63 - ARG358 - Distance: 1.9492044531038817', 'ALA63 - ARG358 - Distance: 2.635731397544144', 'ALA63 - ARG358 - Distance: 0.9550136124684324', 'LEU64 - ASP33 - Distance: 3.4901724885741676', 'LEU64 - THR34 - Distance: 2.6657407976020515', 'LEU64 - PHE35 - Distance: 3.2441669192567777', 'LEU64 - CYS36 - Distance: 2.5450801559086487', 'LEU64 - ALA37 - Distance: 2.9456968615253016', 'LEU64 - LEU65 - Distance: 2.2441766864487294', 'LEU64 - LYS66 - Distance: 3.336182548962209', 'LEU64 - GLU67 - Distance: 3.0563059401833454', 'LEU64 - LEU68 - Distance: 2.9304056033252444', 'LEU64 - ASP324 - Distance: 3.7508730983598997', 'LEU64 - PHE325 - Distance: 1.4588533168211282', 'LEU64 - LEU326 - Distance: 2.4008117377253892', 'LEU64 - ARG358 - Distance: 2.489174963717897', 'LEU64 - ARG358 - Distance: 3.097831176807412', 'LEU64 - ALA412 - Distance: 3.6360444166704022', 'LEU64 - ALA413 - Distance: 3.0421663333881033', 'LEU65 - TRP32 - Distance: 3.652295442594973', 'LEU65 - ASP33 - Distance: 3.3060402296402884', 'LEU65 - THR34 - Distance: 1.6994722710300394', 'LEU65 - PHE35 - Distance: 1.680214569630913', 'LEU65 - LYS66 - Distance: 2.212258122371799', 'LEU65 - GLU67 - Distance: 3.4787569619046397', 'LEU65 - LEU68 - Distance: 3.186418208584677', 'LEU65 - GLY69 - Distance: 3.162478932736152', 'LEU65 - ALA70 - Distance: 3.2037687182441874', 'LEU65 - ASP324 - Distance: 3.556700858942171', 'LEU65 - PHE325 - Distance: 1.9095405206488802', 'LEU65 - ALA412 - Distance: 1.432565879811466', 'LEU65 - ALA413 - Distance: 1.3764207205647558', 'LEU65 - VAL414 - Distance: 2.9987584097422713', 'LYS66 - MET1 - Distance: 3.1695143161058623', 'LYS66 - THR34 - Distance: 3.5160473546299107', 'LYS66 - PHE35 - Distance: 3.530145039513247', 'LYS66 - GLU67 - Distance: 2.218368995455896', 'LYS66 - LEU68 - Distance: 3.234146873597423', 'LYS66 - GLY69 - Distance: 3.1408950953510058', 'LYS66 - ASP323 - Distance: 2.414960455162776', 'LYS66 - ASP324 - Distance: 1.6539993954049659', 'LYS66 - ALA412 - Distance: 2.8634587477384748', 'LYS66 - ALA415 - Distance: 3.894618980080076', 'LYS66 - GLU416 - Distance: 3.2739268470752334', 'GLU67 - ALA37 - Distance: 3.182515357386354', 'GLU67 - ILE38 - Distance: 2.365543912084488', 'GLU67 - LEU68 - Distance: 2.243762242306438', 'GLU67 - GLY69 - Distance: 3.494712720668184', 'GLU67 - ASP323 - Distance: 3.060302762799789', 'GLU67 - ASP324 - Distance: 2.1749779309225232', 'GLU67 - ALA37 - Distance: 3.1684829177383955', 'GLU67 - ARG358 - Distance: 2.300936765754334', 'GLU67 - ALA37 - Distance: 3.150113172570151', 'GLU67 - ILE38 - Distance: 3.432338707062578', 'GLU67 - LYS316 - Distance: 3.8119744227893255', 'LEU68 - PHE35 - Distance: 3.276678043384796', 'LEU68 - GLY69 - Distance: 2.2535077102153442', 'LEU68 - ALA70 - Distance: 3.6443062439921294', 'LEU68 - ALA412 - Distance: 3.499020863041547', 'GLY69 - ALA70 - Distance: 2.219212022317832', 'GLY69 - ASN71 - Distance: 3.4125943210408103', 'ALA70 - ILE31 - Distance: 3.5107705706867254', 'ALA70 - ASN71 - Distance: 2.2321384365670505', 'ALA70 - TRP201 - Distance: 2.19631464048301', 'ALA70 - VAL414 - Distance: 2.8704205266824583', 'ALA70 - ALA415 - Distance: 3.3926865460870395', 'ASN71 - SER72 - Distance: 2.229896858601311', 'ASN71 - THR113 - Distance: 2.84212895555427', 'ASN71 - ASP128 - Distance: 3.8714112413950583', 'ASN71 - TRP9 - Distance: 2.8554405964754386', 'ASN71 - SER72 - Distance: 3.133946713012204', 'SER72 - PHE11 - Distance: 3.4979978559170095', 'SER72 - TRP32 - Distance: 3.7372420312310526', 'SER72 - TYR73 - Distance: 2.2739617411029536', 'SER72 - LEU123 - Distance: 3.2390568071585286', 'SER72 - TRP9 - Distance: 3.833661826504786', 'TYR73 - LEU360 - Distance: 3.6187902674789', 'TYR73 - LEU361 - Distance: 1.7593439118034877', 'ARG74 - THR13 - Distance: 2.8624227500493378', 'ARG74 - PHE75 - Distance: 2.2617791669391574', 'PHE75 - SER76 - Distance: 2.2416614374164547', 'PHE75 - THR117 - Distance: 2.9398178515003277', 'SER76 - ILE77 - Distance: 2.3058252318855392', 'SER76 - ALA15 - Distance: 2.883349614597584', 'SER76 - ILE77 - Distance: 3.4884285860541837', 'ILE77 - SER78 - Distance: 2.2129161755475506', 'ILE77 - TRP79 - Distance: 3.24404346456702', 'ILE77 - SER262 - Distance: 3.368898484668246', 'ILE77 - TRP263 - Distance: 3.789697349393486', 'ILE77 - PHE264 - Distance: 2.8453031472937993', 'ILE77 - ALA265 - Distance: 1.234786621242711', 'ILE77 - ASP266 - Distance: 3.5310368165738457', 'SER78 - TRP79 - Distance: 2.2228245544801775', 'SER78 - SER80 - Distance: 3.17692650214008', 'SER78 - ARG81 - Distance: 2.917288638444952', 'SER78 - ILE82 - Distance: 3.4923530749338605', 'SER78 - TRP263 - Distance: 3.2381385084643965', 'SER78 - ASP266 - Distance: 2.5815518588631883', 'SER78 - ARG27 - Distance: 3.203157973001017', 'SER78 - TRP79 - Distance: 3.6061030212682517', 'SER78 - SER80 - Distance: 3.7264157041317887', 'SER78 - ARG81 - Distance: 3.6584820622766476', 'SER78 - PHE259 - Distance: 3.7836473144308784', 'SER78 - SER262 - Distance: 2.7955532547243664', 'SER78 - TRP263 - Distance: 2.013162934290218', 'TRP79 - SER80 - Distance: 2.246028940151931', 'TRP79 - ARG81 - Distance: 3.126825067060837', 'TRP79 - ILE82 - Distance: 2.8015681323144705', 'TRP79 - ILE83 - Distance: 2.789829206241843', 'TRP79 - TYR273 - Distance: 2.6214028686945468', 'SER80 - GLY28 - Distance: 2.895660373731698', 'SER80 - ARG81 - Distance: 2.2682087646422673', 'SER80 - ILE82 - Distance: 3.882665579212304', 'SER80 - ASP106 - Distance: 2.5059726654534775', 'SER80 - LEU107 - Distance: 2.8497231444475446', 'SER80 - ASP275 - Distance: 2.7334531274561855', 'SER80 - ARG27 - Distance: 3.6276379367296268', 'SER80 - ARG27 - Distance: 3.8222985231402298', 'SER80 - ARG81 - Distance: 3.636692040852511', 'SER80 - LEU107 - Distance: 3.010439502796893', 'ARG81 - ILE82 - Distance: 2.2477248497091464', 'ARG81 - ASN93 - Distance: 2.9881191408643684', 'ARG81 - LYS272 - Distance: 3.4626414772540364', 'ARG81 - ASP275 - Distance: 3.8905126911501005', 'ILE82 - ILE83 - Distance: 2.2744232235887845', 'ILE82 - ASN93 - Distance: 2.875970444910726', 'ILE82 - LYS272 - Distance: 2.672301816786419', 'ILE82 - LYS272 - Distance: 3.1989030932493105', 'ILE82 - TYR273 - Distance: 3.3043636301109465', 'ILE83 - LEU85 - Distance: 2.9592466946843072', 'ILE83 - GLY86 - Distance: 2.761843768209924', 'ILE83 - ASP106 - Distance: 3.5317429125008504', 'ILE83 - LEU107 - Distance: 3.7844250554080237', 'ILE83 - ILE108 - Distance: 3.0896462580690383', 'ILE83 - TYR273 - Distance: 1.9963792224925603', 'PRO84 - LEU85 - Distance: 2.2557725949217486', 'PRO84 - ASP106 - Distance: 2.9510789552297654', 'PRO84 - LEU107 - Distance: 2.0784104503201486', 'PRO84 - ILE108 - Distance: 1.893885160193192', 'PRO84 - GLU109 - Distance: 2.2084766242819973', 'PRO84 - ALA110 - Distance: 3.6224121797498414', 'PRO84 - ARG278 - Distance: 2.6860923290162613', 'PRO84 - ARG278 - Distance: 3.50894200579035', 'PRO84 - ARG278 - Distance: 3.825530812841533', 'LEU85 - GLY86 - Distance: 2.2543276159422807', 'LEU85 - GLY87 - Distance: 3.3438675212992526', 'LEU85 - ILE108 - Distance: 3.291376915517276', 'LEU85 - GLU109 - Distance: 3.3842024171139626', 'LEU85 - ARG278 - Distance: 3.6153641586982626', 'LEU85 - ARG278 - Distance: 2.361932471515645', 'LEU85 - GLU287 - Distance: 3.4063685942657456', 'GLY86 - TRP79 - Distance: 3.016196611628625', 'GLY86 - GLY87 - Distance: 2.2773078404115683', 'GLY86 - PHE288 - Distance: 3.3726643770170788', 'GLY87 - ARG88 - Distance: 2.2240076438717566', 'GLY87 - ASN89 - Distance: 3.21238058143801', 'GLY87 - ASP90 - Distance: 3.091144448258606', 'GLY87 - LYS157 - Distance: 3.881782451400388', 'GLY87 - PHE288 - Distance: 1.7709785430659508', 'ARG88 - ASN89 - Distance: 2.243902404294804', 'ARG88 - ASP90 - Distance: 3.8652162940772175', 'ARG88 - THR289 - Distance: 3.0522088722759464', 'ASN89 - ASP90 - Distance: 2.2061443742420868', 'ASN89 - THR289 - Distance: 3.732264728017028', 'ASP90 - ILE92 - Distance: 3.541916006909254', 'ASP90 - LYS157 - Distance: 1.7128038416584677', 'ASP90 - ARG130 - Distance: 3.5464396230585975', 'ASP90 - ARG130 - Distance: 3.0700205211040537', 'ASP90 - GLY87 - Distance: 2.7315830574961484', 'ASP90 - ARG130 - Distance: 2.666607020166264', 'ASP90 - ARG130 - Distance: 3.313006338659797', 'ASP90 - ARG278 - Distance: 3.3019274674044565', 'ASP90 - GLU287 - Distance: 2.3124076197764087', 'ASP90 - PHE288 - Distance: 3.1956351481356573', 'PRO91 - ILE92 - Distance: 2.243242519211866', 'PRO91 - LYS157 - Distance: 2.3123029645788185', 'ILE92 - ASN93 - Distance: 2.2448906432162805', 'ILE92 - GLN94 - Distance: 3.7582754023620994', 'ILE92 - LYS272 - Distance: 3.7758343448832594', 'ASN93 - GLN94 - Distance: 2.229680246133959', 'ASN93 - LYS95 - Distance: 3.3159319956838673', 'ASN93 - GLY96 - Distance: 2.9505648611748896', 'ASN93 - ILE97 - Distance: 3.2701787412922867', 'ASN93 - LYS272 - Distance: 3.1705187272747666', 'ASN93 - GLN94 - Distance: 3.8745237126645624', 'ASN93 - LYS95 - Distance: 2.9846254371361236', 'ASN93 - LYS272 - Distance: 3.034139251913136', 'GLN94 - LYS95 - Distance: 2.2231666604193205', 'GLN94 - GLY96 - Distance: 3.2387204263412417', 'GLN94 - ILE97 - Distance: 3.227231940843423', 'GLN94 - ASP98 - Distance: 2.8551045515006988', 'LYS95 - GLY96 - Distance: 2.256250429362841', 'LYS95 - ILE97 - Distance: 3.7065876490378593', 'LYS95 - ASP98 - Distance: 3.600468858357201', 'LYS95 - HIS99 - Distance: 3.1059892144049694', 'GLY96 - ILE97 - Distance: 2.2582287306648094', 'GLY96 - ASP98 - Distance: 3.447331866821062', 'GLY96 - HIS99 - Distance: 3.302000605693463', 'GLY96 - TYR100 - Distance: 3.3826470404108098', 'GLY96 - ARG367 - Distance: 3.733088399703388', 'ILE97 - ASP98 - Distance: 2.232476203680568', 'ILE97 - HIS99 - Distance: 3.175224558987915', 'ILE97 - TYR100 - Distance: 3.0523161697307852', 'ILE97 - VAL101 - Distance: 3.002192199043891', 'ASP98 - HIS99 - Distance: 2.2448193691252754', 'ASP98 - TYR100 - Distance: 3.4507594816214042', 'ASP98 - VAL101 - Distance: 3.5038117814745693', 'ASP98 - LYS102 - Distance: 2.972765379238664', 'ASP98 - GLN94 - Distance: 2.9606082145397066', 'HIS99 - TYR100 - Distance: 2.2309982070813072', 'HIS99 - VAL101 - Distance: 3.6101862832823493', 'HIS99 - LYS102 - Distance: 3.5254596863387935', 'HIS99 - PHE103 - Distance: 2.9667163666248926', 'HIS99 - ARG367 - Distance: 2.3431604725242368', 'HIS99 - TYR368 - Distance: 3.2734512368446884', 'TYR100 - SER78 - Distance: 3.241027769088071', 'TYR100 - ARG81 - Distance: 3.8121067666055746', 'TYR100 - SER262 - Distance: 3.843117744748396', 'TYR100 - ARG367 - Distance: 2.914822979187586', 'VAL101 - LYS102 - Distance: 2.246152488145006', 'VAL101 - PHE103 - Distance: 3.4512155829504474', 'VAL101 - VAL104 - Distance: 3.356726232506905', 'VAL101 - ASP105 - Distance: 3.030719056593667', 'VAL101 - GLY369 - Distance: 2.5639547577911754', 'VAL101 - TYR370 - Distance: 3.679598619414896', 'LYS102 - PHE103 - Distance: 2.268168864965747', 'LYS102 - VAL104 - Distance: 3.3392672848994893', 'LYS102 - ASP105 - Distance: 3.131696824406859', 'PHE103 - VAL104 - Distance: 2.2367945815384997', 'PHE103 - ASP105 - Distance: 3.4757135957958303', 'PHE103 - LYS366 - Distance: 2.6729380838320997', 'PHE103 - TYR370 - Distance: 3.2697328637061425', 'VAL104 - SER80 - Distance: 3.502554781869941', 'VAL104 - ILE83 - Distance: 3.207554987837309', 'VAL104 - LEU85 - Distance: 3.375800645772791', 'VAL104 - GLY86 - Distance: 3.303464544989093', 'VAL104 - ASP106 - Distance: 3.3823602705802913', 'VAL104 - LEU107 - Distance: 3.1868806064865374', 'VAL104 - ILE108 - Distance: 2.8946521379951684', 'VAL104 - TYR273 - Distance: 2.2667353175878318', 'ASP105 - LEU85 - Distance: 1.4142390179881201', 'ASP105 - GLY86 - Distance: 3.872715068269288', 'ASP105 - ASP106 - Distance: 2.2440902388273045', 'ASP105 - LEU107 - Distance: 3.5357943944748813', 'ASP105 - ILE108 - Distance: 3.407900966870956', 'ASP105 - GLU109 - Distance: 2.918235254396054', 'ASP105 - ARG278 - Distance: 3.6286110290302527', 'ASP105 - ARG278 - Distance: 2.5421789866175843', 'ASP105 - ARG278 - Distance: 3.4285335057426534', 'ASP105 - ILE83 - Distance: 3.20740549354147', 'ASP105 - ILE92 - Distance: 3.2816498899181794', 'ASP105 - ASN93 - Distance: 3.5204921530945077', 'ASP105 - LYS157 - Distance: 2.962231253632976', 'ASP105 - LYS272 - Distance: 3.8965194725549623', 'ASP105 - TYR273 - Distance: 3.367748506049702', 'ASP106 - GLY28 - Distance: 3.004093706927266', 'ASP106 - LEU107 - Distance: 2.254233794441028', 'ASP106 - ILE108 - Distance: 3.614207105299858', 'ASP106 - GLU109 - Distance: 3.4532212497898276', 'ASP106 - ALA110 - Distance: 3.116216295445487', 'ASP106 - MET277 - Distance: 3.2113961138420795', 'ASP106 - ARG278 - Distance: 1.0142987725517576', 'ASP106 - LYS279 - Distance: 3.6696547521531238', 'ASP106 - ARG27 - Distance: 3.5265508645133674', 'ASP106 - GLY28 - Distance: 3.2508357386985884', 'ASP106 - ASP275 - Distance: 2.780899494767836', 'ASP106 - SER276 - Distance: 3.0751473135445044', 'ASP106 - ARG278 - Distance: 3.8165080898643473', 'ASP106 - GLY26 - Distance: 3.46875784683797', 'ASP106 - ARG27 - Distance: 1.3474457317458084', 'ASP106 - GLY28 - Distance: 2.8341901841619594', 'ASP106 - ASP275 - Distance: 1.8514019012629315', 'ASP106 - SER276 - Distance: 1.3487831552922052', 'ASP106 - MET277 - Distance: 3.7118698791848868', 'LEU107 - ILE108 - Distance: 2.2476934844413248', 'LEU107 - GLU109 - Distance: 3.440563035318492', 'LEU107 - ALA110 - Distance: 3.2325075405944537', 'LEU107 - GLY111 - Distance: 3.2332400158355066', 'LEU107 - ILE112 - Distance: 2.865147465663853', 'LEU107 - ASP125 - Distance: 2.434729143046511', 'LEU107 - ALA126 - Distance: 3.342702050736798', 'LEU107 - CYS419 - Distance: 2.456935082577484', 'LEU107 - ASN420 - Distance: 3.327568030859774', 'ILE108 - LEU85 - Distance: 3.881750764796729', 'ILE108 - GLU109 - Distance: 2.2431660660771393', 'ILE108 - ALA110 - Distance: 3.291582446179954', 'ILE108 - GLY111 - Distance: 2.831681302689269', 'ILE108 - ALA126 - Distance: 3.018469976660364', 'ILE108 - ARG278 - Distance: 2.4099273847981384', 'ILE108 - ARG278 - Distance: 2.9046743363069094', 'ILE108 - LEU285 - Distance: 2.8134457520983087', 'GLU109 - ALA110 - Distance: 2.2221620102953796', 'GLU109 - GLY111 - Distance: 3.2706977848771044', 'GLU109 - ARG278 - Distance: 3.120157207577847', 'GLU109 - GLY282 - Distance: 2.1271654848647814', 'GLU109 - ASP283 - Distance: 2.8207981140095817', 'GLU109 - ASP283 - Distance: 2.848315115994015', 'GLU109 - ARG284 - Distance: 3.685568341518037', 'GLU109 - LEU285 - Distance: 3.450667471663996', 'GLU109 - ARG278 - Distance: 3.413261343641887', 'GLU109 - ARG278 - Distance: 3.8231936911435724', 'GLU109 - GLY282 - Distance: 3.79236298368181', 'GLU109 - ASP283 - Distance: 3.7898920828962903', 'GLU109 - ASP283 - Distance: 3.839184679069241', 'ALA110 - GLY111 - Distance: 2.2543260633723823', 'ALA110 - ILE112 - Distance: 3.7970105346179914', 'ALA110 - ASP125 - Distance: 3.6985257873915143', 'ALA110 - ALA126 - Distance: 2.969295876129559', 'ALA110 - TRP201 - Distance: 3.8834751190138954', 'ALA110 - LEU285 - Distance: 3.245401361927364', 'ALA110 - ALA415 - Distance: 3.7465724335717843', 'ALA110 - GLY418 - Distance: 2.7964323700028926', 'GLY111 - ILE112 - Distance: 2.2240406920737756', 'GLY111 - ASP125 - Distance: 3.1540277424271324', 'GLY111 - ALA126 - Distance: 2.47499777777678', 'GLY111 - LEU127 - Distance: 3.0676259550342833', 'GLY111 - ASP128 - Distance: 2.6767818364595986', 'GLY111 - LYS129 - Distance: 3.355888108980992', 'GLY111 - TRP201 - Distance: 3.670635503560653', 'GLY111 - LEU285 - Distance: 3.628537446410054', 'ILE112 - ILE108 - Distance: 3.8939492806147333', 'ILE112 - THR113 - Distance: 2.2165312991248283', 'ILE112 - ASP125 - Distance: 2.971803661078568', 'ILE112 - ASN420 - Distance: 1.2818088781093664', 'THR113 - TYR73 - Distance: 2.9710324804687054', 'THR113 - LEU123 - Distance: 2.1803708400178152', 'THR113 - ASN420 - Distance: 3.802193708900166', 'THR113 - LYS8 - Distance: 3.0873849776145494', 'THR113 - ASP128 - Distance: 3.7742941061872752', 'PRO114 - PHE115 - Distance: 2.2542817037806118', 'PHE115 - PHE75 - Distance: 3.1419267973649556', 'PHE115 - ILE116 - Distance: 2.2221046329999865', 'ILE116 - THR117 - Distance: 2.2332230072252095', 'ILE116 - LEU118 - Distance: 3.7788700692138115', 'ILE116 - ILE162 - Distance: 2.79382622938507', 'THR117 - ILE77 - Distance: 3.0303282000469833', 'THR117 - LEU118 - Distance: 2.232591543475881', 'THR117 - PHE119 - Distance: 3.7379563935391222', 'THR117 - ARG74 - Distance: 3.02287379822579', 'THR117 - ARG74 - Distance: 3.053751790830422', 'LEU118 - PHE119 - Distance: 2.2488721617735417', 'LEU118 - PHE264 - Distance: 3.6646489599960317', 'LEU118 - ALA265 - Distance: 2.6163982877230283', 'PHE119 - HIS120 - Distance: 2.2675442663815844', 'PHE119 - ASN165 - Distance: 2.9385052322567', 'HIS120 - TRP121 - Distance: 2.211259143565041', 'HIS120 - ASP122 - Distance: 3.2108832118281727', 'TRP121 - PHE11 - Distance: 3.3952516843379947', 'TRP121 - TRP32 - Distance: 3.898391976187104', 'TRP121 - TYR73 - Distance: 1.8527301476469766', 'TRP121 - ASP122 - Distance: 2.2429025837071044', 'TRP121 - LEU123 - Distance: 2.9730351494726746', 'ASP122 - TYR73 - Distance: 3.220927506169615', 'ASP122 - LEU123 - Distance: 2.2659922771271743', 'ASP122 - TRP263 - Distance: 3.8316448165246206', 'ASP122 - PHE264 - Distance: 3.5509308638721757', 'ASP122 - TRP121 - Distance: 3.870825493354098', 'ASP122 - ILE261 - Distance: 3.839376772342097', 'ASP122 - TRP263 - Distance: 3.570132350487862', 'ASP122 - PHE264 - Distance: 2.7932083703153956', 'ASP122 - ALA260 - Distance: 3.350065969499701', 'ASP122 - ILE261 - Distance: 1.9772619957911486', 'ASP122 - SER262 - Distance: 2.673241291017332', 'ASP122 - TRP263 - Distance: 2.776761783084749', 'ASP122 - PHE264 - Distance: 3.8178022473669344', 'LEU123 - ILE31 - Distance: 2.838300371701346', 'LEU123 - TYR73 - Distance: 3.526954918906677', 'LEU123 - ILE112 - Distance: 3.78584138600655', 'LEU123 - THR113 - Distance: 2.899948102983916', 'LEU123 - ASP125 - Distance: 3.16439709897478', 'LEU123 - CYS419 - Distance: 3.7800927237304647', 'LEU123 - ASN420 - Distance: 2.1497176558794893', 'PRO124 - ILE112 - Distance: 1.436292797447651', 'PRO124 - THR113 - Distance: 2.1297025613920826', 'PRO124 - ASP125 - Distance: 2.2321906280602435', 'PRO124 - ALA126 - Distance: 3.0271554304329995', 'PRO124 - LEU127 - Distance: 3.047981135112224', 'PRO124 - ASP128 - Distance: 3.7676439587625605', 'PRO124 - ASN420 - Distance: 2.429213452951386', 'ASP125 - GLY111 - Distance: 3.1634345259543464', 'ASP125 - ILE112 - Distance: 2.6612277241904727', 'ASP125 - ALA126 - Distance: 2.2427095219845112', 'ASP125 - LEU127 - Distance: 3.185909132414166', 'ASP125 - ASP128 - Distance: 3.0517223006033842', 'ASP125 - LYS129 - Distance: 2.983601347365295', 'ASP125 - TRP201 - Distance: 3.719139819904596', 'ASP125 - LEU285 - Distance: 3.0557886052539662', 'ASP125 - LYS129 - Distance: 3.54307112545035', 'ASP125 - TRP201 - Distance: 0.649408192125724', 'ASP125 - ARG284 - Distance: 3.1880467374240284', 'ASP125 - VAL414 - Distance: 2.775271338085701', 'ASP125 - ALA415 - Distance: 1.3052497845240205', 'ASP125 - LYS129 - Distance: 2.8412564122232964', 'ASP125 - TRP201 - Distance: 2.757361057242958', 'ASP125 - ARG284 - Distance: 3.268454527754668', 'ASP125 - ARG284 - Distance: 2.1474405696083885', 'ASP125 - ARG284 - Distance: 3.3971246665378643', 'ASP125 - ALA415 - Distance: 2.118867150153594', 'ASP125 - GLU416 - Distance: 3.2520415126501727', 'ALA126 - LEU127 - Distance: 2.2561695415017047', 'ALA126 - ASP128 - Distance: 3.475339551756057', 'ALA126 - LYS129 - Distance: 3.176330429914369', 'ALA126 - ARG130 - Distance: 2.7495637835845863', 'ALA126 - LEU285 - Distance: 3.0328227775457', 'LEU127 - ASP128 - Distance: 2.221551935022001', 'LEU127 - LYS129 - Distance: 3.485053084244201', 'LEU127 - ARG130 - Distance: 3.522043298995626', 'LEU127 - TYR131 - Distance: 3.1893355107294683', 'LEU127 - GLY132 - Distance: 3.5761940663224636', 'LEU127 - GLY133 - Distance: 3.1362589178828983', 'ASP128 - LYS129 - Distance: 2.2683795978627557', 'ASP128 - ARG130 - Distance: 3.6695157718696385', 'ASP128 - GLY132 - Distance: 2.905056453840445', 'ASP128 - GLY133 - Distance: 3.8665039764624582', 'ASP128 - ASN71 - Distance: 2.0948694470061833', 'ASP128 - ASN71 - Distance: 3.3354965147635864', 'ASP128 - ASN71 - Distance: 3.5060269536898887', 'LYS129 - ARG130 - Distance: 2.1955359254633047', 'LYS129 - TYR131 - Distance: 3.6691857407332207', 'ARG130 - TYR131 - Distance: 2.251283411745397', 'GLY132 - LYS8 - Distance: 3.6834148558097546', 'GLY132 - GLY133 - Distance: 2.2571056687714024', 'GLY132 - PHE134 - Distance: 3.1607255496167332', 'GLY132 - LEU135 - Distance: 3.107057933157991', 'GLY133 - LYS8 - Distance: 2.0718663084282274', 'GLY133 - PHE134 - Distance: 2.2673907911959073', 'GLY133 - LEU135 - Distance: 3.0696921669770085', 'GLY133 - ASN136 - Distance: 3.222364659687043', 'PHE134 - LEU135 - Distance: 2.2348089403794686', 'PHE134 - ASN136 - Distance: 3.3153951499029484', 'LEU135 - ASP6 - Distance: 3.386136736754734', 'LEU135 - ASN136 - Distance: 2.247333753584456', 'LEU135 - LYS137 - Distance: 3.70528015135158', 'ASN136 - LYS137 - Distance: 2.2374159202079533', 'ASN136 - GLU138 - Distance: 3.3691233281077753', 'ASN136 - GLU139 - Distance: 3.4075750908820774', 'ASN136 - PHE140 - Distance: 2.8930224679390233', 'ASN136 - LYS137 - Distance: 3.310346960667414', 'ASN136 - GLU138 - Distance: 3.3792142577824205', 'ASN136 - GLU139 - Distance: 2.9289453733383275', 'LYS137 - GLU138 - Distance: 2.2338981624058', 'LYS137 - GLU139 - Distance: 3.5992628411940135', 'LYS137 - PHE140 - Distance: 3.7174289502289075', 'LYS137 - ALA141 - Distance: 3.081452255025218', 'GLU138 - GLU139 - Distance: 2.19295667991869', 'GLU138 - PHE140 - Distance: 3.567443902852574', 'GLU138 - ALA141 - Distance: 3.6640919748281418', 'GLU138 - ALA142 - Distance: 3.122811873936691', 'GLU138 - ARG213 - Distance: 3.362403009753588', 'GLU139 - ARG88 - Distance: 3.8232190625178677', 'GLU139 - PHE140 - Distance: 2.2903508464861897', 'GLU139 - ALA141 - Distance: 3.4281985065045464', 'GLU139 - ALA142 - Distance: 3.301721520661608', 'GLU139 - ASP143 - Distance: 2.8861512434382237', 'GLU139 - ARG88 - Distance: 2.9157657656265896', 'GLU139 - ARG88 - Distance: 2.8875617742309863', 'GLU139 - ARG88 - Distance: 3.8504794506658526', 'PHE140 - ALA141 - Distance: 2.2420965634869514', 'PHE140 - ALA142 - Distance: 3.416928591586312', 'PHE140 - ASP143 - Distance: 3.2502709117856643', 'PHE140 - PHE144 - Distance: 2.775585884097266', 'PHE140 - HIS160 - Distance: 3.860235873622231', 'ALA141 - ALA142 - Distance: 2.282913270363112', 'ALA141 - ASP143 - Distance: 3.536157943305134', 'ALA141 - PHE144 - Distance: 3.5065425991993884', 'ALA141 - GLU145 - Distance: 2.9219905886227626', 'ALA141 - GLY228 - Distance: 1.6507431659710141', 'ALA142 - ASP143 - Distance: 2.243074006804055', 'ALA142 - PHE144 - Distance: 3.524435983246115', 'ALA142 - GLU145 - Distance: 3.5289481435691274', 'ALA142 - ASN146 - Distance: 3.1561107395020214', 'ALA142 - LYS159 - Distance: 2.091301508630451', 'ALA142 - GLY228 - Distance: 3.853823426157457', 'ASP143 - PHE144 - Distance: 2.2060573428630548', 'ASP143 - GLU145 - Distance: 3.485387352935109', 'ASP143 - ASN146 - Distance: 3.386636827296367', 'ASP143 - TYR147 - Distance: 3.1049066008496933', 'ASP143 - LYS159 - Distance: 3.0811121368752574', 'ASP143 - ARG88 - Distance: 2.9482893345124723', 'ASP143 - ARG88 - Distance: 2.7779469037402453', 'ASP143 - PHE288 - Distance: 3.5922373251220465', 'ASP143 - THR289 - Distance: 3.330651287661318', 'ASP143 - ARG88 - Distance: 3.769097902681756', 'PHE144 - GLU145 - Distance: 2.2190153221643163', 'PHE144 - ASN146 - Distance: 3.297198356180592', 'PHE144 - TYR147 - Distance: 3.2936467630879918', 'PHE144 - ALA148 - Distance: 2.9449349738152124', 'GLU145 - ASN146 - Distance: 2.2415077514922848', 'GLU145 - TYR147 - Distance: 3.5107106118277542', 'GLU145 - ALA148 - Distance: 3.301396977038659', 'GLU145 - ARG149 - Distance: 2.959805567938542', 'GLU145 - LYS297 - Distance: 3.459677586134292', 'GLU145 - GLY228 - Distance: 3.193421989026817', 'GLU145 - ARG149 - Distance: 2.944667892988953', 'GLU145 - ARG149 - Distance: 3.1423610550030663', 'ASN146 - TYR147 - Distance: 2.2655582093603335', 'ASN146 - ALA148 - Distance: 3.4389174168624628', 'ASN146 - ARG149 - Distance: 3.345112853103764', 'ASN146 - ILE150 - Distance: 3.1218243063952213', 'ASN146 - VAL293 - Distance: 3.7143842019909576', 'ASN146 - ALA294 - Distance: 3.5254420999358387', 'ASN146 - LYS297 - Distance: 2.1148224511764573', 'ASN146 - LYS159 - Distance: 3.7872706531221128', 'ASN146 - VAL293 - Distance: 1.0560464004957355', 'ASN146 - ALA294 - Distance: 2.1932510116263497', 'TYR147 - TRP79 - Distance: 3.7467252367901214', 'TYR147 - PHE264 - Distance: 3.76093206532636', 'TYR147 - ALA265 - Distance: 1.977053868765341', 'TYR147 - ASP266 - Distance: 2.9168183008202613', 'TYR147 - ILE268 - Distance: 3.0886752823823995', 'ALA148 - ARG149 - Distance: 2.2440519156204912', 'ALA148 - ILE150 - Distance: 3.368986494481686', 'ALA148 - MET151 - Distance: 3.046846238325787', 'ALA148 - PHE152 - Distance: 2.839635363915585', 'ALA148 - LYS297 - Distance: 2.9500916934902213', 'ALA148 - GLY298 - Distance: 1.8568222855189997', 'ARG149 - ILE150 - Distance: 2.241556825066007', 'ARG149 - MET151 - Distance: 3.3387211623614226', 'ARG149 - PHE152 - Distance: 3.450615887055528', 'ARG149 - LYS153 - Distance: 3.0352734637920187', 'ARG149 - LYS297 - Distance: 3.538097511375286', 'ARG149 - GLY298 - Distance: 2.295919423673226', 'ILE150 - MET151 - Distance: 2.2671243900589144', 'ILE150 - PHE152 - Distance: 3.663685303079401', 'ILE150 - LYS153 - Distance: 3.4525658574457365', 'ILE150 - ALA154 - Distance: 3.0233005143385934', 'ILE150 - PHE270 - Distance: 3.883613523511318', 'ILE150 - LYS297 - Distance: 3.0729205977376006', 'ILE150 - GLY298 - Distance: 3.168512269188806', 'MET151 - PHE152 - Distance: 2.2877530461131506', 'MET151 - LYS153 - Distance: 3.3581034826222993', 'MET151 - ALA154 - Distance: 3.2913513941844648', 'MET151 - ILE155 - Distance: 2.8919095767329934', 'MET151 - GLY298 - Distance: 3.548939841699209', 'MET151 - ILE268 - Distance: 3.374509890339633', 'MET151 - TYR269 - Distance: 1.2856784201346774', 'MET151 - PHE270 - Distance: 1.6553969312524415', 'MET151 - GLY271 - Distance: 3.8139455947876337', 'PHE152 - LYS153 - Distance: 2.2220382534961005', 'PHE152 - ALA154 - Distance: 3.5710627269763835', 'PHE152 - ILE155 - Distance: 3.729038750133873', 'PHE152 - GLN226 - Distance: 3.1448551635965694', 'LYS153 - ALA154 - Distance: 2.233068068823696', 'LYS153 - ILE155 - Distance: 3.5657619101673053', 'ALA154 - ILE155 - Distance: 2.2535139227437666', 'ILE155 - LYS157 - Distance: 3.055051881719851', 'ILE155 - CYS158 - Distance: 3.07901429032085', 'PRO156 - LYS157 - Distance: 2.229706258680725', 'PRO156 - CYS158 - Distance: 3.3316874103072776', 'LYS157 - TRP79 - Distance: 2.8704720866087516', 'LYS157 - TYR147 - Distance: 3.6931864290880294', 'CYS158 - LYS159 - Distance: 2.259139659250838', 'CYS158 - TRP161 - Distance: 3.233959028806642', 'CYS158 - LYS159 - Distance: 3.4266801718281195', 'CYS158 - HIS160 - Distance: 3.553662476938405', 'CYS158 - TRP161 - Distance: 3.8188325441160678', 'LYS159 - HIS160 - Distance: 2.265268637490928', 'LYS159 - GLU229 - Distance: 2.836213320609012', 'HIS160 - ILE116 - Distance: 2.954537188799625', 'HIS160 - TRP161 - Distance: 2.24280850720698', 'TRP161 - ILE162 - Distance: 2.233748419137659', 'TRP161 - GLY231 - Distance: 3.2194164067420674', 'ILE162 - LEU118 - Distance: 2.847458164749747', 'ILE162 - THR163 - Distance: 2.222325133728186', 'THR163 - LEU118 - Distance: 3.662656140016422', 'THR163 - PHE119 - Distance: 2.972404245724326', 'THR163 - PHE164 - Distance: 2.2683621844846558', 'THR163 - PHE164 - Distance: 2.792724834279239', 'THR163 - HIS211 - Distance: 2.70753227127582', 'PHE164 - ASN165 - Distance: 2.2712586818766374', 'PHE164 - GLU166 - Distance: 3.863938405306173', 'PHE164 - THR233 - Distance: 3.000484794162437', 'ASN165 - TRP121 - Distance: 2.7693988517365953', 'ASN165 - GLU166 - Distance: 2.2689129555802703', 'ASN165 - ARG74 - Distance: 3.6067988577130277', 'ASN165 - ARG74 - Distance: 2.7615636874785254', 'ASN165 - ASN306 - Distance: 3.0784614663821945', 'GLU166 - TRP121 - Distance: 3.8876221524217076', 'GLU166 - TRP168 - Distance: 3.1026772310377377', 'GLU166 - CYS169 - Distance: 2.8519149706819786', 'GLU166 - SER170 - Distance: 3.434138756660831', 'GLU166 - ASN235 - Distance: 3.5624869122566607', 'GLU166 - ASN306 - Distance: 2.666092834092616', 'PRO167 - TRP168 - Distance: 2.274402339077235', 'PRO167 - CYS169 - Distance: 3.2600277606179984', 'PRO167 - SER170 - Distance: 3.229453668966317', 'PRO167 - ALA171 - Distance: 2.926764425094716', 'PRO167 - TYR424 - Distance: 3.8408547225845444', 'TRP168 - CYS169 - Distance: 2.2522668580787664', 'TRP168 - SER170 - Distance: 3.5451363866570778', 'TRP168 - ALA171 - Distance: 3.4482588359924504', 'TRP168 - ILE172 - Distance: 2.8920314659422375', 'CYS169 - SER170 - Distance: 2.302824787082162', 'CYS169 - ALA171 - Distance: 3.3151279010017105', 'CYS169 - ILE172 - Distance: 3.6153547543775013', 'CYS169 - LEU173 - Distance: 2.8395960980392947', 'CYS169 - GLY174 - Distance: 3.2392687446397517', 'CYS169 - TYR424 - Distance: 3.308280520149408', 'CYS169 - LEU425 - Distance: 2.7205495768318584', 'CYS169 - ASN235 - Distance: 3.79467126375922', 'SER170 - ALA171 - Distance: 2.220573124218161', 'SER170 - GLY174 - Distance: 3.3261770848828798', 'SER170 - TYR424 - Distance: 1.2788870161198789', 'SER170 - TRP121 - Distance: 3.691766785700308', 'SER170 - TYR424 - Distance: 3.5173536927639226', 'SER170 - LEU425 - Distance: 2.7385158389171305', 'ALA171 - ILE172 - Distance: 2.2377960139387154', 'ALA171 - LEU173 - Distance: 3.836431023751109', 'ALA171 - TYR175 - Distance: 2.978344674479432', 'ALA171 - ASN176 - Distance: 3.661682809856695', 'ILE172 - LEU173 - Distance: 2.248445018229265', 'ILE172 - GLY174 - Distance: 3.643595614225047', 'ILE172 - TYR175 - Distance: 3.694885519200831', 'ILE172 - ASN176 - Distance: 2.908283858222918', 'ILE172 - THR177 - Distance: 3.0262607290185706', 'LEU173 - GLY174 - Distance: 2.273196207985575', 'LEU173 - TYR175 - Distance: 3.788335914356065', 'LEU173 - GLY178 - Distance: 3.145924029597667', 'LEU173 - TYR179 - Distance: 2.8713261744357785', 'LEU173 - PHE180 - Distance: 3.000774733298054', 'GLY174 - TRP9 - Distance: 3.5588264919773756', 'GLY174 - TYR175 - Distance: 2.2335292700119256', 'GLY174 - GLY183 - Distance: 3.6527772995352454', 'GLY174 - HIS184 - Distance: 2.9619044549073483', 'TYR175 - LYS8 - Distance: 2.3448166239601793', 'TYR175 - TRP9 - Distance: 2.6287877434285183', 'TYR175 - ASN71 - Distance: 2.363062631417119', 'ASN176 - THR177 - Distance: 2.2788843761805935', 'ASN176 - THR177 - Distance: 3.5183501815481644', 'ASN176 - ARG408 - Distance: 2.714695194676561', 'ASN176 - ALA411 - Distance: 3.213391199340662', 'THR177 - GLY178 - Distance: 2.244833401390844', 'THR177 - TYR179 - Distance: 3.2592592716750843', 'THR177 - PHE469 - Distance: 3.8268898599254224', 'THR177 - GLY178 - Distance: 3.304073243740216', 'THR177 - TYR179 - Distance: 3.437408035133449', 'THR177 - VAL407 - Distance: 2.9495255550681367', 'THR177 - ARG408 - Distance: 3.869284688414643', 'GLY178 - TYR179 - Distance: 2.2612980785380765', 'GLY178 - PHE180 - Distance: 3.494181163019455', 'GLY178 - LEU465 - Distance: 2.792121236622792', 'GLY178 - LYS466 - Distance: 3.178330064672328', 'PHE180 - ALA181 - Distance: 2.265678485575569', 'PHE180 - GLY183 - Distance: 2.8309353577925433', 'ALA181 - TRP9 - Distance: 3.686004612042691', 'ALA181 - GLY10 - Distance: 1.067876865560818', 'PRO182 - TRP9 - Distance: 2.1905051928721817', 'PRO182 - GLY183 - Distance: 2.2344513868061653', 'PRO182 - HIS184 - Distance: 3.449632589131775', 'GLY183 - HIS184 - Distance: 2.230192144188478', 'GLY183 - THR185 - Distance: 3.5530866862490162', 'GLY183 - LYS466 - Distance: 3.646355166464175', 'GLY183 - LEU468 - Distance: 3.5296924795228213', 'GLY183 - PHE469 - Distance: 2.0969554120200056', 'GLY183 - ASP470 - Distance: 2.581336088152801', 'HIS184 - TYR175 - Distance: 3.783053925071648', 'HIS184 - ASN176 - Distance: 3.8280795446280877', 'HIS184 - GLY178 - Distance: 3.248467946586514', 'HIS184 - THR185 - Distance: 2.2902536977374384', 'HIS184 - PHE469 - Distance: 2.5376250708093173', 'HIS184 - ASP470 - Distance: 3.775653718232117', 'THR185 - SER186 - Distance: 2.2730563125448517', 'THR185 - ASP187 - Distance: 3.3851542062364013', 'THR185 - ARG188 - Distance: 2.789952150127311', 'THR185 - GLY194 - Distance: 3.826739735074751', 'THR185 - ASP470 - Distance: 3.003247575542183', 'THR185 - SER471 - Distance: 1.1595399949980212', 'THR185 - LEU472 - Distance: 2.00738362053694', 'THR185 - ILE473 - Distance: 3.778750851802743', 'THR185 - SER186 - Distance: 2.811573580755092', 'THR185 - ASP187 - Distance: 2.9516832485888456', 'THR185 - ARG408 - Distance: 3.740382467074723', 'THR185 - ARG408 - Distance: 3.624713092094324', 'THR185 - SER471 - Distance: 3.386076490571352', 'THR185 - LEU472 - Distance: 3.1338994878585407', 'SER186 - ASP187 - Distance: 2.2605452881992867', 'SER186 - ARG188 - Distance: 3.0409779676939435', 'SER186 - ARG188 - Distance: 3.4441386441315025', 'SER186 - SER471 - Distance: 3.7215605597652175', 'SER186 - SER196 - Distance: 2.894153762328466', 'SER186 - LEU472 - Distance: 3.4277650152832826', 'ASP187 - ARG188 - Distance: 2.2631528892233512', 'ASP187 - SER189 - Distance: 3.1750691331056085', 'ASP187 - LYS190 - Distance: 2.925129911644949', 'ASP187 - SER191 - Distance: 3.0897936824325343', 'ASP187 - SER471 - Distance: 3.11124878465223', 'ASP187 - ARG188 - Distance: 3.067096509730334', 'ASP187 - SER189 - Distance: 2.917781348901935', 'ASP187 - LYS190 - Distance: 3.852895664302371', 'ASP187 - ARG408 - Distance: 2.9846852430365236', 'ARG188 - SER189 - Distance: 2.1987296332200525', 'ARG188 - LYS190 - Distance: 3.4549293769916622', 'SER189 - LYS190 - Distance: 2.2189407382803226', 'SER189 - LYS190 - Distance: 3.402952541543889', 'LYS190 - LYS41 - Distance: 2.8298241994866045', 'LYS190 - SER191 - Distance: 2.259179939712638', 'LYS190 - LEU468 - Distance: 3.3862525009219264', 'SER191 - ARG188 - Distance: 2.956330495732843', 'SER191 - VAL193 - Distance: 3.445742010075627', 'SER191 - SER471 - Distance: 3.6976549325214214', 'SER191 - VAL193 - Distance: 3.0948547623434624', 'SER191 - ASP470 - Distance: 2.1422275789467373', 'PRO192 - ARG188 - Distance: 3.5312997607113426', 'PRO192 - VAL193 - Distance: 2.250886047759859', 'PRO192 - LYS475 - Distance: 2.193321909798014', 'VAL193 - THR185 - Distance: 3.2800617372238565', 'VAL193 - ARG188 - Distance: 3.766293005064794', 'VAL193 - GLY194 - Distance: 2.288381742629495', 'VAL193 - ASP470 - Distance: 2.5143607537503443', 'VAL193 - SER471 - Distance: 3.6026946859260778', 'GLY194 - ARG188 - Distance: 2.8096300468211104', 'GLY194 - ASP195 - Distance: 2.2794598044273555', 'GLY194 - LEU472 - Distance: 3.698855093133551', 'GLY194 - ILE473 - Distance: 3.016403487599098', 'GLY194 - ARG474 - Distance: 3.5579451935070585', 'ASP195 - LEU3 - Distance: 1.219944670876511', 'ASP195 - SER196 - Distance: 2.2803898789461408', 'ASP195 - ALA197 - Distance: 3.1117565778833054', 'ASP195 - ARG198 - Distance: 3.005274862637361', 'ASP195 - GLU199 - Distance: 2.877979325846521', 'ASP195 - ILE473 - Distance: 3.5236376090625456', 'ASP195 - ARG474 - Distance: 3.648697575848126', 'ASP195 - SER2 - Distance: 3.8120781733852227', 'ASP195 - LEU3 - Distance: 3.654852801413484', 'ASP195 - SER196 - Distance: 3.2328850892043772', 'ASP195 - ALA197 - Distance: 3.155314405887313', 'ASP195 - ARG198 - Distance: 3.626160641780781', 'ASP195 - ARG474 - Distance: 3.4257174431058965', 'ASP195 - ARG474 - Distance: 3.813669361651586', 'SER196 - SER2 - Distance: 2.216770173022003', 'SER196 - LEU3 - Distance: 3.189559687480391', 'SER196 - ASN176 - Distance: 3.137629359883029', 'SER196 - ALA197 - Distance: 2.2448663657331602', 'SER196 - ARG198 - Distance: 3.6604670467031992', 'SER196 - SER186 - Distance: 2.964398083928675', 'SER196 - LEU472 - Distance: 3.093986102101948', 'ALA197 - LYS129 - Distance: 1.5018675041427594', 'ALA197 - TRP201 - Distance: 3.344188092796217', 'ALA197 - ARG284 - Distance: 2.9110790095770342', 'ALA197 - ALA415 - Distance: 3.1548968287409975', 'ARG198 - GLU199 - Distance: 2.2557537542914536', 'ARG198 - TRP201 - Distance: 3.36019582762672', 'ARG198 - ILE202 - Distance: 3.30733744876449', 'ARG198 - ARG474 - Distance: 3.5083952171897606', 'GLU199 - TRP201 - Distance: 3.1617906319046485', 'GLU199 - ILE202 - Distance: 3.240818569435815', 'GLU199 - VAL203 - Distance: 2.8247139678204625', 'GLU199 - ARG474 - Distance: 2.678914705622412', 'GLU199 - HIS184 - Distance: 2.9498969473525674', 'GLU199 - ASP195 - Distance: 3.8292467927779232', 'GLU199 - ILE473 - Distance: 3.5394358307504348', 'GLU199 - ARG474 - Distance: 3.4668853456669155', 'PRO200 - TRP201 - Distance: 2.2170063148308796', 'PRO200 - ILE202 - Distance: 3.6503399841658544', 'PRO200 - VAL203 - Distance: 3.2869937633040904', 'PRO200 - GLY204 - Distance: 2.9765352341270845', 'PRO200 - VAL421 - Distance: 3.1924778777620366', 'PRO200 - ARG422 - Distance: 2.4756391094018495', 'TRP201 - ILE202 - Distance: 2.2759797890139546', 'TRP201 - VAL203 - Distance: 3.6712109718729047', 'TRP201 - GLY204 - Distance: 3.7507281959640864', 'TRP201 - HIS205 - Distance: 3.118293283191943', 'TRP201 - ASN420 - Distance: 3.5700322127398203', 'TRP201 - VAL421 - Distance: 3.477177159708723', 'TRP201 - ARG422 - Distance: 2.541636874142328', 'TRP201 - ARG422 - Distance: 3.5208182287644423', 'ILE202 - VAL203 - Distance: 2.226916253476991', 'ILE202 - GLY204 - Distance: 3.470533964680365', 'ILE202 - HIS205 - Distance: 3.3144874415209356', 'ILE202 - ASN206 - Distance: 3.0307738285790977', 'ILE202 - ASN206 - Distance: 3.673672957681452', 'ILE202 - ARG422 - Distance: 1.5201966977993338', 'ILE202 - ARG422 - Distance: 2.682465097629417', 'ILE202 - ARG422 - Distance: 3.5879814659499', 'VAL203 - GLY204 - Distance: 2.2585130063827408', 'VAL203 - HIS205 - Distance: 3.3733277338556946', 'VAL203 - ASN206 - Distance: 3.3195320453341015', 'VAL203 - ILE207 - Distance: 2.9883637663443836', 'VAL203 - ARG422 - Distance: 2.9754639974296477', 'VAL203 - GLY423 - Distance: 3.3944002415743517', 'GLY204 - HIS205 - Distance: 2.2653187413695237', 'GLY204 - ASN206 - Distance: 3.3555586718160644', 'GLY204 - ILE207 - Distance: 3.3596560835895075', 'GLY204 - LEU208 - Distance: 3.0362526245357095', 'HIS205 - ASN206 - Distance: 2.222357756977934', 'HIS205 - ILE207 - Distance: 3.528946726716061', 'HIS205 - LEU208 - Distance: 3.2662905565794365', 'HIS205 - ILE209 - Distance: 3.212638479505591', 'HIS205 - LYS372 - Distance: 2.5795305774500905', 'ASN206 - ILE207 - Distance: 2.230603729935015', 'ASN206 - LEU208 - Distance: 3.5219219184984785', 'ASN206 - ILE209 - Distance: 3.294288086977215', 'ASN206 - ALA210 - Distance: 2.9635443306959344', 'ASN206 - LYS372 - Distance: 1.2619088715117273', 'ASN206 - LYS137 - Distance: 3.4763984236562995', 'ASN206 - ARG422 - Distance: 3.5092695821210445', 'ILE207 - LEU208 - Distance: 2.2261489168517006', 'ILE207 - ILE209 - Distance: 3.28178137602126', 'ILE207 - ALA210 - Distance: 3.2278962189017166', 'ILE207 - HIS211 - Distance: 2.772208145143506', 'ILE207 - LYS372 - Distance: 3.4634648836100523', 'LEU208 - ILE209 - Distance: 2.254512364126665', 'LEU208 - ALA210 - Distance: 3.5875803823747283', 'LEU208 - HIS211 - Distance: 3.5057656795627405', 'LEU208 - ALA212 - Distance: 2.9751122667892727', 'ILE209 - ALA210 - Distance: 2.2687498760330533', 'ILE209 - HIS211 - Distance: 3.4670425437251273', 'ILE209 - ALA212 - Distance: 3.068951286677584', 'ILE209 - ARG213 - Distance: 2.8989658500920634', 'ALA210 - HIS211 - Distance: 2.2738342067969706', 'ALA210 - ALA212 - Distance: 3.247075607373503', 'ALA210 - ARG213 - Distance: 3.1437755963172673', 'ALA210 - ALA214 - Distance: 2.97729155441653', 'HIS211 - ALA212 - Distance: 2.2370762168509146', 'HIS211 - ARG213 - Distance: 3.327644963033166', 'HIS211 - ALA214 - Distance: 3.1997392081230633', 'HIS211 - VAL215 - Distance: 2.9654175085474903', 'ALA212 - ARG213 - Distance: 2.203907665942473', 'ALA212 - ALA214 - Distance: 3.5694261443542983', 'ALA212 - VAL215 - Distance: 3.459270587855191', 'ALA212 - LYS216 - Distance: 3.060807246462933', 'ARG213 - ALA214 - Distance: 2.2333662932891225', 'ARG213 - VAL215 - Distance: 3.4415381735497284', 'ARG213 - LYS216 - Distance: 3.4024686626036695', 'ARG213 - ALA217 - Distance: 2.991741633229714', 'ALA214 - VAL215 - Distance: 2.2842861029214347', 'ALA214 - LYS216 - Distance: 3.6510493012283476', 'ALA214 - ALA217 - Distance: 3.4094090397017482', 'ALA214 - TYR218 - Distance: 2.947206304282074', 'VAL215 - LYS216 - Distance: 2.2342222360365143', 'VAL215 - ALA217 - Distance: 3.42080078344238', 'VAL215 - TYR218 - Distance: 3.206360085829413', 'VAL215 - ARG219 - Distance: 2.847168593532882', 'LYS216 - ALA217 - Distance: 2.2534358211406875', 'LYS216 - TYR218 - Distance: 3.4406528450281066', 'LYS216 - ARG219 - Distance: 3.406336448444281', 'LYS216 - GLU220 - Distance: 2.8165059914724133', 'ALA217 - TYR218 - Distance: 2.2941410157180853', 'ALA217 - ARG219 - Distance: 3.6329496280570694', 'ALA217 - GLU220 - Distance: 3.6378868866417498', 'ALA217 - ASP221 - Distance: 3.0068140946856023', 'ALA217 - PHE222 - Distance: 3.8293993001513957', 'TYR218 - TRP161 - Distance: 3.6821581986655607', 'ARG219 - GLU220 - Distance: 2.2445741244164776', 'ARG219 - ASP221 - Distance: 3.835240148934614', 'GLU220 - ASP221 - Distance: 2.1931532094224515', 'GLU220 - LYS216 - Distance: 3.2525450035318495', 'ASP221 - PHE222 - Distance: 2.216662355885532', 'ASP221 - ARG149 - Distance: 2.858811991020046', 'ASP221 - ARG149 - Distance: 3.1114763376892336', 'PHE222 - LYS223 - Distance: 2.2731337400161915', 'PHE222 - THR225 - Distance: 3.1105687582819974', 'PHE222 - GLN226 - Distance: 2.852616693493886', 'LYS223 - THR225 - Distance: 3.0771499800952196', 'LYS223 - GLN226 - Distance: 3.424058994818868', 'LYS223 - GLY227 - Distance: 2.7428485193316816', 'PRO224 - THR225 - Distance: 2.21334565759621', 'THR225 - GLU291 - Distance: 3.238591360452873', 'THR225 - GLN226 - Distance: 3.2428552234103805', 'GLN226 - GLU145 - Distance: 3.7616710382488225', 'GLN226 - ASN146 - Distance: 2.4994073297483936', 'GLN226 - LYS159 - Distance: 2.7568768561544417', 'GLN226 - GLY228 - Distance: 3.7031317826942094', 'GLY228 - LYS223 - Distance: 3.8895101233960037', 'GLY228 - GLU229 - Distance: 2.2641044587209294', 'GLU229 - TRP161 - Distance: 2.959423930429705', 'GLU229 - ILE230 - Distance: 2.2869374718168403', 'GLU229 - LEU208 - Distance: 3.7843903075660683', 'GLU229 - ILE209 - Distance: 2.2056840208878516', 'GLU229 - ALA210 - Distance: 0.7302513265992756', 'GLU229 - HIS211 - Distance: 3.089807922832745', 'GLU229 - LYS372 - Distance: 2.5260787794524546', 'GLU229 - HIS160 - Distance: 3.444329107387969', 'GLU229 - ILE207 - Distance: 3.5974069828141513', 'GLU229 - ALA210 - Distance: 2.2816767956921504', 'GLU229 - HIS211 - Distance: 3.4832701589167607', 'GLU229 - LYS372 - Distance: 3.1548480153566834', 'ILE230 - GLY231 - Distance: 2.27802919208688', 'ILE230 - ASP301 - Distance: 2.872502219320291', 'GLY231 - THR163 - Distance: 2.954601326744439', 'GLY231 - ILE232 - Distance: 2.2613217373916523', 'ILE232 - THR233 - Distance: 2.2528999090061683', 'ILE232 - GLY304 - Distance: 3.086509193247284', 'THR233 - GLU166 - Distance: 2.926260753931542', 'THR233 - LEU234 - Distance: 2.2554389816618845', 'LEU234 - ASN235 - Distance: 2.2123817482523216', 'LEU234 - ASN306 - Distance: 2.906376094038758', 'ASN235 - GLY236 - Distance: 2.2422357146384058', 'GLY236 - HIS307 - Distance: 2.946841359829198', 'ASP237 - GLN17 - Distance: 3.4726904555402003', 'ASP237 - ILE18 - Distance: 1.2237516087834162', 'ASP237 - GLU19 - Distance: 3.768852477877054', 'ASP237 - ALA238 - Distance: 2.236565670844474', 'ASP237 - TYR308 - Distance: 3.335271353278471', 'ASP237 - THR309 - Distance: 3.0781820933791426', 'ALA238 - CYS52 - Distance: 3.0952146936844303', 'ALA238 - THR239 - Distance: 2.2790901693439', 'ALA238 - ASN311 - Distance: 2.849138290781972', 'ALA238 - PHE433 - Distance: 3.773428282079838', 'THR239 - CYS52 - Distance: 2.645985638660951', 'THR239 - ASP53 - Distance: 2.297529760416611', 'THR239 - SER54 - Distance: 3.8968158796638033', 'THR239 - LEU240 - Distance: 2.223317566160986', 'THR239 - ARG456 - Distance: 3.096923150483396', 'THR239 - ARG456 - Distance: 3.693135253412742', 'THR239 - GLU19 - Distance: 3.7676061365275406', 'THR239 - GLY20 - Distance: 3.5443981153363686', 'THR239 - CYS52 - Distance: 2.086191506070335', 'THR239 - ASP53 - Distance: 1.4983043749518985', 'THR239 - SER54 - Distance: 2.8315100211724453', 'THR239 - LEU240 - Distance: 3.875224638650002', 'LEU240 - TRP242 - Distance: 3.4618811360299495', 'LEU240 - ILE313 - Distance: 2.740700822782377', 'LEU240 - GLN454 - Distance: 2.4320699003112587', 'PRO241 - TRP242 - Distance: 2.2438576158036403', 'PRO241 - ASP243 - Distance: 3.362235119678575', 'PRO241 - ASP453 - Distance: 3.199597630952992', 'PRO241 - GLN454 - Distance: 3.436738133754156', 'PRO241 - GLN454 - Distance: 1.7009074048871633', 'TRP242 - ASP243 - Distance: 2.248760992191031', 'TRP242 - LYS336 - Distance: 2.9252579373450094', 'ASP243 - GLU245 - Distance: 2.989067580366826', 'ASP243 - ASP246 - Distance: 2.9901732391284623', 'ASP243 - GLU245 - Distance: 2.957623877371834', 'ASP243 - ASP246 - Distance: 3.6876287774123937', 'ASP243 - LYS336 - Distance: 3.255568153180021', 'PRO244 - GLU245 - Distance: 2.243180108684991', 'PRO244 - ASP246 - Distance: 3.739434984058421', 'GLU245 - ASP246 - Distance: 2.2103287085861227', 'ASP246 - ALA248 - Distance: 3.1923792067985914', 'ASP246 - ASP249 - Distance: 3.059279980649041', 'ASP246 - ILE250 - Distance: 3.13407769527177', 'ASP246 - ALA248 - Distance: 2.9488277331848343', 'ASP246 - HIS315 - Distance: 3.7765817878075945', 'PRO247 - ALA248 - Distance: 2.2348465271691467', 'PRO247 - ASP249 - Distance: 3.580436286264566', 'PRO247 - ILE250 - Distance: 3.5029103613995014', 'PRO247 - GLU251 - Distance: 2.9654384161536713', 'ALA248 - ASP249 - Distance: 2.2212172338607488', 'ALA248 - ILE250 - Distance: 3.6798441543087117', 'ALA248 - GLU251 - Distance: 3.5709602350068255', 'ALA248 - ALA252 - Distance: 2.889545465985956', 'ASP249 - ILE250 - Distance: 2.2556724052929313', 'ASP249 - GLU251 - Distance: 3.4882069892711347', 'ASP249 - ALA252 - Distance: 3.1892930251076015', 'ASP249 - CYS253 - Distance: 2.985897017648133', 'ASP249 - HIS315 - Distance: 2.8730315000013484', 'ASP249 - HIS315 - Distance: 2.777638565400473', 'ASP249 - TRP242 - Distance: 3.80235466520418', 'ASP249 - ASP243 - Distance: 2.934333825589721', 'ILE250 - GLU251 - Distance: 2.259523843644938', 'ILE250 - ALA252 - Distance: 3.515226592980886', 'ILE250 - CYS253 - Distance: 3.3356314244832275', 'ILE250 - ASP254 - Distance: 3.724470163660869', 'GLU251 - SER21 - Distance: 2.1984098798904634', 'GLU251 - VAL22 - Distance: 3.71564651171233', 'GLU251 - ALA252 - Distance: 2.243730375958751', 'GLU251 - CYS253 - Distance: 3.1888055757602993', 'GLU251 - ASP254 - Distance: 2.9848708514774978', 'GLU251 - ARG255 - Distance: 3.0935248503931603', 'ALA252 - GLY20 - Distance: 3.678341202226899', 'ALA252 - SER21 - Distance: 2.5046536686735794', 'ALA252 - VAL22 - Distance: 3.708197001239282', 'ALA252 - VAL50 - Distance: 2.1541515731257155', 'ALA252 - CYS253 - Distance: 2.2613007318797718', 'ALA252 - ASP254 - Distance: 3.396752861189642', 'ALA252 - ARG255 - Distance: 3.186728102615602', 'ALA252 - LYS256 - Distance: 2.84896016118162', 'CYS253 - GLU19 - Distance: 3.6202741608889233', 'CYS253 - GLY20 - Distance: 1.3076991244166247', 'CYS253 - SER21 - Distance: 3.2166188770197843', 'CYS253 - ASP53 - Distance: 3.642973098994826', 'CYS253 - ASP254 - Distance: 2.2373008291242398', 'CYS253 - ARG255 - Distance: 3.725228717810495', 'CYS253 - ILE257 - Distance: 3.69275574605199', 'CYS253 - ASP53 - Distance: 3.0417790846805435', 'ASP254 - GLY20 - Distance: 3.259143138924706', 'ASP254 - SER21 - Distance: 3.1319524262031804', 'ASP254 - VAL22 - Distance: 3.8206173584906415', 'ASP254 - ARG81 - Distance: 1.88592285102016', 'ASP254 - ARG255 - Distance: 2.229436700155442', 'ASP254 - LYS256 - Distance: 3.397541758389439', 'ASP254 - ILE257 - Distance: 3.204056179282755', 'ASP254 - GLU258 - Distance: 2.938429002034933', 'ASP254 - TYR55 - Distance: 2.411778182171817', 'ASP254 - LYS56 - Distance: 2.051375636006239', 'ASP254 - TRP363 - Distance: 2.7052012864110493', 'ASP254 - LYS56 - Distance: 2.9656845752709433', 'ASP254 - LYS56 - Distance: 3.59743867216663', 'ARG255 - VAL22 - Distance: 3.1315615912831736', 'ARG255 - ARG27 - Distance: 3.514491997430071', 'ARG255 - ARG27 - Distance: 3.336484826879932', 'ARG255 - LYS256 - Distance: 2.241762476267279', 'ARG255 - ILE257 - Distance: 3.333975554799405', 'ARG255 - GLU258 - Distance: 3.0736909408722295', 'ARG255 - PHE259 - Distance: 2.957552704517706', 'LYS256 - TYR16 - Distance: 3.818650677922766', 'LYS256 - ILE257 - Distance: 2.271967209270417', 'LYS256 - GLU258 - Distance: 3.4147717346844777', 'LYS256 - PHE259 - Distance: 3.3120443837605826', 'LYS256 - ALA260 - Distance: 3.0819282924818387', 'ILE257 - TYR16 - Distance: 2.76515207538392', 'ILE257 - GLU258 - Distance: 2.2293588764485626', 'ILE257 - PHE259 - Distance: 3.491801397559718', 'ILE257 - ALA260 - Distance: 3.3770444178304784', 'ILE257 - ILE261 - Distance: 2.921035090511582', 'ILE257 - SER262 - Distance: 3.377880696531484', 'GLU258 - ARG27 - Distance: 2.3886186384603123', 'GLU258 - ARG27 - Distance: 2.701145312640546', 'GLU258 - PHE259 - Distance: 2.283218123614123', 'GLU258 - ALA260 - Distance: 3.4892648222798974', 'GLU258 - SER262 - Distance: 3.1286345264348157', 'GLU258 - TRP263 - Distance: 2.8642938047623523', 'GLU258 - GLU24 - Distance: 3.705510221278578', 'GLU258 - GLU24 - Distance: 3.7331019273521084', 'GLU258 - ARG81 - Distance: 3.5203836438661047', 'GLU258 - ARG81 - Distance: 1.7087129659483486', 'GLU258 - ARG81 - Distance: 2.934673746773225', 'GLU258 - ARG81 - Distance: 2.5458705780145214', 'GLU258 - ARG81 - Distance: 0.6940763646746657', 'GLU258 - ARG81 - Distance: 2.8037984948993744', 'GLU258 - ARG367 - Distance: 2.9940237140009427', 'GLU258 - ARG367 - Distance: 3.2943796077562117', 'PHE259 - ARG27 - Distance: 2.9509894950677134', 'PHE259 - ALA260 - Distance: 2.2571304791704003', 'ILE261 - ILE77 - Distance: 3.578701021320445', 'ILE261 - SER78 - Distance: 2.446297610676183', 'ILE261 - TRP79 - Distance: 3.72630728738251', 'ILE261 - SER262 - Distance: 2.2377589235661652', 'ILE261 - TRP263 - Distance: 3.1443752956668516', 'ILE261 - PHE264 - Distance: 2.981482852541667', 'ILE261 - ALA265 - Distance: 2.901115647470812', 'SER262 - SER78 - Distance: 2.763036554227974', 'SER262 - TRP79 - Distance: 0.9508569818852888', 'SER262 - SER80 - Distance: 2.832296947708698', 'SER262 - ARG81 - Distance: 3.6590092921445283', 'SER262 - TRP263 - Distance: 2.2341179467521433', 'SER262 - PHE264 - Distance: 3.084414206944326', 'SER262 - ALA265 - Distance: 3.3197883968711017', 'SER262 - ASP266 - Distance: 2.8500628063255005', 'SER262 - SER78 - Distance: 2.862273397144307', 'SER262 - ARG81 - Distance: 3.116129329793614', 'SER262 - ARG367 - Distance: 3.5252575792415506', 'TRP263 - TRP79 - Distance: 2.255795646772995', 'TRP263 - SER80 - Distance: 3.0178301807755856', 'TRP263 - PHE264 - Distance: 2.23827835623722', 'PHE264 - TRP79 - Distance: 3.8826008035851425', 'PHE264 - ALA265 - Distance: 2.259255408314872', 'PHE264 - ASP266 - Distance: 3.5933012676367677', 'PHE264 - ILE268 - Distance: 3.3304387098398918', 'ALA265 - ASP266 - Distance: 2.23279690075027', 'ALA265 - ILE268 - Distance: 3.1755556994012863', 'ALA265 - TYR269 - Distance: 2.838149749396604', 'ASP266 - ILE268 - Distance: 3.266516340078524', 'ASP266 - TYR269 - Distance: 3.349238868758094', 'ASP266 - PHE270 - Distance: 2.667523383215224', 'ASP266 - GLY271 - Distance: 3.0934461365926498', 'ASP266 - LYS272 - Distance: 3.810663459294194', 'ASP266 - SER78 - Distance: 3.837659703517236', 'ASP266 - ARG367 - Distance: 3.0087831427339538', 'ASP266 - ARG367 - Distance: 3.613137279429061', 'ASP266 - ARG81 - Distance: 3.0143740643788726', 'ASP266 - ILE82 - Distance: 2.4852187026497297', 'ASP266 - ARG367 - Distance: 3.664628903449843', 'ASP266 - ARG367 - Distance: 2.7692045789359834', 'PRO267 - ALA148 - Distance: 3.4603902959059396', 'PRO267 - MET151 - Distance: 3.508073117824085', 'PRO267 - ILE268 - Distance: 2.2163433849473773', 'PRO267 - TYR269 - Distance: 3.4531310429811364', 'PRO267 - PHE270 - Distance: 3.8214703976349216', 'PRO267 - GLY271 - Distance: 2.909027672608153', 'PRO267 - LYS297 - Distance: 3.696896806782685', 'ILE268 - MET151 - Distance: 2.1555521334451613', 'ILE268 - PHE152 - Distance: 2.916568188813693', 'ILE268 - TYR269 - Distance: 2.2536268546500766', 'ILE268 - GLY298 - Distance: 2.7815118191372115', 'TYR269 - ASN300 - Distance: 3.197666180200804', 'PHE270 - GLY271 - Distance: 2.1898767088582862', 'PHE270 - LYS272 - Distance: 3.5363061236267446', 'GLY271 - LYS272 - Distance: 2.2207604553395672', 'LYS272 - ILE82 - Distance: 2.405647521978228', 'LYS272 - ILE83 - Distance: 1.571257776432627', 'LYS272 - TYR273 - Distance: 2.235958183866594', 'TYR273 - TRP79 - Distance: 3.284497830719332', 'PRO274 - ARG27 - Distance: 3.7535573793402968', 'PRO274 - GLY28 - Distance: 1.5418881282375854', 'PRO274 - ARG81 - Distance: 3.7423111842817143', 'PRO274 - ASP106 - Distance: 1.9048498628500874', 'PRO274 - LEU107 - Distance: 2.651272524656792', 'PRO274 - ASP275 - Distance: 2.223845768033385', 'PRO274 - SER276 - Distance: 3.143534475713604', 'PRO274 - MET277 - Distance: 2.9402906318933897', 'PRO274 - ARG278 - Distance: 3.212345871789026', 'ASP275 - ARG27 - Distance: 3.28587826919988', 'ASP275 - GLY28 - Distance: 2.769637160351513', 'ASP275 - SER276 - Distance: 2.2550623051259584', 'ASP275 - MET277 - Distance: 3.3203216711638075', 'ASP275 - ARG278 - Distance: 3.3902263936203423', 'ASP275 - LYS279 - Distance: 2.9620805188245645', 'ASP275 - ASN93 - Distance: 2.9484282253431244', 'ASP275 - LYS272 - Distance: 2.6829455827504223', 'ASP275 - GLY26 - Distance: 3.5520182995024085', 'ASP275 - ASN93 - Distance: 2.70468500938649', 'ASP275 - LYS95 - Distance: 3.0548972159468804', 'SER276 - GLY28 - Distance: 3.42141505813019', 'SER276 - MET277 - Distance: 2.2599975663703704', 'SER276 - ARG278 - Distance: 3.8619810978304927', 'SER276 - LYS279 - Distance: 3.603476099546106', 'SER276 - GLN280 - Distance: 3.2796995289202937', 'SER276 - ASN23 - Distance: 3.6802789296464953', 'SER276 - ARG27 - Distance: 3.469658628741454', 'SER276 - ARG27 - Distance: 3.45462429216261', 'SER276 - ARG27 - Distance: 3.4796060121801133', 'SER276 - GLY28 - Distance: 3.7354588740876298', 'SER276 - MET277 - Distance: 3.125617219046504', 'MET277 - ALA110 - Distance: 2.818784135048299', 'MET277 - ARG278 - Distance: 2.2477201783140157', 'MET277 - LYS279 - Distance: 3.2239792182953004', 'MET277 - GLN280 - Distance: 3.3023072237452396', 'MET277 - LEU281 - Distance: 2.8698747359423207', 'MET277 - GLY418 - Distance: 2.9454110069733925', 'MET277 - ARG27 - Distance: 3.7706933049506928', 'MET277 - ARG27 - Distance: 3.2048283885412614', 'MET277 - SER30 - Distance: 3.4058661159828336', 'MET277 - SER80 - Distance: 3.632296381079058', 'MET277 - LEU107 - Distance: 3.778341832073961', 'ARG278 - ALA110 - Distance: 3.464904183379391', 'ARG278 - LYS279 - Distance: 2.228155066417056', 'ARG278 - GLN280 - Distance: 3.5919735522411615', 'ARG278 - LEU281 - Distance: 3.743556330549869', 'ARG278 - GLY282 - Distance: 2.9707807054712068', 'LYS279 - GLN280 - Distance: 2.224269318225654', 'LYS279 - LEU281 - Distance: 3.731956859343367', 'GLN280 - LYS66 - Distance: 2.935745731496514', 'GLN280 - LEU281 - Distance: 2.2008275716193633', 'GLN280 - GLY282 - Distance: 3.8005323311346744', 'GLN280 - ASP417 - Distance: 3.6298432473042155', 'GLN280 - ALA63 - Distance: 1.4965410118002114', 'GLN280 - LEU64 - Distance: 3.249902306223989', 'GLN280 - ASN328 - Distance: 3.631103138166145', 'GLN280 - ARG358 - Distance: 3.3397637641006934', 'LEU281 - LYS66 - Distance: 2.942088543874912', 'LEU281 - ALA110 - Distance: 3.771956919160135', 'LEU281 - GLY111 - Distance: 3.7139707860994307', 'LEU281 - GLY282 - Distance: 2.2363617775306395', 'LEU281 - ASP283 - Distance: 3.2475007313317157', 'LEU281 - ASP283 - Distance: 3.139491041554348', 'LEU281 - ARG284 - Distance: 2.9654404394625753', 'LEU281 - ARG284 - Distance: 3.874640757541267', 'GLY282 - GLU109 - Distance: 3.7492187186132537', 'GLY282 - ALA110 - Distance: 3.0453328225335263', 'GLY282 - GLY111 - Distance: 3.3987585968997562', 'GLY282 - ARG278 - Distance: 2.7868026481973946', 'GLY282 - ASP283 - Distance: 2.247172000537564', 'GLY282 - ASP283 - Distance: 2.317756458301862', 'GLY282 - ARG284 - Distance: 3.1513143289745003', 'GLY282 - LEU285 - Distance: 3.1138969154421288', 'ASP283 - ARG130 - Distance: 3.746167908676816', 'ASP283 - ARG284 - Distance: 2.24813055670706', 'ASP283 - LEU285 - Distance: 3.5113189829464364', 'ASP283 - ARG130 - Distance: 3.524221758062341', 'ASP283 - ARG284 - Distance: 2.2647043957214397', 'ASP283 - LEU285 - Distance: 3.3017062255748946', 'ASP283 - ARG284 - Distance: 3.721682549600379', 'ASP283 - ARG284 - Distance: 3.6482832949210513', 'ARG284 - GLY111 - Distance: 3.0346983375617422', 'ARG284 - ILE112 - Distance: 3.515448904478631', 'ARG284 - ALA126 - Distance: 2.2751646094293925', 'ARG284 - LEU127 - Distance: 2.8325820376469215', 'ARG284 - ASP128 - Distance: 3.3723749791504503', 'ARG284 - LYS129 - Distance: 2.676775111958419', 'ARG284 - LEU285 - Distance: 2.221730856787112', 'LEU285 - GLU109 - Distance: 3.7211013154709964', 'LEU285 - GLY111 - Distance: 3.711819769331478', 'LEU285 - ALA126 - Distance: 3.6103094050233446', 'LEU285 - LEU127 - Distance: 3.4994829618102172', 'LEU285 - ARG130 - Distance: 3.317415108182876', 'LEU285 - ARG130 - Distance: 3.8577835605435413', 'LEU285 - ARG130 - Distance: 3.288801909510512', 'LEU285 - ARG278 - Distance: 2.774769720174991', 'LEU285 - ARG278 - Distance: 3.3721601385462097', 'LEU285 - GLU287 - Distance: 3.802569920461686', 'PRO286 - GLY86 - Distance: 2.683894558286522', 'PRO286 - GLY87 - Distance: 2.5046989839100413', 'PRO286 - ARG130 - Distance: 3.475322143341536', 'PRO286 - ARG278 - Distance: 2.9076722648881885', 'PRO286 - GLU287 - Distance: 2.257066237397563', 'GLU287 - GLY87 - Distance: 3.477408949203415', 'GLU287 - ARG88 - Distance: 2.9135727209046967', 'GLU287 - ARG130 - Distance: 3.4665074642931337', 'GLU287 - PHE288 - Distance: 2.2480633887860018', 'GLU287 - THR289 - Distance: 3.797910214841839', 'GLU287 - ASP90 - Distance: 3.347779861340947', 'GLU287 - ARG130 - Distance: 3.722447581900918', 'GLU287 - ARG130 - Distance: 2.720915470939881', 'PHE288 - ARG88 - Distance: 2.054859849235466', 'PHE288 - ASN89 - Distance: 0.844943785112359', 'PHE288 - ASP90 - Distance: 2.796740066577516', 'PHE288 - THR289 - Distance: 2.2211683862327947', 'THR289 - ARG88 - Distance: 3.6873270806913774', 'THR289 - ASN89 - Distance: 3.722048092112727', 'THR289 - ASN146 - Distance: 3.477103823586519', 'THR289 - GLU291 - Distance: 3.3080105803942077', 'THR289 - VAL293 - Distance: 2.865541659093443', 'THR289 - GLU292 - Distance: 3.275142897645842', 'PRO290 - GLU291 - Distance: 2.2723666077462066', 'PRO290 - VAL293 - Distance: 3.4907708317791357', 'PRO290 - ALA294 - Distance: 3.1417528546975166', 'GLU291 - GLU292 - Distance: 2.243002897902721', 'GLU291 - LEU295 - Distance: 3.024458629242595', 'GLU292 - LEU295 - Distance: 3.1164304901601763', 'GLU292 - VAL296 - Distance: 2.8074559658167395', 'GLU292 - LYS137 - Distance: 2.7506677371140262', 'GLU292 - LYS137 - Distance: 3.7635488571293987', 'VAL293 - ASN146 - Distance: 3.873318215690521', 'VAL293 - TYR147 - Distance: 3.725291397998283', 'VAL293 - ILE150 - Distance: 3.160636802924372', 'VAL293 - ALA294 - Distance: 2.2245237692593918', 'VAL293 - LYS297 - Distance: 2.9543435819146', 'ALA294 - LEU295 - Distance: 2.264069124386444', 'ALA294 - VAL296 - Distance: 3.7787851222317483', 'LEU295 - VAL296 - Distance: 2.2397263225671122', 'VAL296 - SER299 - Distance: 3.1226146095860114', 'LYS297 - SER299 - Distance: 3.6407408586714887', 'GLY298 - ARG219 - Distance: 2.824378161649039', 'GLY298 - ARG219 - Distance: 2.948774660770131', 'GLY298 - SER299 - Distance: 2.233411292171687', 'GLY298 - ASN300 - Distance: 3.3453676927955174', 'SER299 - HIS211 - Distance: 3.063222159752702', 'SER299 - ASN300 - Distance: 2.2713284658983164', 'SER299 - HIS211 - Distance: 3.123118153384532', 'SER299 - ASN300 - Distance: 3.878413851047874', 'ASN300 - ARG219 - Distance: 3.686416959596404', 'ASN300 - ASP301 - Distance: 2.2985891324897536', 'ASN300 - PHE302 - Distance: 3.801463665484651', 'ASN300 - ILE232 - Distance: 2.936094344533226', 'ASP301 - PHE302 - Distance: 2.2405834061690277', 'ASP301 - ARG219 - Distance: 2.916639504635427', 'ASP301 - ARG219 - Distance: 2.7313665078125267', 'ASP301 - LYS223 - Distance: 3.3412517115596065', 'ASP301 - LYS223 - Distance: 2.8817695952313747', 'ASP301 - ILE230 - Distance: 2.903892043447895', 'PHE302 - ASN300 - Distance: 3.3971770633866', 'PHE302 - TYR303 - Distance: 2.2590664000865486', 'PHE302 - GLY304 - Distance: 3.82013520703129', 'GLY304 - LEU234 - Distance: 2.935561956423334', 'GLY304 - MET305 - Distance: 2.2691991979550847', 'MET305 - ASN306 - Distance: 2.2622946315632713', 'MET305 - THR376 - Distance: 2.7627765019993924', 'MET305 - GLU377 - Distance: 3.470502125053377', 'ASN306 - GLY236 - Distance: 3.393626526298968', 'ASN306 - HIS307 - Distance: 2.270871198461067', 'ASN306 - GLU377 - Distance: 3.1663431589137665', 'HIS307 - TYR308 - Distance: 2.2707714548144198', 'HIS307 - ASN378 - Distance: 2.7720624091098656', 'THR309 - ALA238 - Distance: 2.9827557727712146', 'THR309 - ALA310 - Distance: 2.2693692956414115', 'THR309 - ASP431 - Distance: 3.411320418840775', 'THR309 - ASN432 - Distance: 2.3896010127215814', 'THR309 - ASN432 - Distance: 1.6878041948045983', 'THR309 - ARG351 - Distance: 2.9932443936304325', 'ALA310 - ASN311 - Distance: 2.2618023786352337', 'ALA310 - ASN311 - Distance: 3.635443439251947', 'ALA310 - ASN432 - Distance: 2.4551786085741294', 'ASN311 - CYS52 - Distance: 3.392387507346415', 'ASN311 - LEU240 - Distance: 2.981924546329098', 'ASN311 - TYR312 - Distance: 2.2343582971403646', 'ASN311 - ILE313 - Distance: 3.7052335958748936', 'ASN311 - PHE433 - Distance: 3.403753663237103', 'ASN311 - GLU434 - Distance: 3.8525986035402133', 'ASN311 - TYR439 - Distance: 2.6703529729232405', 'TYR312 - ASP449 - Distance: 2.4201340871943433', 'TYR312 - TYR450 - Distance: 1.846898751962324', 'TYR312 - ALA451 - Distance: 3.3459907351933884', 'ILE313 - TRP242 - Distance: 2.87234555720582', 'ILE313 - LYS314 - Distance: 2.2854187800051', 'LYS314 - HIS315 - Distance: 2.271784540840085', 'LYS314 - LYS316 - Distance: 3.7441574486124396', 'LYS314 - GLU330 - Distance: 2.8474040809129995', 'HIS315 - LYS316 - Distance: 2.225239312972877', 'HIS315 - LYS455 - Distance: 3.4437659618504894', 'LYS316 - THR317 - Distance: 2.194641428570963', 'LYS316 - ASN328 - Distance: 3.5297220853772653', 'THR317 - GLY318 - Distance: 2.247493047820167', 'THR317 - GLY318 - Distance: 3.7589356206245403', 'GLY318 - VAL319 - Distance: 2.2529280947247283', 'GLY318 - ASN328 - Distance: 3.0543937205278575', 'PRO320 - GLU322 - Distance: 3.6939909312287167', 'PRO321 - SER0 - Distance: 3.7491154956869504', 'PRO321 - GLU67 - Distance: 2.768742855521256', 'PRO321 - GLU322 - Distance: 2.2628707431048727', 'PRO321 - ASP323 - Distance: 3.19199624059929', 'PRO321 - ASP324 - Distance: 2.9716150490936744', 'GLU322 - SER0 - Distance: 3.2849957382011925', 'GLU322 - MET1 - Distance: 2.357216366819137', 'GLU322 - GLU67 - Distance: 3.8500370128090995', 'GLU322 - LYS129 - Distance: 3.7569909502153425', 'GLU322 - ARG284 - Distance: 2.9076220524683003', 'GLU322 - ARG284 - Distance: 3.77511893852366', 'GLU322 - ASP323 - Distance: 2.2569922463313876', 'GLU322 - ASP324 - Distance: 3.3001978728555055', 'GLU322 - ALA415 - Distance: 3.497394601699953', 'GLU322 - GLU416 - Distance: 2.971968539537386', 'GLU322 - SER0 - Distance: 3.2926115774564124', 'ASP323 - PHE35 - Distance: 1.819820870305645', 'ASP323 - CYS36 - Distance: 3.5493962866944004', 'ASP323 - GLU67 - Distance: 3.5018682156814522', 'ASP323 - LEU68 - Distance: 1.5322069050882132', 'ASP323 - GLY69 - Distance: 1.1689679208601047', 'ASP323 - ALA70 - Distance: 3.7506131498729625', 'ASP323 - ASP324 - Distance: 2.236551363148183', 'ASP323 - PHE325 - Distance: 3.498170093062943', 'ASP323 - ALA412 - Distance: 1.731174168014296', 'ASP323 - MET1 - Distance: 2.229739222420416', 'ASP324 - ASP33 - Distance: 3.686019397670066', 'ASP324 - THR34 - Distance: 0.9247491551766878', 'ASP324 - PHE35 - Distance: 2.903390431891652', 'ASP324 - LEU65 - Distance: 3.246052063661332', 'ASP324 - LYS66 - Distance: 1.004347051571316', 'ASP324 - GLU67 - Distance: 2.084642175530372', 'ASP324 - LEU68 - Distance: 3.3499835820493185', 'ASP324 - GLN280 - Distance: 3.838456590870868', 'ASP324 - PHE325 - Distance: 2.2467928253401546', 'ASP324 - ALA412 - Distance: 2.5109528072028766', 'ASP324 - ALA413 - Distance: 1.6806721869537786', 'ASP324 - VAL414 - Distance: 3.443964721073663', 'ASP324 - GLU416 - Distance: 3.6397627669945716', 'ASP324 - CYS36 - Distance: 3.562188793424628', 'ASP324 - ALA37 - Distance: 2.3335822248208884', 'ASP324 - LEU64 - Distance: 3.2090288250497254', 'ASP324 - LEU65 - Distance: 3.6350995859811057', 'ASP324 - GLU67 - Distance: 3.5784614012170115', 'ASP324 - LEU68 - Distance: 3.8814967473901105', 'ASP324 - PHE325 - Distance: 3.420148680978654', 'ASP324 - LEU326 - Distance: 3.540229512333913', 'ASP324 - ARG358 - Distance: 2.2217092519049375', 'ASP324 - ARG358 - Distance: 1.343658438741036', 'ASP324 - ARG358 - Distance: 3.1454985296451805', 'ASP324 - THR34 - Distance: 3.4896683223481313', 'ASP324 - ALA63 - Distance: 3.7349084326125057', 'ASP324 - LEU64 - Distance: 1.545455596256328', 'ASP324 - LEU65 - Distance: 2.916302796350201', 'ASP324 - LYS66 - Distance: 3.6476207313809352', 'ASP324 - GLU67 - Distance: 3.2466507357583136', 'ASP324 - GLN280 - Distance: 2.9118971479089075', 'ASP324 - PHE325 - Distance: 3.5755707236747543', 'ASP324 - LEU326 - Distance: 3.5740114717219353', 'ASP324 - GLY327 - Distance: 3.019235664866194', 'ASP324 - ASN328 - Distance: 2.9589207491921785', 'ASP324 - ARG358 - Distance: 0.8236425195435212', 'ASP324 - ARG358 - Distance: 1.994402416765482', 'ASP324 - ARG358 - Distance: 1.5813026275827153', 'PHE325 - TRP32 - Distance: 3.1856173655980724', 'PHE325 - ASP33 - Distance: 1.1234455928081242', 'PHE325 - THR34 - Distance: 3.8460860624796225', 'PHE325 - LEU65 - Distance: 2.143711501112033', 'PHE325 - LEU326 - Distance: 2.2060718483313266', 'PHE325 - GLY327 - Distance: 3.649527777672064', 'PHE325 - ALA413 - Distance: 3.310797184969204', 'LEU326 - GLY48 - Distance: 3.7665451012831332', 'LEU326 - ALA49 - Distance: 3.8127130760129337', 'LEU326 - ILE62 - Distance: 3.3902962997354704', 'LEU326 - GLY327 - Distance: 2.2733512707014714', 'LEU326 - ASN362 - Distance: 2.951677658552845', 'GLY327 - ASN23 - Distance: 3.639668391488432', 'GLY327 - GLU60 - Distance: 2.9442569521018394', 'GLY327 - ALA63 - Distance: 3.671023562986215', 'GLY327 - LEU64 - Distance: 3.5646161083628645', 'GLY327 - ARG255 - Distance: 2.6473142994363177', 'GLY327 - ARG255 - Distance: 3.2264223220155164', 'GLY327 - ASN328 - Distance: 2.2350930629394394', 'GLY327 - LEU329 - Distance: 3.6837626145016475', 'ASN328 - ARG255 - Distance: 3.289477466103087', 'ASN328 - LYS316 - Distance: 3.1044543804024567', 'ASN328 - LEU329 - Distance: 2.2583299138965507', 'LEU329 - SER47 - Distance: 3.0160920078803968', 'LEU329 - GLU330 - Distance: 2.26665414212226', 'LEU329 - GLN355 - Distance: 1.771508114573569', 'GLU330 - SER47 - Distance: 3.7285962506015595', 'GLU330 - LYS314 - Distance: 3.0425295397086933', 'GLU330 - THR331 - Distance: 2.235751327853793', 'GLU330 - LYS455 - Distance: 3.8576827241233813', 'THR331 - SER46 - Distance: 3.7680372875012806', 'THR331 - LEU332 - Distance: 2.257848976348949', 'THR331 - SER47 - Distance: 3.212607974839132', 'LEU332 - TYR312 - Distance: 2.7643460347792916', 'LEU332 - PHE333 - Distance: 2.2886174866062694', 'PHE333 - TYR334 - Distance: 2.2916312966967443', 'PHE333 - ILE341 - Distance: 2.9918800109630057', 'PHE333 - ARG442 - Distance: 3.89810954181639', 'PHE333 - ARG442 - Distance: 1.9637242678135818', 'TYR334 - ASN386 - Distance: 3.5711649359837714', 'TYR334 - ASP387 - Distance: 2.587595988557719', 'ASN335 - TRP242 - Distance: 3.8958054366202646', 'ASN335 - LYS336 - Distance: 2.233537328991842', 'ASN335 - TYR337 - Distance: 3.14621820603721', 'ASN335 - GLY338 - Distance: 3.0256824023681004', 'ASN335 - LYS336 - Distance: 3.330569620950748', 'ASN335 - TYR337 - Distance: 2.88927949496064', 'ASN335 - GLY338 - Distance: 3.004347682942173', 'ASN335 - ASP339 - Distance: 2.850173854346434', 'ASN335 - ALA451 - Distance: 2.8093547301827164', 'ASN335 - ASN452 - Distance: 3.064966394595545', 'LYS336 - TYR337 - Distance: 2.230980053698375', 'LYS336 - GLY338 - Distance: 3.6562566923015662', 'GLY338 - ASP339 - Distance: 2.2522000355208203', 'GLY338 - CYS340 - Distance: 3.7502342593496723', 'ASP339 - ASN335 - Distance: 2.9257253801407948', 'ASP339 - CYS340 - Distance: 2.285758954920663', 'ASP339 - CYS340 - Distance: 3.1332542188593644', 'CYS340 - ILE341 - Distance: 2.236595850841183', 'CYS340 - GLY342 - Distance: 3.6869566040299397', 'CYS340 - ARG442 - Distance: 3.730229349517262', 'CYS340 - ILE341 - Distance: 3.7891368410232937', 'CYS340 - GLY342 - Distance: 3.5969192373474264', 'CYS340 - ILE341 - Distance: 3.216726441586225', 'CYS340 - GLY342 - Distance: 3.527546597849558', 'CYS340 - ARG442 - Distance: 3.518256528452691', 'CYS340 - ARG442 - Distance: 3.247473171559694', 'ILE341 - GLY342 - Distance: 2.236514475696501', 'ILE341 - ARG442 - Distance: 3.854735918321772', 'ILE341 - ARG442 - Distance: 2.696509410330325', 'ILE341 - VAL448 - Distance: 3.472998848257803', 'GLY342 - GLU344 - Distance: 3.8562599756759126', 'GLY342 - ARG351 - Distance: 3.010811518511249', 'PRO343 - GLU344 - Distance: 2.276643582118198', 'PRO343 - THR345 - Distance: 3.8628366519955257', 'GLU344 - THR345 - Distance: 2.249347683218404', 'GLU344 - LYS383 - Distance: 2.544535124536503', 'THR345 - GLN346 - Distance: 2.256284999728533', 'THR345 - SER347 - Distance: 3.4838629421950564', 'THR345 - GLN346 - Distance: 3.1880956698317586', 'THR345 - SER347 - Distance: 3.21924634037223', 'GLN346 - SER347 - Distance: 2.2392226329688625', 'GLN346 - PHE348 - Distance: 3.864219196681266', 'GLN346 - GLY384 - Distance: 2.693998700816316', 'SER347 - PHE348 - Distance: 2.2527773969036535', 'SER347 - TRP349 - Distance: 3.0405009455680148', 'SER347 - LEU350 - Distance: 3.045826817138488', 'PHE348 - TRP349 - Distance: 2.2510348731194734', 'PHE348 - LEU350 - Distance: 3.656975936480851', 'TRP349 - LEU350 - Distance: 2.23313255316383', 'LEU350 - THR345 - Distance: 3.735838727782557', 'LEU350 - ARG351 - Distance: 2.260707411409094', 'ARG351 - HIS353 - Distance: 3.497087645455858', 'PRO352 - HIS353 - Distance: 2.2364449467849634', 'HIS353 - ALA354 - Distance: 2.20925756760048', 'HIS353 - GLN355 - Distance: 3.2600837412557366', 'HIS353 - GLY356 - Distance: 3.153555136667187', 'HIS353 - PHE357 - Distance: 3.7555694641425537', 'HIS353 - LEU430 - Distance: 3.0106823146921387', 'HIS353 - ASP431 - Distance: 2.68029065588044', 'HIS353 - VAL445 - Distance: 3.4608117544876653', 'HIS353 - THR446 - Distance: 2.430642919064831', 'HIS353 - TYR447 - Distance: 3.8295172019459582', 'ALA354 - GLN355 - Distance: 2.227440908307112', 'ALA354 - GLY356 - Distance: 3.205524762031952', 'ALA354 - PHE357 - Distance: 2.9621250817614015', 'ALA354 - ARG358 - Distance: 3.3682105041104524', 'ALA354 - LEU430 - Distance: 3.73733099952359', 'ALA354 - THR446 - Distance: 3.351439392261184', 'GLN355 - GLY356 - Distance: 2.261340089416008', 'GLN355 - PHE357 - Distance: 3.36526774566304', 'GLN355 - ARG358 - Distance: 3.233210788055737', 'GLN355 - ASP359 - Distance: 2.821844077903669', 'GLN355 - SER47 - Distance: 2.632028115351354', 'GLN355 - LEU329 - Distance: 3.3046194939811153', 'GLN355 - GLU330 - Distance: 2.651597631617586', 'GLY356 - PHE357 - Distance: 2.2467476493812133', 'GLY356 - ARG358 - Distance: 3.4858364849774577', 'GLY356 - ASP359 - Distance: 3.283836780353129', 'GLY356 - LEU360 - Distance: 2.765096924160162', 'GLY356 - LEU430 - Distance: 3.441315010283132', 'PHE357 - ARG358 - Distance: 2.260657868851459', 'PHE357 - ASP359 - Distance: 3.4973838794161587', 'PHE357 - LEU360 - Distance: 3.270844692124649', 'PHE357 - LEU361 - Distance: 2.8562718708134174', 'ARG358 - ASP359 - Distance: 2.271023777946856', 'ARG358 - LEU360 - Distance: 3.3473735973147662', 'ARG358 - LEU361 - Distance: 3.327722043680931', 'ARG358 - ASN362 - Distance: 3.0856535774451412', 'ASP359 - LEU360 - Distance: 2.2550815949761125', 'ASP359 - LEU361 - Distance: 3.581797453793275', 'ASP359 - ASN362 - Distance: 3.276617920966678', 'ASP359 - TRP363 - Distance: 2.942783206422107', 'ASP359 - ASP61 - Distance: 3.63357496138445', 'ASP359 - ARG456 - Distance: 2.4450556230891753', 'ASP359 - ARG456 - Distance: 3.639186859725671', 'ASP359 - ARG456 - Distance: 0.6997735347953649', 'ASP359 - ARG456 - Distance: 2.67647790949225', 'ASP359 - ARG456 - Distance: 2.279836178325101', 'LEU360 - LEU361 - Distance: 2.2305662958092065', 'LEU360 - ASN362 - Distance: 3.2829057251160907', 'LEU360 - TRP363 - Distance: 3.242275435554481', 'LEU360 - LEU364 - Distance: 2.9620231261757577', 'LEU361 - ASN362 - Distance: 2.2800931998495155', 'LEU361 - TRP363 - Distance: 3.669215311207563', 'LEU361 - LEU364 - Distance: 3.6253780492522423', 'LEU361 - SER365 - Distance: 2.917099415515348', 'ASN362 - TRP363 - Distance: 2.2383301811841805', 'ASN362 - LEU364 - Distance: 3.351318994067858', 'ASN362 - SER365 - Distance: 3.4161276322760528', 'ASN362 - LYS366 - Distance: 2.9008343627308313', 'ASN362 - ARG27 - Distance: 3.88863587907122', 'ASN362 - ARG27 - Distance: 1.6875787389037593', 'ASN362 - ARG27 - Distance: 3.544668672809914', 'ASN362 - SER30 - Distance: 3.8287894953888486', 'ASN362 - ILE62 - Distance: 1.7382925530531383', 'ASN362 - ALA63 - Distance: 3.3279761116931126', 'ASN362 - MET277 - Distance: 3.82176883131358', 'TRP363 - HIS99 - Distance: 3.281697883718122', 'TRP363 - LEU364 - Distance: 2.2312799017604212', 'TRP363 - SER365 - Distance: 3.686718459551799', 'TRP363 - LYS366 - Distance: 3.4783043282611126', 'TRP363 - ARG367 - Distance: 3.0095032812741676', 'LEU364 - SER365 - Distance: 2.2398294577936078', 'LEU364 - LYS366 - Distance: 3.368905460234824', 'LEU364 - ARG367 - Distance: 3.330797652214857', 'LEU364 - TYR368 - Distance: 3.0008140562187444', 'SER365 - PHE103 - Distance: 2.703860388407656', 'SER365 - VAL104 - Distance: 1.2796753494539175', 'SER365 - LYS366 - Distance: 2.2536505940362628', 'SER365 - ARG367 - Distance: 3.5858993293175425', 'SER365 - TYR368 - Distance: 3.5450049365268876', 'SER365 - GLY369 - Distance: 3.028248008337496', 'SER365 - TYR370 - Distance: 2.791690169055299', 'LYS366 - TYR100 - Distance: 3.6144833655724584', 'LYS366 - LYS102 - Distance: 3.009221327852111', 'LYS366 - PHE103 - Distance: 1.3347190715652502', 'LYS366 - VAL104 - Distance: 3.8360517462620343', 'LYS366 - ARG367 - Distance: 2.2414745146889365', 'LYS366 - TYR368 - Distance: 3.3918239930751146', 'LYS366 - GLY369 - Distance: 3.809709437739316', 'ARG367 - HIS99 - Distance: 3.5996047005192118', 'ARG367 - TYR100 - Distance: 0.8519501159105496', 'ARG367 - VAL101 - Distance: 2.2543706438826776', 'ARG367 - TYR368 - Distance: 2.2457001135503387', 'ARG367 - GLY369 - Distance: 3.870156973560633', 'TYR368 - SER78 - Distance: 2.640056060010848', 'TYR368 - ASP266 - Distance: 3.554388414340783', 'TYR368 - ARG367 - Distance: 3.507472024122215', 'GLY369 - VAL104 - Distance: 3.6743442952450716', 'GLY369 - ASP105 - Distance: 2.8457721272090635', 'GLY369 - TYR370 - Distance: 2.260896061299592', 'TYR370 - ARG27 - Distance: 3.635216362199092', 'TYR370 - GLY28 - Distance: 0.1645660961437671', 'TYR370 - ASP106 - Distance: 3.1226415100039886', 'TYR370 - LEU107 - Distance: 2.8937071379115027', 'TYR370 - ASP275 - Distance: 3.175212276368304', 'TYR370 - SER276 - Distance: 2.477871667379085', 'TYR370 - MET277 - Distance: 1.3586868660585547', 'TYR370 - ARG278 - Distance: 2.5650670556537105', 'PRO371 - PHE115 - Distance: 3.8836529196106087', 'LYS372 - TYR303 - Distance: 2.6877652427248933', 'LYS372 - ILE373 - Distance: 2.2703385210139913', 'ILE373 - GLY204 - Distance: 3.285269851929976', 'ILE373 - ARG422 - Distance: 2.928657200834539', 'ILE373 - GLY423 - Distance: 3.8226454190782597', 'TYR374 - HIS160 - Distance: 3.4219884570231973', 'TYR374 - ILE207 - Distance: 1.705754085441392', 'TYR374 - LYS372 - Distance: 3.3425083395557897', 'VAL375 - THR376 - Distance: 2.2471441876301577', 'VAL375 - GLU377 - Distance: 3.6818758805804412', 'THR376 - ARG74 - Distance: 3.101223951926078', 'THR376 - GLU377 - Distance: 2.3068706075547474', 'THR376 - MET305 - Distance: 3.6199117392555302', 'THR376 - GLU377 - Distance: 3.6431937911673082', 'GLU377 - HIS307 - Distance: 3.0433126687870904', 'GLU377 - ASN378 - Distance: 2.2743836527727703', 'GLU377 - ASN306 - Distance: 3.367375684416574', 'GLU377 - ARG74 - Distance: 2.9469937224229046', 'GLU377 - ASN306 - Distance: 3.3579912149974422', 'ASN378 - GLY379 - Distance: 2.2600365041299693', 'ASN378 - TRP427 - Distance: 2.831487418301554', 'GLY379 - THR380 - Distance: 2.257099466129039', 'THR380 - SER381 - Distance: 2.2809210858773707', 'THR380 - ARG399 - Distance: 3.024355303200999', 'THR380 - ARG399 - Distance: 3.0480185366890433', 'THR380 - SER381 - Distance: 2.881466813968191', 'SER381 - LEU382 - Distance: 2.282115904155616', 'SER381 - GLN346 - Distance: 3.273139929792193', 'SER381 - SER347 - Distance: 3.211875153239927', 'SER381 - LEU382 - Distance: 3.549925492175861', 'LEU382 - LYS383 - Distance: 2.237023915831032', 'LEU382 - GLY384 - Distance: 3.325167815313989', 'LEU382 - GLU385 - Distance: 3.0818095333748365', 'LYS383 - GLY384 - Distance: 2.2160661091221976', 'LYS383 - GLU385 - Distance: 3.234283537354135', 'GLY384 - GLU385 - Distance: 2.248445462981026', 'GLY384 - ASN386 - Distance: 3.232176511269142', 'GLY384 - ASP387 - Distance: 3.011106275108867', 'GLY384 - MET388 - Distance: 3.5295866613528575', 'GLU385 - ASN386 - Distance: 2.2488081287651025', 'GLU385 - ASP387 - Distance: 3.1182950469767925', 'GLU385 - MET388 - Distance: 3.2361361219825056', 'GLU385 - LEU382 - Distance: 3.8070447856572427', 'GLU385 - ARG399 - Distance: 3.669480344680974', 'GLU385 - ARG399 - Distance: 2.742933101626797', 'GLU385 - ARG399 - Distance: 2.8863715976983944', 'GLU385 - ARG399 - Distance: 3.459097136537218', 'GLU385 - LYS459 - Distance: 2.769798909668352', 'ASN386 - ASP387 - Distance: 2.207743191587282', 'ASN386 - MET388 - Distance: 3.890161050650728', 'ASN386 - ARG442 - Distance: 2.7602525246795784', 'ASN386 - ARG442 - Distance: 2.811654495132713', 'ASP387 - MET388 - Distance: 2.224424644711533', 'MET388 - LEU390 - Distance: 3.8987269717178195', 'MET388 - GLN392 - Distance: 3.659799721296235', 'PRO389 - LEU390 - Distance: 2.2284777315468065', 'PRO389 - VAL393 - Distance: 3.0638324040325693', 'LEU390 - GLU391 - Distance: 2.281397378800979', 'LEU390 - GLN392 - Distance: 3.1825214846093335', 'LEU390 - LEU394 - Distance: 3.0248869400359446', 'GLU391 - GLN392 - Distance: 2.223883540116254', 'GLU391 - LEU394 - Distance: 3.73493641177464', 'GLU391 - GLU395 - Distance: 3.469573028486359', 'GLN392 - LEU394 - Distance: 3.4084955625612925', 'GLN392 - GLU395 - Distance: 3.213057578071084', 'LEU394 - ASP44 - Distance: 3.4747490556873313', 'LEU394 - GLU395 - Distance: 2.246809738273355', 'LEU394 - ASP396 - Distance: 3.1270983355180877', 'LEU394 - LYS460 - Distance: 2.7296780029886305', 'GLU395 - ASP396 - Distance: 2.2260858024793233', 'GLU395 - ASP397 - Distance: 2.9418227342924688', 'GLU395 - LYS460 - Distance: 3.756906839409251', 'ASP396 - ASP397 - Distance: 2.233710366184477', 'ASP396 - PHE398 - Distance: 3.121998878923566', 'ASP396 - ARG399 - Distance: 2.9415019972796217', 'ASP396 - VAL400 - Distance: 2.9942892311865936', 'ASP396 - ALA43 - Distance: 2.9104877598093433', 'ASP396 - LYS460 - Distance: 3.2391191703918514', 'ASP396 - SER461 - Distance: 2.8436555698607373', 'ASP396 - ALA43 - Distance: 3.0860818200430145', 'ASP396 - GLU437 - Distance: 3.856223152256628', 'ASP397 - PHE398 - Distance: 2.2143805002754164', 'ASP397 - ARG399 - Distance: 3.340904967220707', 'ASP397 - VAL400 - Distance: 3.337906229959133', 'ASP397 - LYS401 - Distance: 2.9551395906115836', 'ASP397 - LYS460 - Distance: 2.6693478604333314', 'PHE398 - ARG399 - Distance: 2.236004472267442', 'PHE398 - VAL400 - Distance: 3.7997002513356226', 'PHE398 - LYS401 - Distance: 3.441584518793631', 'PHE398 - TYR402 - Distance: 2.9533877158273687', 'ARG399 - VAL400 - Distance: 2.2451033383788848', 'ARG399 - LYS401 - Distance: 3.169449636766612', 'ARG399 - TYR402 - Distance: 3.1524802933563287', 'ARG399 - PHE403 - Distance: 3.04015805510174', 'VAL400 - LYS401 - Distance: 2.2798605220495416', 'VAL400 - TYR402 - Distance: 3.6659627657683593', 'VAL400 - PHE403 - Distance: 3.459821093640536', 'VAL400 - ASN404 - Distance: 2.9469188994609254', 'LYS401 - TYR402 - Distance: 2.2327294954830506', 'LYS401 - PHE403 - Distance: 3.421318167022766', 'LYS401 - ASN404 - Distance: 3.2942132596418245', 'LYS401 - ASP405 - Distance: 2.9146872902594545', 'TYR402 - ASN378 - Distance: 3.046861992279932', 'PHE403 - ASN404 - Distance: 2.241257013374416', 'PHE403 - ASP405 - Distance: 3.3896250530110277', 'PHE403 - TYR406 - Distance: 3.433547582311915', 'PHE403 - VAL407 - Distance: 2.800347299889784', 'ASN404 - ASP405 - Distance: 2.257976306341589', 'ASN404 - TYR406 - Distance: 3.596298930845434', 'ASN404 - VAL407 - Distance: 3.687645319170489', 'ASN404 - ARG408 - Distance: 3.035963273822659', 'ASN404 - LYS190 - Distance: 3.6192414951202134', 'ASN404 - ARG408 - Distance: 3.1573351105006258', 'ASP405 - TYR406 - Distance: 2.248868826766026', 'ASP405 - VAL407 - Distance: 3.6061859353061636', 'ASP405 - ARG408 - Distance: 3.6500934234619216', 'ASP405 - ALA409 - Distance: 2.92144450571973', 'ASP405 - ASN404 - Distance: 3.401875512125626', 'ASP405 - LYS401 - Distance: 3.070789800686463', 'TYR406 - HIS353 - Distance: 2.6626588215541234', 'VAL407 - ASN176 - Distance: 3.2182294821842645', 'VAL407 - THR177 - Distance: 3.3821845011767158', 'VAL407 - ARG408 - Distance: 2.23334412932714', 'VAL407 - ALA409 - Distance: 3.3708423279649242', 'VAL407 - MET410 - Distance: 3.2596751371877555', 'VAL407 - ALA411 - Distance: 2.853764356074275', 'ARG408 - PHE35 - Distance: 2.372571179121925', 'ARG408 - CYS36 - Distance: 2.207898095474515', 'ARG408 - LEU68 - Distance: 2.4075817743121415', 'ARG408 - GLY69 - Distance: 2.8969062808451347', 'ARG408 - PHE325 - Distance: 3.719392154640324', 'ARG408 - ALA412 - Distance: 3.033048961029147', 'ALA409 - TRP32 - Distance: 3.792011339645491', 'ALA409 - ASP33 - Distance: 2.8825408930316994', 'ALA409 - THR34 - Distance: 3.346793689488495', 'ALA409 - PHE35 - Distance: 2.69934455007137', 'ALA409 - CYS36 - Distance: 2.2793795208345613', 'ALA409 - LEU65 - Distance: 2.8404888663749404', 'ALA409 - LEU68 - Distance: 3.6506529552944356', 'ALA409 - PHE325 - Distance: 1.8309218989350695', 'ALA409 - LEU326 - Distance: 2.4819107558492113', 'ALA409 - ALA412 - Distance: 3.3674917965750115', 'ALA409 - ALA413 - Distance: 2.977934519092051', 'MET410 - ILE31 - Distance: 3.3428205156723574', 'MET410 - TRP32 - Distance: 1.8448373912082334', 'MET410 - ASP33 - Distance: 3.6641835379795054', 'MET410 - THR34 - Distance: 3.8242747024762727', 'MET410 - PHE35 - Distance: 3.2962794177678534', 'MET410 - ALA70 - Distance: 2.5625020975601185', 'MET410 - PHE325 - Distance: 3.8065593388255454', 'MET410 - ALA412 - Distance: 3.3031388102833334', 'MET410 - ALA413 - Distance: 2.9919333214495256', 'MET410 - VAL414 - Distance: 2.9642865920824866', 'MET410 - ILE172 - Distance: 1.3366353279784267', 'MET410 - LEU173 - Distance: 3.2436223577969105', 'ALA411 - THR34 - Distance: 3.726680426331186', 'ALA411 - PHE35 - Distance: 3.0335645699407787', 'ALA411 - LYS66 - Distance: 3.778505921657396', 'ALA411 - GLY69 - Distance: 2.5254908433807475', 'ALA411 - ALA70 - Distance: 2.3895491206501696', 'ALA411 - TRP201 - Distance: 3.3923892760118215', 'ALA411 - ASP324 - Distance: 3.890200766027375', 'ALA411 - ALA412 - Distance: 2.2571021244064258', 'ALA411 - ALA413 - Distance: 3.6245354185053835', 'ALA411 - VAL414 - Distance: 3.30534733424492', 'ALA411 - ALA415 - Distance: 2.835627796450019', 'ALA412 - THR34 - Distance: 1.6432449604365116', 'ALA412 - LEU65 - Distance: 3.7121512630818265', 'ALA412 - LYS66 - Distance: 0.9823431172457026', 'ALA412 - GLU67 - Distance: 2.604111748754262', 'ALA412 - GLN280 - Distance: 3.1192534363209408', 'ALA412 - ASP324 - Distance: 3.6162589785578074', 'ALA412 - PHE325 - Distance: 3.3164922734720768', 'ALA412 - ALA413 - Distance: 2.291812819581913', 'ALA412 - VAL414 - Distance: 3.2642095520968035', 'ALA412 - ALA415 - Distance: 3.570193552176128', 'ALA412 - GLU416 - Distance: 2.7477951160885317', 'ALA412 - ASP417 - Distance: 3.056152810315612', 'ALA413 - SER30 - Distance: 2.15695549328214', 'ALA413 - ILE31 - Distance: 3.0413834023351947', 'ALA413 - THR34 - Distance: 3.798555120042353', 'ALA413 - LYS66 - Distance: 3.232595396890866', 'ALA413 - VAL414 - Distance: 2.276849358214109', 'ALA413 - ASP417 - Distance: 3.281009143541053', 'ALA413 - GLY418 - Distance: 3.0635263994292603', 'ALA413 - CYS419 - Distance: 2.9346204183846307', 'VAL414 - GLY111 - Distance: 3.6490219237488866', 'VAL414 - ASP125 - Distance: 3.6177457069285577', 'VAL414 - TRP201 - Distance: 2.462942549066055', 'VAL414 - ARG284 - Distance: 3.268378955996382', 'VAL414 - ALA415 - Distance: 2.258662878784704', 'VAL414 - GLU416 - Distance: 3.5101660929363465', 'VAL414 - ASP417 - Distance: 3.805905411331186', 'VAL414 - GLY418 - Distance: 2.9112600364790495', 'ALA415 - LYS66 - Distance: 2.1334990039838324', 'ALA415 - LYS129 - Distance: 3.19122217966722', 'ALA415 - ARG284 - Distance: 1.779723012156669', 'ALA415 - ARG284 - Distance: 1.7791048310878146', 'ALA415 - ARG284 - Distance: 0.7909418436269469', 'ALA415 - GLU416 - Distance: 2.2504490662976595', 'GLU416 - LYS66 - Distance: 3.5808807575790627', 'GLU416 - GLN280 - Distance: 3.287709841211657', 'GLU416 - LEU281 - Distance: 2.766863567290584', 'GLU416 - ARG284 - Distance: 3.6981425067187454', 'GLU416 - ASP417 - Distance: 2.2413982243233805', 'GLU416 - SER0 - Distance: 3.5392429981565257', 'GLU416 - ARG284 - Distance: 3.706887238641072', 'GLU416 - GLU322 - Distance: 3.130045047599154', 'ASP417 - SER30 - Distance: 3.5759615490102803', 'ASP417 - ALA110 - Distance: 3.7184139091822437', 'ASP417 - MET277 - Distance: 3.573898011975159', 'ASP417 - ARG278 - Distance: 3.3727626658275236', 'ASP417 - GLN280 - Distance: 3.7437738980873303', 'ASP417 - LEU281 - Distance: 3.094580585475195', 'ASP417 - GLY418 - Distance: 2.266316394504528', 'ASP417 - CYS419 - Distance: 3.487236585034056', 'ASP417 - ALA63 - Distance: 1.8936224544507285', 'ASP417 - LEU64 - Distance: 3.2618102335972856', 'ASP417 - GLN280 - Distance: 1.020696820804295', 'ASP417 - ARG358 - Distance: 3.748824349045979', 'ASP417 - ARG358 - Distance: 3.010560246864363', 'ASP417 - ASP33 - Distance: 3.7587201279158853', 'ASP417 - THR34 - Distance: 3.8663855213881617', 'ASP417 - ILE62 - Distance: 3.045344479693553', 'ASP417 - ALA63 - Distance: 1.465339209875991', 'ASP417 - LEU64 - Distance: 2.1181720893260745', 'ASP417 - LEU65 - Distance: 2.971840170668674', 'ASP417 - LYS66 - Distance: 3.6296508096509776', 'ASP417 - GLN280 - Distance: 2.5407264709133894', 'ASP417 - GLY327 - Distance: 2.457298923615114', 'ASP417 - ASN328 - Distance: 3.6647136313769466', 'ASP417 - ARG358 - Distance: 2.7214446531208414', 'ASP417 - ARG358 - Distance: 3.5409357520294007', 'ASP417 - ASN362 - Distance: 2.734252548686753', 'GLY418 - LEU107 - Distance: 3.4717445182501563', 'GLY418 - ILE108 - Distance: 2.430808301779472', 'GLY418 - GLU109 - Distance: 3.4775383534908735', 'GLY418 - ALA110 - Distance: 3.06125431808597', 'GLY418 - GLY111 - Distance: 3.18770167989415', 'GLY418 - ILE112 - Distance: 2.9554053867447685', 'GLY418 - ASP125 - Distance: 2.4385965225924493', 'GLY418 - ALA126 - Distance: 3.388893919850545', 'GLY418 - CYS419 - Distance: 2.2763631081178612', 'GLY418 - ASN420 - Distance: 3.488496810948807', 'CYS419 - ILE31 - Distance: 2.9793532855302667', 'CYS419 - ILE112 - Distance: 2.175436967599842', 'CYS419 - THR113 - Distance: 3.0018777456785304', 'CYS419 - ASP125 - Distance: 1.540760851008359', 'CYS419 - ASN420 - Distance: 2.2560099733822114', 'CYS419 - ARG27 - Distance: 3.6634270840293786', 'CYS419 - ARG27 - Distance: 2.917608609803585', 'CYS419 - SER30 - Distance: 1.5360758444816454', 'ASN420 - GLY204 - Distance: 3.6679892311728506', 'ASN420 - HIS205 - Distance: 2.8284557624258526', 'ASN420 - TRP263 - Distance: 2.0736446175755376', 'ASN420 - VAL421 - Distance: 2.2594933060312417', 'ASN420 - ARG422 - Distance: 3.7102229043549384', 'ASN420 - ILE202 - Distance: 3.5649374468565354', 'ASN420 - HIS205 - Distance: 2.8171897344694417', 'ASN420 - HIS205 - Distance: 3.8161720349061867', 'ASN420 - VAL421 - Distance: 3.896860531248198', 'ASN420 - ARG422 - Distance: 2.951838240825537', 'ASN420 - ARG422 - Distance: 3.5417190741220574', 'VAL421 - TRP201 - Distance: 2.185633089061383', 'VAL421 - ILE202 - Distance: 3.228045383819746', 'VAL421 - VAL203 - Distance: 3.047311766130927', 'VAL421 - GLY204 - Distance: 2.63509487495232', 'VAL421 - ARG422 - Distance: 2.2887948794070634', 'ARG422 - LYS8 - Distance: 2.950434205333173', 'ARG422 - VAL203 - Distance: 3.4760768115793983', 'ARG422 - GLY204 - Distance: 3.535838514412104', 'ARG422 - GLY423 - Distance: 2.2585145560744135', 'GLY423 - SER170 - Distance: 2.961431579489894', 'GLY423 - ALA171 - Distance: 1.1775780228927508', 'GLY423 - ILE172 - Distance: 3.722791022875178', 'GLY423 - TYR424 - Distance: 2.2592323917649537', 'LEU425 - GLU377 - Distance: 3.7208339119073823', 'LEU425 - ASN378 - Distance: 3.433087677295761', 'LEU425 - ALA426 - Distance: 2.2708082261608973', 'LEU425 - TRP427 - Distance: 3.571504724902374', 'ALA426 - ALA12 - Distance: 2.8627139221375244', 'ALA426 - TRP427 - Distance: 2.259803752541356', 'ALA426 - SER428 - Distance: 3.75161978350685', 'TRP427 - SER428 - Distance: 2.2201335545412597', 'SER428 - LEU429 - Distance: 2.2539682783925756', 'SER428 - LEU430 - Distance: 3.3739125655535287', 'SER428 - VAL445 - Distance: 2.9073960858472714', 'SER428 - LEU429 - Distance: 2.8513345997970845', 'SER428 - LEU430 - Distance: 3.5283681780675877', 'SER428 - ASN432 - Distance: 3.189469234841434', 'LEU429 - ALA354 - Distance: 3.3417104901532064', 'LEU429 - GLN355 - Distance: 3.1131623793178527', 'LEU429 - GLY356 - Distance: 3.176902894329632', 'LEU429 - PHE357 - Distance: 2.2021489504572553', 'LEU429 - ARG358 - Distance: 3.774996026487975', 'LEU429 - LEU430 - Distance: 2.2716535827453983', 'LEU429 - VAL445 - Distance: 3.7484575494461736', 'LEU429 - THR446 - Distance: 3.203826618280085', 'LEU430 - ALA310 - Distance: 3.061977302332595', 'LEU430 - ASP431 - Distance: 2.2991413614651877', 'LEU430 - ASN432 - Distance: 3.5024467162256734', 'LEU430 - ASN432 - Distance: 2.85552009273267', 'ASP431 - ALA238 - Distance: 3.677307846781391', 'ASP431 - ALA310 - Distance: 2.0131979535058147', 'ASP431 - ASN311 - Distance: 3.3162240575690918', 'ASP431 - ASN432 - Distance: 2.210296812647569', 'ASP431 - GLY444 - Distance: 2.9018652622063628', 'ASP431 - LYS459 - Distance: 2.9399551016979824', 'ASP431 - GLY342 - Distance: 3.5254812437453116', 'ASP431 - ARG442 - Distance: 2.8577393163128084', 'ASP431 - VAL448 - Distance: 3.3832194726325415', 'ASP431 - LYS459 - Distance: 3.6335627144718443', 'ASN432 - ALA310 - Distance: 3.288179283433311', 'ASN432 - ASN311 - Distance: 3.530763231937254', 'ASN432 - ASN311 - Distance: 2.096784681363351', 'ASN432 - PHE433 - Distance: 2.248445018229266', 'ASN432 - GLU434 - Distance: 3.2012669366986564', 'ASN432 - GLN17 - Distance: 3.239290045673587', 'ASN432 - ASP237 - Distance: 3.6807798086818524', 'ASN432 - ALA310 - Distance: 3.7581498107446425', 'ASN432 - PHE433 - Distance: 3.2603831063235496', 'PHE433 - GLN17 - Distance: 2.895318462622028', 'PHE433 - LYS256 - Distance: 3.8157868127032453', 'PHE433 - ASN311 - Distance: 3.833851066486543', 'PHE433 - GLU434 - Distance: 2.2653503040368843', 'PHE433 - TRP435 - Distance: 3.1140337185072355', 'GLU434 - TRP435 - Distance: 2.2271944234843954', 'GLU434 - ALA436 - Distance: 3.2221064538590274', 'GLU434 - GLU437 - Distance: 2.918382086019581', 'GLU434 - GLY438 - Distance: 3.4583848831499364', 'GLU434 - GLN17 - Distance: 3.501417427271417', 'TRP435 - ALA436 - Distance: 2.2234432756425324', 'TRP435 - GLU437 - Distance: 3.0860055087442717', 'TRP435 - GLY438 - Distance: 2.974578625620777', 'ALA436 - ALA43 - Distance: 2.8691357583774226', 'ALA436 - GLU437 - Distance: 2.24016026212412', 'ALA436 - GLY438 - Distance: 3.6690211228609733', 'ALA436 - SER461 - Distance: 3.7938115398633077', 'ALA436 - ALA462 - Distance: 3.5165531419274756', 'GLU437 - GLY438 - Distance: 2.232534210264201', 'GLU437 - TYR439 - Distance: 3.596767854616141', 'GLU437 - GLU440 - Distance: 3.788928476495698', 'GLY438 - GLU434 - Distance: 2.8904880210787978', 'GLY438 - TYR439 - Distance: 2.2332742778261667', 'GLY438 - GLU440 - Distance: 3.5584836658329624', 'TYR439 - ALA51 - Distance: 3.2714487616345163', 'GLU440 - THR441 - Distance: 2.2452612320173366', 'GLU440 - ARG442 - Distance: 3.5651312738803886', 'GLU440 - LEU394 - Distance: 3.0157596058041487', 'THR441 - ARG442 - Distance: 2.242813634700843', 'THR441 - PHE443 - Distance: 3.8170864543523244', 'ARG442 - ARG399 - Distance: 2.8866321206554875', 'ARG442 - PHE443 - Distance: 2.2479621882941045', 'PHE443 - SER428 - Distance: 3.108404252988984', 'PHE443 - GLY444 - Distance: 2.2526928330333904', 'PHE443 - VAL445 - Distance: 3.781858405599025', 'GLY444 - ALA354 - Distance: 3.5908869377912755', 'GLY444 - ARG399 - Distance: 3.517126810338234', 'GLY444 - ARG399 - Distance: 3.5276407129978535', 'GLY444 - VAL445 - Distance: 2.222360006839574', 'GLY444 - THR446 - Distance: 3.6149767634107968', 'GLY444 - LYS459 - Distance: 2.872745028713824', 'VAL445 - ILE42 - Distance: 3.8612351650734786', 'VAL445 - ALA43 - Distance: 3.104782923168701', 'VAL445 - GLY438 - Distance: 3.500588664781967', 'VAL445 - LYS459 - Distance: 2.843117127379734', 'THR446 - HIS353 - Distance: 2.27420601529413', 'THR446 - HIS353 - Distance: 3.671517806030636', 'THR446 - ALA354 - Distance: 2.399973333185182', 'THR446 - GLN355 - Distance: 3.4915270298251997', 'THR446 - GLY356 - Distance: 3.690576242268946', 'THR446 - ASP431 - Distance: 3.027971763408634', 'THR446 - TYR447 - Distance: 2.2685336673719467', 'THR446 - VAL448 - Distance: 3.6163767779367255', 'THR446 - SER47 - Distance: 2.8849523392943603', 'TYR447 - CYS340 - Distance: 1.6546594815852584', 'TYR447 - ILE341 - Distance: 2.685140778432296', 'VAL448 - ILE341 - Distance: 3.2278856857082214', 'VAL448 - HIS353 - Distance: 3.6737269904008913', 'VAL448 - ARG442 - Distance: 3.022218721403202', 'VAL448 - ASP449 - Distance: 2.2345408924430097', 'VAL448 - TYR450 - Distance: 3.2295301515855233', 'ASP449 - ASN335 - Distance: 3.2878310479706845', 'ASP449 - TYR450 - Distance: 2.244863915697341', 'ASP449 - ALA451 - Distance: 3.13780384982873', 'ASP449 - ASN452 - Distance: 3.0443091170247474', 'ASP449 - ASP453 - Distance: 3.781387179329828', 'ASP449 - GLN454 - Distance: 2.875402754398065', 'ASP449 - LYS455 - Distance: 3.4839239371719906', 'ASP449 - ASN335 - Distance: 2.954675109043294', 'ASP449 - ASP339 - Distance: 3.4468440637777684', 'ASP449 - CYS340 - Distance: 3.551503625226928', 'ASP449 - TYR450 - Distance: 3.451834005278928', 'ASP449 - ALA451 - Distance: 3.1041928097333127', 'ASP449 - ASN452 - Distance: 3.3507017175511176', 'TYR450 - ALA310 - Distance: 3.4233185653689913', 'TYR450 - ASN311 - Distance: 1.5247143994860153', 'TYR450 - TYR312 - Distance: 3.5998823591889777', 'TYR450 - ASN432 - Distance: 3.201021087090805', 'ALA451 - ASN335 - Distance: 2.0891754354290106', 'ALA451 - LYS336 - Distance: 3.277586001922755', 'ALA451 - TYR337 - Distance: 3.192100562325693', 'ALA451 - ASN452 - Distance: 2.217097426817324', 'ASN452 - ASP453 - Distance: 2.245447839518879', 'ASN452 - GLN454 - Distance: 3.1434990058850034', 'ASN452 - LYS455 - Distance: 3.2475690908739736', 'ASN452 - ASP453 - Distance: 3.7361081354800234', 'ASP453 - ARG57 - Distance: 2.716944791489148', 'ASP453 - GLN454 - Distance: 2.2609754532059854', 'ASP453 - LYS455 - Distance: 3.1403345363193416', 'ASP453 - GLU245 - Distance: 2.831983933570245', 'ASP453 - GLU245 - Distance: 3.398714757080975', 'GLN454 - ARG57 - Distance: 3.4264507876226715', 'GLN454 - ARG57 - Distance: 3.6401070039217265', 'GLN454 - LYS455 - Distance: 2.230822494059085', 'GLN454 - ARG456 - Distance: 3.428474587918073', 'GLN454 - ARG456 - Distance: 2.728890983531587', 'LYS455 - HIS353 - Distance: 3.4914021538631146', 'LYS455 - ASP449 - Distance: 2.9035078784119035', 'LYS455 - ARG456 - Distance: 2.264312920070897', 'ARG456 - GLU330 - Distance: 2.496964156731132', 'ARG456 - THR331 - Distance: 3.896317492196957', 'PRO458 - GLY45 - Distance: 1.25741043418607', 'PRO458 - SER46 - Distance: 2.8819221016536876', 'PRO458 - LYS459 - Distance: 2.2413518242346524', 'LYS459 - LYS41 - Distance: 3.657118264426241', 'LYS459 - ILE42 - Distance: 1.9873542713869665', 'LYS459 - ALA43 - Distance: 2.6715933448038083', 'LYS459 - GLY45 - Distance: 3.6915782532678345', 'LYS459 - LYS460 - Distance: 2.258319950759856', 'LYS459 - SER461 - Distance: 3.1397421868682147', 'LYS459 - ALA462 - Distance: 2.9909030408891564', 'LYS459 - LYS463 - Distance: 3.636317505389212', 'LYS460 - LYS41 - Distance: 2.5873834273257597', 'LYS460 - ILE42 - Distance: 3.2964165392134532', 'LYS460 - SER461 - Distance: 2.2772865432351717', 'LYS460 - ALA462 - Distance: 3.3173323620041413', 'LYS460 - LYS463 - Distance: 3.2730395659081166', 'LYS460 - SER464 - Distance: 3.1073765462202982', 'SER461 - ILE42 - Distance: 3.4505745898328284', 'SER461 - ALA462 - Distance: 2.290890438235753', 'SER461 - LYS463 - Distance: 3.361515283320901', 'SER461 - SER464 - Distance: 3.117669963289894', 'SER461 - LEU465 - Distance: 3.6114697838968564', 'SER461 - ALA43 - Distance: 2.502226808264988', 'SER461 - GLU437 - Distance: 3.1017229083204736', 'SER461 - ALA462 - Distance: 3.1445878903283964', 'ALA462 - LYS41 - Distance: 3.5359471149891393', 'ALA462 - ILE42 - Distance: 3.5263027379962697', 'ALA462 - LYS463 - Distance: 2.2834222123821077', 'ALA462 - SER464 - Distance: 3.4945363068653346', 'ALA462 - LEU465 - Distance: 3.717744208522151', 'LYS463 - LYS41 - Distance: 3.2144030550010374', 'LYS463 - LYS41 - Distance: 2.647302778300963', 'LYS463 - SER464 - Distance: 2.24387455086063', 'LYS463 - LEU465 - Distance: 3.640166067640319', 'SER464 - LYS41 - Distance: 2.5737276468189094', 'SER464 - LEU465 - Distance: 2.2364277318974555', 'SER464 - LYS466 - Distance: 3.5802913289284177', 'SER464 - LEU468 - Distance: 3.2025097970185854', 'SER464 - LEU465 - Distance: 3.0913302961670057', 'LEU465 - TYR179 - Distance: 3.8305160226789288', 'LEU465 - GLY183 - Distance: 3.5854596636972498', 'LEU465 - HIS184 - Distance: 3.776345720402196', 'LEU465 - LYS466 - Distance: 2.229297198670469', 'LEU465 - LEU468 - Distance: 3.271316096007841', 'LEU465 - PHE469 - Distance: 2.888584774591185', 'LYS466 - HIS184 - Distance: 3.713262312307062', 'LYS466 - SER191 - Distance: 3.5255020919012368', 'LYS466 - LEU468 - Distance: 3.2696521221683494', 'LYS466 - PHE469 - Distance: 3.233307285118443', 'LYS466 - ASP470 - Distance: 2.768173766222054', 'PRO467 - LYS190 - Distance: 3.2064452279744264', 'PRO467 - SER191 - Distance: 2.202355330095487', 'PRO467 - LEU468 - Distance: 2.2923431244034984', 'PRO467 - PHE469 - Distance: 3.666747877888526', 'PRO467 - ASP470 - Distance: 3.4254234774696104', 'PRO467 - SER471 - Distance: 3.150802596164983', 'LEU468 - GLY178 - Distance: 3.8364705133755415', 'LEU468 - THR185 - Distance: 2.6529907651554314', 'LEU468 - SER186 - Distance: 3.7040191684169232', 'LEU468 - PHE469 - Distance: 2.2296966161341327', 'LEU468 - ASP470 - Distance: 3.4447909951113123', 'LEU468 - SER471 - Distance: 3.154587453217931', 'LEU468 - LEU472 - Distance: 3.6133582717466592', 'PHE469 - HIS184 - Distance: 3.5946088799756777', 'PHE469 - THR185 - Distance: 1.054309726788102', 'PHE469 - SER186 - Distance: 3.8637832496142983', 'PHE469 - GLY194 - Distance: 3.7095402680116556', 'PHE469 - ASP470 - Distance: 2.254789568895514', 'PHE469 - SER471 - Distance: 3.2949065237120214', 'PHE469 - LEU472 - Distance: 3.007381086593452', 'PHE469 - ILE473 - Distance: 2.986040522163083', 'ASP470 - SER186 - Distance: 3.6272977545274676', 'ASP470 - ARG188 - Distance: 3.626956161852524', 'ASP470 - ARG188 - Distance: 1.3970386537243709', 'ASP470 - ARG188 - Distance: 2.7262760315125805', 'ASP470 - VAL193 - Distance: 3.6457675460731163', 'ASP470 - GLY194 - Distance: 2.9770786015824275', 'ASP470 - SER471 - Distance: 2.2152573213963254', 'ASP470 - LEU472 - Distance: 3.407888642546878', 'ASP470 - VAL193 - Distance: 2.6347367989990977', 'ASP470 - LYS466 - Distance: 3.4283444984423617', 'ASP470 - SER191 - Distance: 3.034773302900892', 'ASP470 - VAL193 - Distance: 3.3776126184037167', 'SER471 - SER186 - Distance: 1.427597282149276', 'SER471 - ASP187 - Distance: 2.5925790248322182', 'SER471 - LEU472 - Distance: 2.2692002996650613', 'SER471 - SER186 - Distance: 2.846062016190086', 'SER471 - ASP187 - Distance: 1.6957774028450794', 'SER471 - ARG408 - Distance: 3.555439494633542', 'SER471 - ARG408 - Distance: 3.230100617627883', 'SER471 - LEU472 - Distance: 3.5038086420351187', 'LEU472 - LEU3 - Distance: 2.853087625713589', 'LEU472 - ASP195 - Distance: 1.9367057081549581', 'LEU472 - SER196 - Distance: 1.4272778285953978', 'LEU472 - ALA197 - Distance: 3.7268443756078686', 'LEU472 - ILE473 - Distance: 2.241625749316777', 'LEU472 - ARG474 - Distance: 3.5449019732568057', 'ILE473 - GLY194 - Distance: 2.2211827930181722', 'ILE473 - ASP195 - Distance: 2.119470924546974', 'ILE473 - ARG474 - Distance: 2.2247966199183216', 'ILE473 - LYS475 - Distance: 3.539404610948006', 'ARG474 - LYS475 - Distance: 2.242665601466254', 'ARG474 - GLU476 - Distance: 3.5604760917607607', 'LYS475 - GLU476 - Distance: 2.2198526978157798']\n"
          ]
        }
      ],
      "source": [
        "import os\n",
        "\n",
        "def get_pdb():\n",
        "    for file in os.listdir():\n",
        "        if file == \"4mdp.pdb\":\n",
        "            pdb = file\n",
        "    return pdb\n",
        "\n",
        "def process(pdb_file):\n",
        "    coords = []\n",
        "    with open(pdb_file) as f:\n",
        "        for linha in f:\n",
        "            if linha.startswith(\"ATOM\"):\n",
        "                nome_atom = linha[12:16].strip() # tipo do átomo\n",
        "                nome_res = linha[17:21].strip()\n",
        "                num_res = linha[22:26].strip()\n",
        "                data_res = nome_res + \":\" + nome_atom # formata igual a tabela\n",
        "                x = float(linha[32:38])\n",
        "                y = float(linha[40:46])\n",
        "                z = float(linha[48:54])\n",
        "                coords.append([x, y, z, data_res, num_res])\n",
        "    return coords\n",
        "\n",
        "def euclid(x1,x2,y1,y2,z1,z2):\n",
        "    dist = math.sqrt((x1-x2)**2 + (y1-y2)**2 + (z1-z2)**2)\n",
        "    return dist\n",
        "\n",
        "def calc_lig(coords):\n",
        "    aceptores = [\"ALA:O\", \"ARG:O\", \"ASN:O\", \"ASN:OD1\", \"ASP:O\", \"ASP:OD1\",\n",
        "             \"ASP:OD2\",\"CYS:O\", \"CYS:SG\", \"GLN:O\", \"GLN:OE1\", \"GLU:O\",\n",
        "             \"GLU:OE1\", \"GLU:OE2\", \"GLY:O\", \"HIS:O\", \"ILE:O\", \"LEU:O\",\n",
        "             \"LYS:O\", \"MET:O\", \"MET:SD\", \"PHE:O\", \"PRO:O\", \"SER:O\",\n",
        "             \"SER:OG\", \"THR:O\", \"THR:OG1\", \"TRP:O\", \"TYR:OH\", \"VAL:O\"]\n",
        "\n",
        "    doadores = [\"ALA:N\", \"ARG:N\", \"ARG:NE\", \"ARG:NH1\", \"ARG:NH2\", \"ASN:N\",\n",
        "            \"ASN:ND2\", \"ASP:N\", \"CYS:N\", \"GLN:N\", \"GLN:NE2\", \"GLU:N\",\n",
        "            \"GLY:N\", \"HIS:N\", \"HIS:ND1\", \"HIS:NE2\", \"ILE:N\", \"LEU:N\",\n",
        "            \"LYS:N\", \"LYS:NZ\", \"MET:N\", \"PHE:N\", \"SER:N\", \"THR:N\",\n",
        "            \"TRP:N\", \"TRP:NE1\", \"TYR:N\", \"VAL:N\"]\n",
        "\n",
        "    hydrogen = []\n",
        "    for res1 in range(len(coords)): # primeiro átomo a comparar\n",
        "        x1, y1, z1, data_res1, num_res1,  = coords[res1]\n",
        "        if data_res1 in aceptores:\n",
        "            for res2 in range(len(coords)): # segundo átomo a comparar\n",
        "                x2, y2, z2, data_res2, num_res2 = coords[res2]\n",
        "                if (data_res2 in doadores and num_res1 != num_res2):\n",
        "\n",
        "                    # caso os dois átomos a serem comparados estejam na lista\n",
        "                    # e não sejam do mesmo resíduo,\n",
        "                    # calcula a distância entre os dois\n",
        "                    dist = euclid(x1, x2, y1, y2, z1, z2)\n",
        "\n",
        "                    # distância satisfaz a ligação de hidrogênio\n",
        "                    if dist <= 3.9:\n",
        "                        hydrogen.append(\n",
        "                        f\"{data_res1.split(':')[0]}{num_res1} - \"\n",
        "                        f\"{data_res2.split(':')[0]}{num_res2} \"\n",
        "                        f\"- Distance: {dist}\")\n",
        "    return hydrogen\n",
        "\n",
        "file = get_pdb()\n",
        "calc_lig(process(file))"
      ]
    },
    {
      "cell_type": "code",
      "execution_count": null,
      "metadata": {
        "id": "_lJgZB2s-TpC"
      },
      "outputs": [],
      "source": [
        "def get_seq_res(file):\n",
        "    seq_res = []\n",
        "    with open(file) as f:\n",
        "        for line in f:\n",
        "            if line.startswith(\"SEQRES\"):\n",
        "                seq_res.append(line[19:].strip().split(\" \"))\n",
        "\n",
        "    # flattens the list\n",
        "    seq_res = [item for sublist in seq_res for item in sublist]\n",
        "    return seq_res"
      ]
    },
    {
      "cell_type": "markdown",
      "metadata": {
        "id": "8hoxNVeEIYmb"
      },
      "source": [
        "## Exercício 16 - Calculando Interações Iônicas"
      ]
    },
    {
      "cell_type": "code",
      "execution_count": null,
      "metadata": {
        "id": "v3TK2aVJIbs1"
      },
      "outputs": [],
      "source": [
        "import os\n",
        "import math\n",
        "\n",
        "positivos = [\"ARG:NE\", \"ARG:CZ\", \"ARG:NH1\", \"ARG:NH2\", \"HIS:ND1\", \"HIS:NE2\",\n",
        "             \"LYS:CZ\"]\n",
        "negativos = [\"ASP:OD1\", \"ASP:OD2\", \"GLU:OE1\", \"GLU:OE2\"]\n",
        "\n",
        "def get_pdb():\n",
        "    for file in os.listdir():\n",
        "        if file == \"4mdp.pdb\":\n",
        "            pdb = file\n",
        "    return pdb\n",
        "\n",
        "def process(pdb_file):\n",
        "    coords = []\n",
        "    with open(pdb_file) as f:\n",
        "        for linha in f:\n",
        "            if linha.startswith(\"ATOM\"):\n",
        "                nome_atom = linha[12:16].strip() # tipo do átomo\n",
        "                nome_res = linha[17:21].strip()\n",
        "                num_res = linha[22:26].strip()\n",
        "                data_res = nome_res + \":\" + nome_atom # formata igual a tabela\n",
        "                x = float(linha[32:38])\n",
        "                y = float(linha[40:46])\n",
        "                z = float(linha[48:54])\n",
        "                coords.append([x, y, z, data_res, num_res])\n",
        "    return coords\n",
        "\n",
        "def euclid(x1,x2,y1,y2,z1,z2):\n",
        "    dist = math.sqrt((x1-x2)**2 + (y1-y2)**2 + (z1-z2)**2)\n",
        "    return dist\n",
        "\n",
        "def ionic(coords):\n",
        "    ionic = []\n",
        "    for res1 in range(len(coords)):\n",
        "        x1, y1, z1, data_res1, num_res1 = coords[res1]\n",
        "        if (data_res1 in positivos):\n",
        "            for res2 in range(len(coords)):\n",
        "                x2, y2, z2, data_res2, num_res2 = coords[res2]\n",
        "                if (data_res2 in negativos):\n",
        "                    dist = euclid(x1, x2, y1, y2, z1, z2)\n",
        "                    if (2 <= dist <= 6):\n",
        "                        ionic.append(\n",
        "                            f\"{data_res1.split(':')[0]}{num_res1} - \"\n",
        "                            f\"{data_res2.split(':')[0]}{num_res2} \"\n",
        "                            f\"- Distance: {dist}\"\n",
        "                        )\n",
        "    return ionic\n",
        "\n",
        "pdb_file = get_pdb()\n",
        "ionic(process(pdb_file))"
      ]
    },
    {
      "cell_type": "markdown",
      "metadata": {
        "id": "ZF2JKJODQ6vk"
      },
      "source": [
        "## Exercício 17 - Calculando Pontes Dissulfeto"
      ]
    },
    {
      "cell_type": "code",
      "execution_count": 60,
      "metadata": {
        "colab": {
          "base_uri": "https://localhost:8080/"
        },
        "id": "CaH6QxUTRGZF",
        "outputId": "77fdb65e-1919-49f4-cc3b-99c56bd07c72"
      },
      "outputs": [
        {
          "output_type": "execute_result",
          "data": {
            "text/plain": [
              "['Ponte entre residuos 59 e 62. Dist = 2.0513278626294733A',\n",
              " 'Ponte entre residuos 87 e 96. Dist = 2.0349253057544896A',\n",
              " 'Ponte entre residuos 59 e 62. Dist = 2.048053221964702A',\n",
              " 'Ponte entre residuos 87 e 96. Dist = 2.028824536523553A']"
            ]
          },
          "metadata": {},
          "execution_count": 60
        }
      ],
      "source": [
        "import os\n",
        "import math\n",
        "\n",
        "def get_pdb():\n",
        "    for file in os.listdir():\n",
        "        if file == \"3ed3.pdb\":\n",
        "            pdb = file\n",
        "    return pdb\n",
        "\n",
        "def euclid(x1,x2,y1,y2,z1,z2):\n",
        "    dist = math.sqrt((x1-x2)**2 + (y1-y2)**2 + (z1-z2)**2)\n",
        "    return dist\n",
        "\n",
        "def get_enxofre(pdb_file):\n",
        "    coords = []\n",
        "    with open(pdb_file) as f:\n",
        "        for linha in f:\n",
        "            if (linha.startswith(\"ATOM\")) and (linha[12:16].strip() == \"SG\"):\n",
        "                num_res = linha[22:26].strip()\n",
        "                x = float(linha[32:38])\n",
        "                y = float(linha[40:46])\n",
        "                z = float(linha[48:54])\n",
        "                coords.append([x, y, z, num_res])\n",
        "    return coords\n",
        "\n",
        "def calc_ponte(coords):\n",
        "    ponte = []\n",
        "    for atom1 in range(len(coords)):\n",
        "        x1, y1, z1, num_res1 = coords[atom1]\n",
        "        for atom2 in range(len(coords)):\n",
        "            x2, y2, z2, num_res2 = coords[atom2]\n",
        "            if (num_res1 < num_res2):\n",
        "                dist = euclid(x1, x2, y1, y2, z1, z2)\n",
        "                if (0 < dist <= 2.8):\n",
        "                    ponte.append(f\"Ponte entre residuos {num_res1} e \"\n",
        "                    f\"{num_res2}. Dist = {dist}A\")\n",
        "    return ponte if len(ponte) > 0 else print(\"Nenhuma ponte encontrada!\")\n",
        "\n",
        "pdb_file = get_pdb()\n",
        "calc_ponte(get_enxofre(pdb_file))"
      ]
    },
    {
      "cell_type": "code",
      "source": [
        "# testando \"ternary conditionals\" para a função get_pdb()\n",
        "def get_pdb():\n",
        "    file = \"2qwo.pdb\"\n",
        "    return file if file in os.listdir() else None"
      ],
      "metadata": {
        "id": "s8SDH6wBsCu2"
      },
      "execution_count": null,
      "outputs": []
    },
    {
      "cell_type": "markdown",
      "metadata": {
        "id": "tgVyoi8LXKjr"
      },
      "source": [
        "## Exercício 18 - Calculando o Conteúdo GC"
      ]
    },
    {
      "cell_type": "code",
      "execution_count": 22,
      "metadata": {
        "colab": {
          "base_uri": "https://localhost:8080/"
        },
        "id": "2-goG-SRXOwB",
        "outputId": "9d0ac64b-578b-46b5-dd56-385f55dbac5f"
      },
      "outputs": [
        {
          "output_type": "execute_result",
          "data": {
            "text/plain": [
              "0.3333333333333333"
            ]
          },
          "metadata": {},
          "execution_count": 22
        }
      ],
      "source": [
        "def calc_gc(seq):\n",
        "    cont_gc = 0\n",
        "    for letra in seq:\n",
        "        cont_gc += 1 if (letra in \"GC\") else 0\n",
        "    return cont_gc/len(seq)\n",
        "\n",
        "calc_gc(\"ATGATCTCGTAA\")"
      ]
    },
    {
      "cell_type": "code",
      "source": [
        "def calc_gc(seq):\n",
        "    return sum(1 for letra in seq if letra in \"GC\")/len(seq)\n",
        "\n",
        "calc_gc(\"ATGATCTCGTAA\")"
      ],
      "metadata": {
        "colab": {
          "base_uri": "https://localhost:8080/"
        },
        "id": "3hmlnM-fqb0N",
        "outputId": "243c6a64-4a85-4c14-803f-3c02e1d937df"
      },
      "execution_count": 32,
      "outputs": [
        {
          "output_type": "execute_result",
          "data": {
            "text/plain": [
              "0.3333333333333333"
            ]
          },
          "metadata": {},
          "execution_count": 32
        }
      ]
    }
  ],
  "metadata": {
    "colab": {
      "provenance": [],
      "authorship_tag": "ABX9TyPVA6GREz8EnFJWZPpe73rT",
      "include_colab_link": true
    },
    "kernelspec": {
      "display_name": "Python 3",
      "name": "python3"
    },
    "language_info": {
      "name": "python"
    }
  },
  "nbformat": 4,
  "nbformat_minor": 0
}
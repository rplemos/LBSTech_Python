{
  "nbformat": 4,
  "nbformat_minor": 0,
  "metadata": {
    "colab": {
      "provenance": [],
      "authorship_tag": "ABX9TyMqryPMxbxhQ2ieF9AEWL7w",
      "include_colab_link": true
    },
    "kernelspec": {
      "name": "python3",
      "display_name": "Python 3"
    },
    "language_info": {
      "name": "python"
    }
  },
  "cells": [
    {
      "cell_type": "markdown",
      "metadata": {
        "id": "view-in-github",
        "colab_type": "text"
      },
      "source": [
        "<a href=\"https://colab.research.google.com/github/rplemos/PythonStudies/blob/main/LearningAlgorithms.ipynb\" target=\"_parent\"><img src=\"https://colab.research.google.com/assets/colab-badge.svg\" alt=\"Open In Colab\"/></a>"
      ]
    },
    {
      "cell_type": "code",
      "source": [
        "import numpy as np\n",
        "import random\n",
        "from collections import deque\n",
        "from typing import Optional, List"
      ],
      "metadata": {
        "id": "MWONujePtDks"
      },
      "execution_count": null,
      "outputs": []
    },
    {
      "cell_type": "markdown",
      "source": [
        "# Binary Search"
      ],
      "metadata": {
        "id": "4bjIIFW2hzz-"
      }
    },
    {
      "cell_type": "code",
      "source": [
        "arr2 = np.random.randint(200000000, size=10000000).tolist()\n",
        "arr2 = sorted(arr2)\n",
        "print(arr2[78])\n",
        "print(arr2[-1])"
      ],
      "metadata": {
        "colab": {
          "base_uri": "https://localhost:8080/"
        },
        "id": "II3MZxIBuMBW",
        "outputId": "a08ed025-9b5a-4737-8b40-057132402d38"
      },
      "execution_count": null,
      "outputs": [
        {
          "output_type": "stream",
          "name": "stdout",
          "text": [
            "1741\n",
            "199999960\n"
          ]
        }
      ]
    },
    {
      "cell_type": "code",
      "execution_count": null,
      "metadata": {
        "id": "34dwmfmNZ7BW"
      },
      "outputs": [],
      "source": [
        "def binarysearch(array, value):\n",
        "    low = 0\n",
        "    high = len(array)-1\n",
        "    for step in range(1, len(array)):\n",
        "        mid = (low+high)//2\n",
        "        guess = array[mid]\n",
        "        print(f\"Step: {step:3} | Low: {low: 10} | High: {high:10} | Guess: {guess:10}|\")\n",
        "        if guess == value:\n",
        "            return (mid, step)\n",
        "        elif guess > value:\n",
        "            high = mid - 1\n",
        "        elif guess < value:\n",
        "            low = mid + 1\n",
        "    return None\n",
        "\n",
        "num = arr2[78]\n",
        "result = binarysearch(arr2,num)\n",
        "\n",
        "if result:\n",
        "    position, steps = result\n",
        "    print(f\"\\nNumber {num} found at position {position} in {steps} {'step' if steps == 1 else 'steps'}\")\n",
        "else:\n",
        "    print(f\"\\nNumber {num} not found in array!\")"
      ]
    },
    {
      "cell_type": "markdown",
      "source": [
        "# Recursion Basics"
      ],
      "metadata": {
        "id": "Kix1AKFXymvf"
      }
    },
    {
      "cell_type": "code",
      "source": [
        "def countdown(i):\n",
        "    print(i)\n",
        "    if i == 0:\n",
        "        return\n",
        "    else:\n",
        "        countdown(i-1)\n",
        "\n",
        "countdown(10)"
      ],
      "metadata": {
        "id": "pcVXLetkyqb4"
      },
      "execution_count": null,
      "outputs": []
    },
    {
      "cell_type": "code",
      "source": [
        "def factorial(x):\n",
        "    if x == 1:\n",
        "        return 1\n",
        "    else:\n",
        "        return x * factorial(x-1)\n",
        "\n",
        "factorial(5)"
      ],
      "metadata": {
        "id": "XZtQmQexy41G"
      },
      "execution_count": null,
      "outputs": []
    },
    {
      "cell_type": "code",
      "source": [
        "arr = [1,2,3,4,5, 900]"
      ],
      "metadata": {
        "id": "c-FWMZsM2D9-"
      },
      "execution_count": null,
      "outputs": []
    },
    {
      "cell_type": "code",
      "source": [
        "def sum(arr):\n",
        "    if arr == []:\n",
        "        return 0\n",
        "    return arr[0] + sum(arr[1:])\n",
        "\n",
        "sum(arr)"
      ],
      "metadata": {
        "id": "paCpuZltzI0x"
      },
      "execution_count": null,
      "outputs": []
    },
    {
      "cell_type": "code",
      "source": [
        "def count(arr):\n",
        "    if arr == []:\n",
        "        return 0\n",
        "    return 1 + count(arr[1:])\n",
        "\n",
        "count(arr)"
      ],
      "metadata": {
        "id": "FMu9hB1oz6vj"
      },
      "execution_count": null,
      "outputs": []
    },
    {
      "cell_type": "code",
      "source": [
        "def max(arr):\n",
        "    if arr == []:\n",
        "        return 0\n",
        "    elif len(arr) == 2:\n",
        "        return arr[0] if arr[0] > arr[1] else arr[1]\n",
        "    sub_max = max(arr[1:])  # armazena o maior valor ate agora\n",
        "    return arr[0] if arr[0] > sub_max else sub_max\n",
        "\n",
        "max(arr)"
      ],
      "metadata": {
        "id": "MViEgDMX0ShM"
      },
      "execution_count": null,
      "outputs": []
    },
    {
      "cell_type": "markdown",
      "source": [
        "# Quicksort"
      ],
      "metadata": {
        "id": "MxLuGb4G7IHX"
      }
    },
    {
      "cell_type": "code",
      "source": [
        "def quicksort(arr):\n",
        "    if len(arr) < 2: #if 0, no need to sort; if 1, already sorted\n",
        "        return arr\n",
        "    else:\n",
        "        pivot_index = random.randint(0, len(arr)-1)\n",
        "        pivot = arr[pivot_index] #defines the pivot as a random element (better than always using the first one)\n",
        "\n",
        "        #list comprehensions\n",
        "        smaller = [i for i in arr[:pivot_index] + arr[pivot_index+1:] if i<= pivot] #adds i to the list if i<=pivot, for each i element of the list (excluding the pivot)\n",
        "        bigger = [i for i in arr[:pivot_index] + arr[pivot_index+1:] if i> pivot] #same but for i>pivot\n",
        "\n",
        "        print(f\"Pivot: {pivot} ({pivot_index}) | Smaller: {smaller} | Bigger: {bigger}\")\n",
        "        return quicksort(smaller) + [pivot] + quicksort(bigger)\n",
        "\n",
        "quicksort([10,900,5,3,2,11,14])"
      ],
      "metadata": {
        "colab": {
          "base_uri": "https://localhost:8080/"
        },
        "id": "LExgB1Gj1We4",
        "outputId": "665a42e2-2bd3-4a86-e956-2cdbfc9891ba"
      },
      "execution_count": null,
      "outputs": [
        {
          "output_type": "stream",
          "name": "stdout",
          "text": [
            "Pivot: 3 (3) | Smaller: [2] | Bigger: [10, 900, 5, 11, 14]\n",
            "Pivot: 900 (1) | Smaller: [10, 5, 11, 14] | Bigger: []\n",
            "Pivot: 10 (0) | Smaller: [5] | Bigger: [11, 14]\n",
            "Pivot: 14 (1) | Smaller: [11] | Bigger: []\n"
          ]
        },
        {
          "output_type": "execute_result",
          "data": {
            "text/plain": [
              "[2, 3, 5, 10, 11, 14, 900]"
            ]
          },
          "metadata": {},
          "execution_count": 40
        }
      ]
    },
    {
      "cell_type": "markdown",
      "source": [
        "# Hash tables"
      ],
      "metadata": {
        "id": "g9qkILHT6hjF"
      }
    },
    {
      "cell_type": "code",
      "source": [
        "voted = {}\n",
        "\n",
        "def check(name):\n",
        "    if voted.get(name):\n",
        "        print(\"kick them\")\n",
        "    else:\n",
        "        voted[name] = True\n",
        "        print(\"Let them vote\")\n",
        "\n",
        "check(\"tom\")\n",
        "check(\"rafael\")\n",
        "check(\"rafael\")\n",
        "print(voted)"
      ],
      "metadata": {
        "colab": {
          "base_uri": "https://localhost:8080/"
        },
        "id": "SKOhRKXR6ElI",
        "outputId": "636c7a8b-88e6-4c44-c199-ac468d1d36ee"
      },
      "execution_count": null,
      "outputs": [
        {
          "output_type": "stream",
          "name": "stdout",
          "text": [
            "Let them vote\n",
            "Let them vote\n",
            "kick them\n",
            "{'tom': True, 'rafael': True}\n"
          ]
        },
        {
          "output_type": "execute_result",
          "data": {
            "text/plain": [
              "4158499455671972614"
            ]
          },
          "metadata": {},
          "execution_count": 4
        }
      ]
    },
    {
      "cell_type": "markdown",
      "source": [
        "# Graphs (Breadth-first search)"
      ],
      "metadata": {
        "id": "v506HohPlKaR"
      }
    },
    {
      "cell_type": "markdown",
      "source": [
        "### Implementation 1 (Mango seller)"
      ],
      "metadata": {
        "id": "LFiDz0iVY7CQ"
      }
    },
    {
      "cell_type": "code",
      "source": [
        "graph = {\n",
        "    \"you\": [\"alice\", \"bob\", \"camila\"],\n",
        "    \"camila\": [\"helio\", \"paula\", \"silvia\", \"zzz\"],\n",
        "    \"alice\": [\"joan\", \"diego\", \"paula\"],\n",
        "    \"bob\": [\"camila\", \"joe\", \"lucas\"],\n",
        "    \"zzz\": [\"x\"]\n",
        "}"
      ],
      "metadata": {
        "colab": {
          "base_uri": "https://localhost:8080/"
        },
        "id": "WCgn7I5a258D",
        "outputId": "e60e1f0f-2a5c-4234-c73f-c1e7e05419ae"
      },
      "execution_count": null,
      "outputs": [
        {
          "output_type": "execute_result",
          "data": {
            "text/plain": [
              "True"
            ]
          },
          "metadata": {},
          "execution_count": 75
        }
      ]
    },
    {
      "cell_type": "code",
      "source": [
        "# simple function to define a seller\n",
        "\n",
        "def seller(name):\n",
        "    return name[-1] == 'x'"
      ],
      "metadata": {
        "id": "dKXQOst3o4FJ"
      },
      "execution_count": null,
      "outputs": []
    },
    {
      "cell_type": "code",
      "source": [
        "# from collections import deque (imported in the first cell, makes a double-ended queue)\n",
        "\n",
        "def search(entry_name):\n",
        "    search_queue = deque() #start the queue\n",
        "    search_queue += graph[entry_name] #adds the contacts of the first person\n",
        "    searched = set()  # Use a set for faster membership testing\n",
        "\n",
        "    while search_queue: #is not empty\n",
        "        person = search_queue.popleft() #removes the first person in\n",
        "        if person not in searched:\n",
        "            searched.add(person)  # Add the person to the searched set\n",
        "            print(f\"{person.capitalize()} checked\")\n",
        "            if seller(person):\n",
        "                return f\"{person.capitalize()} is a mango seller\" #person found\n",
        "            if person in graph: #another if because conditions are not mutually exclusive\n",
        "                search_queue += graph[person] #adds the person contacts to the queue\n",
        "    return \"No person found\"\n",
        "\n",
        "search(\"you\")"
      ],
      "metadata": {
        "id": "uUiRlo3ssyaP"
      },
      "execution_count": null,
      "outputs": []
    },
    {
      "cell_type": "markdown",
      "source": [
        "### Implementation 2 (Leetcode Binary Tree)"
      ],
      "metadata": {
        "id": "xMvQ9lvXY-F6"
      }
    },
    {
      "cell_type": "code",
      "source": [
        "# from https://leetcode.com/problems/binary-tree-level-order-traversal/\n",
        "# from https://twitter.com/RealGalego/status/1724020633925788146\n",
        "\n",
        "# Given the root of a binary tree, return the level order traversal of its nodes' values. (i.e., from left to right, level by level).\n",
        "\n",
        "#Definition for a binary tree node.\n",
        "class TreeNode(object):\n",
        "    def __init__(self, val=0, left=None, right=None):\n",
        "        self.val = val\n",
        "        self.left = left\n",
        "        self.right = right\n",
        "\n",
        "class Solution(object):\n",
        "\n",
        "    # root optional parameter, of type either TreeNode or None (if not specified).\n",
        "    # the method returns a list of lists of integers\n",
        "    def levelOrder(self, root: Optional[TreeNode]) -> List[List[int]]:\n",
        "        answer = []\n",
        "        queue = deque([root]) # first item of the queue is the root node\n",
        "\n",
        "        while queue: # if queue is empty, the tree is searched\n",
        "            level = [] # stores the entries in a level\n",
        "\n",
        "            for i in range(len(queue)): # ensures that the code only runs inside a level\n",
        "                node = queue.popleft() # fifo\n",
        "                if node: # nodes can be empty (nothing happens)\n",
        "                    level.append(node.val)\n",
        "                    queue.append(node.left) # adds the children of the node to the queue\n",
        "                    queue.append(node.right)\n",
        "            if level: # if the level exists\n",
        "                answer.append(level)\n",
        "        return answer"
      ],
      "metadata": {
        "id": "I4qYP8hGY__c"
      },
      "execution_count": null,
      "outputs": []
    },
    {
      "cell_type": "code",
      "source": [
        "root = TreeNode(3)\n",
        "root.left = TreeNode(9)\n",
        "root.right = TreeNode(20)\n",
        "root.right.left = TreeNode(15)\n",
        "root.right.right = TreeNode(7)\n",
        "\n",
        "solution = Solution()\n",
        "result = solution.levelOrder(root)\n",
        "\n",
        "for i,level in enumerate(result):\n",
        "    print(f\"Level {i+1}: {level}\")"
      ],
      "metadata": {
        "colab": {
          "base_uri": "https://localhost:8080/"
        },
        "id": "wypcum9oc9_F",
        "outputId": "a0aadfae-5578-47ab-c193-5f0ca92a84fd"
      },
      "execution_count": null,
      "outputs": [
        {
          "output_type": "stream",
          "name": "stdout",
          "text": [
            "Level 1: [3]\n",
            "Level 2: [9, 20]\n",
            "Level 3: [15, 7]\n"
          ]
        }
      ]
    },
    {
      "cell_type": "markdown",
      "source": [
        "# Dijkstra"
      ],
      "metadata": {
        "id": "1cZVwiijjjGx"
      }
    },
    {
      "cell_type": "code",
      "source": [
        "# graph definition\n",
        "\n",
        "graph2 = {\n",
        "    \"start\": {\"a\": 6, \"b\": 2},\n",
        "    \"a\": {\"fin\": 1},\n",
        "    \"b\": {\"a\": 3, \"fin\": 5},\n",
        "    \"fin\": {}\n",
        "}\n",
        "\n",
        "print(graph2)\n",
        "print(graph2[\"start\"].keys()) #prints the neighbours to start\n",
        "print(graph2[\"start\"][\"a\"]) #prints the weight from start to a"
      ],
      "metadata": {
        "colab": {
          "base_uri": "https://localhost:8080/"
        },
        "id": "hSq8aIv9kUxe",
        "outputId": "3867b2e8-03a3-4d93-d2bd-22e57f534413"
      },
      "execution_count": null,
      "outputs": [
        {
          "output_type": "stream",
          "name": "stdout",
          "text": [
            "{'start': {'a': 6, 'b': 2}, 'a': {'fin': 1}, 'b': {'a': 3, 'fin': 5}, 'fin': {}}\n",
            "dict_keys(['a', 'b'])\n",
            "6\n"
          ]
        }
      ]
    },
    {
      "cell_type": "code",
      "source": [
        "# costs definition\n",
        "\n",
        "infinity = float(\"inf\")\n",
        "costs = {\n",
        "    \"a\":6,\n",
        "    \"b\":2,\n",
        "    \"fin\":infinity\n",
        "}"
      ],
      "metadata": {
        "id": "QUFbpOCnmLVu"
      },
      "execution_count": null,
      "outputs": []
    },
    {
      "cell_type": "code",
      "source": [
        "# parents definition\n",
        "\n",
        "parents = {\n",
        "    \"a\":\"start\",\n",
        "    \"b\":\"start\",\n",
        "    \"fin\":None\n",
        "}\n",
        "parents"
      ],
      "metadata": {
        "colab": {
          "base_uri": "https://localhost:8080/"
        },
        "id": "aym-Rt2Ime0E",
        "outputId": "3af0c66f-3987-40e0-b27e-19681a9f0bf0"
      },
      "execution_count": null,
      "outputs": [
        {
          "output_type": "execute_result",
          "data": {
            "text/plain": [
              "{'a': 'start', 'b': 'start', 'fin': None}"
            ]
          },
          "metadata": {},
          "execution_count": 67
        }
      ]
    },
    {
      "cell_type": "code",
      "source": [
        "# just playing with some prints and graph visualization\n",
        "\n",
        "for node in graph2.keys():\n",
        "    neighs = graph2[node]\n",
        "    print(f\"Node: {node}\")\n",
        "    for neigh in neighs.keys():\n",
        "        print(f\"    Neighbor: {neigh} | Cost from {node}: {neighs[neigh]} | Parent: {parents[neigh]} | Actual cost: {costs[neigh]}\")"
      ],
      "metadata": {
        "id": "RRKrO9w-r3pP"
      },
      "execution_count": null,
      "outputs": []
    },
    {
      "cell_type": "code",
      "source": [
        "#finds the lowest-cost node\n",
        "\n",
        "def find_node(costs, processed):\n",
        "    lowest_cost = float(\"inf\")\n",
        "    lowest_cost_node = None\n",
        "    for node in costs: # iterate through each node\n",
        "        cost = costs[node]\n",
        "        # if it's the lowest cost so far, and it hasn't been processed yet...\n",
        "        if cost < lowest_cost and node not in processed:\n",
        "            lowest_cost = cost # ...set it as the new lowest-cost node\n",
        "            lowest_cost_node = node\n",
        "    return lowest_cost_node"
      ],
      "metadata": {
        "id": "GYD-KNj2wHiD"
      },
      "execution_count": null,
      "outputs": []
    },
    {
      "cell_type": "code",
      "source": [
        "def dijkstra(graph, costs, parents):\n",
        "    processed = [] # keeps track of already processed nodes\n",
        "    node = find_node(costs, processed)\n",
        "\n",
        "    while node is not None: # if all the nodes are processed, done\n",
        "        cost = costs[node]\n",
        "        neighbours = graph[node]\n",
        "        for n in neighbours.keys(): # search all neighbours of the node\n",
        "            new_cost = cost + neighbours[n] # neighbours[n] is the value of each neighbour (not the keys)\n",
        "            if costs[n] > new_cost: # if the old cost is higher than the updated one:\n",
        "                costs[n] = new_cost # updates the cost,\n",
        "                parents[n] = node   # then the node becomes the new parent for this neighbour\n",
        "        processed.append(node) # mark as processed\n",
        "        node = find_node(costs, processed)\n",
        "    return new_cost, parents"
      ],
      "metadata": {
        "id": "zAtCeJXMpPsY"
      },
      "execution_count": null,
      "outputs": []
    },
    {
      "cell_type": "code",
      "source": [
        "def get_path(parents, start, finish):\n",
        "    path = [] # store the nodes in the path\n",
        "    current = finish # starts the path with the end (reconstructs backwards)\n",
        "    while current != start: # loops until the path is complete\n",
        "\n",
        "        # inserts the current node in the beginning of the list\n",
        "        # insert is more efficient than append (adds to the end of the list)\n",
        "        path.insert(0, current)\n",
        "        current = parents[current] # updates the current node to its parent (works backwards)\n",
        "    path.insert(0, start) # includes the start node\n",
        "    return \" -> \".join(path) # joins all nodes in the path"
      ],
      "metadata": {
        "colab": {
          "base_uri": "https://localhost:8080/"
        },
        "id": "P9aL59lGY8X6",
        "outputId": "13cd2ca3-b4c0-459f-8266-53ec047e6998"
      },
      "execution_count": null,
      "outputs": [
        {
          "output_type": "stream",
          "name": "stdout",
          "text": [
            "Final Cost: 6 | Path taken: start -> b -> a -> fin\n"
          ]
        }
      ]
    },
    {
      "cell_type": "code",
      "source": [
        "final_cost, final_parents = dijkstra(graph2, costs, parents)\n",
        "path = get_path(final_parents, 'start', 'fin')\n",
        "print(f\"Final Cost: {final_cost} | Path taken: {path}\")"
      ],
      "metadata": {
        "colab": {
          "base_uri": "https://localhost:8080/"
        },
        "id": "p64J9eIYz53d",
        "outputId": "1fe13a24-da37-4092-c799-820b564b8416"
      },
      "execution_count": null,
      "outputs": [
        {
          "output_type": "stream",
          "name": "stdout",
          "text": [
            "Final Cost: 6 | Path taken: start -> b -> a -> fin\n"
          ]
        }
      ]
    },
    {
      "cell_type": "markdown",
      "source": [
        "# Greedy Algorithms"
      ],
      "metadata": {
        "id": "RH9ahZHD8xj8"
      }
    },
    {
      "cell_type": "code",
      "source": [
        "# defining states and stations\n",
        "# using sets to avoid duplicates\n",
        "\n",
        "states_needed = set([\"mt\", \"wa\", \"or\", \"id\", \"nv\", \"ut\", \"az\"])\n",
        "stations = {\n",
        "    \"kone\": set([\"id\", \"nv\", \"ut\"]),\n",
        "    \"ktwo\": set([\"wa\", \"id\", \"mt\"]),\n",
        "    \"kthree\": set([\"or\", \"nv\", \"ca\"]),\n",
        "    \"kfour\": set([\"nv\", \"ut\"]),\n",
        "    \"kfive\": set([\"ca\", \"az\"])\n",
        "}"
      ],
      "metadata": {
        "colab": {
          "base_uri": "https://localhost:8080/"
        },
        "id": "Ybn3G39l8y-9",
        "outputId": "53b348a6-44af-43fe-81c3-4199464e2d1c"
      },
      "execution_count": null,
      "outputs": [
        {
          "output_type": "stream",
          "name": "stdout",
          "text": [
            "{'ut', 'nv', 'id'}\n"
          ]
        }
      ]
    },
    {
      "cell_type": "code",
      "source": [
        "def find_optimal(states_needed, stations):\n",
        "    final_stations = []\n",
        "    while states_needed: # while there are unmapped states\n",
        "        states_covered = set() # set of all the states that the station covers, and are still needed (it's a set)\n",
        "        best_station = None\n",
        "\n",
        "        for station, states in stations.items(): # keys are assigned to station, values to states_station\n",
        "            covered = states_needed & states # finds the intersection between the needed states and the ones that the station covers\n",
        "            if len(covered) > len(states_covered): # if the station covers more than the others...\n",
        "                best_station = station # this is the new best station\n",
        "                states_covered = covered # and these are the covered states\n",
        "        final_stations.append(best_station)\n",
        "        states_needed -= states_covered # removes the already covered states\n",
        "    return final_stations\n",
        "\n",
        "find_optimal(states_needed, stations)"
      ],
      "metadata": {
        "colab": {
          "base_uri": "https://localhost:8080/"
        },
        "id": "4fcC_54v9xiT",
        "outputId": "166cca12-26df-470f-8779-6b159f79eafc"
      },
      "execution_count": null,
      "outputs": [
        {
          "output_type": "execute_result",
          "data": {
            "text/plain": [
              "['kone', 'ktwo', 'kthree', 'kfive']"
            ]
          },
          "metadata": {},
          "execution_count": 88
        }
      ]
    },
    {
      "cell_type": "markdown",
      "source": [
        "# Dynamic Programming"
      ],
      "metadata": {
        "id": "B7KBDuVy0jQ5"
      }
    },
    {
      "cell_type": "markdown",
      "source": [
        "### Implementation 1 (Knapsack)"
      ],
      "metadata": {
        "id": "nXcaZWAr5Eir"
      }
    },
    {
      "cell_type": "code",
      "source": [
        "items = {\n",
        "    \"water\": [3, 10],\n",
        "    \"book\": [1, 3],\n",
        "    \"food\": [2, 9],\n",
        "    \"jacket\": [2, 5],\n",
        "    \"camera\": [1, 6]\n",
        "}\n",
        "\n",
        "weights, values = zip(*[(weight, value) for weight, value in items.values()])\n",
        "\n",
        "for item, (weight, value) in items.items():\n",
        "    print(f\"{item:8}|{weight:2} |{value:3}\")"
      ],
      "metadata": {
        "colab": {
          "base_uri": "https://localhost:8080/"
        },
        "id": "hqiJNyzn96Yp",
        "outputId": "79c1c02a-e6ae-41ba-ca53-3c8be74e8fb6"
      },
      "execution_count": null,
      "outputs": [
        {
          "output_type": "stream",
          "name": "stdout",
          "text": [
            "water   | 3 | 10\n",
            "book    | 1 |  3\n",
            "food    | 2 |  9\n",
            "jacket  | 2 |  5\n",
            "camera  | 1 |  6\n"
          ]
        }
      ]
    },
    {
      "cell_type": "code",
      "source": [
        "def make_grid(bag_size):\n",
        "    grid = []\n",
        "    num_items = len(weights)\n",
        "    for _ in range(num_items + 1):\n",
        "        row = [0] * (bag_size+1)\n",
        "        grid.append(row)\n",
        "    return grid"
      ],
      "metadata": {
        "id": "4L7zZEYy1-7y"
      },
      "execution_count": null,
      "outputs": []
    },
    {
      "cell_type": "code",
      "source": [
        "def knapsack(grid, weights, values):\n",
        "    num_items = len(weights)\n",
        "    for row in range(1, num_items + 1):\n",
        "        for col in range(1, bag_size + 1):\n",
        "            if weights[row-1] <= col:                   # if the weight fits the sack\n",
        "                grid[row][col] = max(                   # the cell in question is the maximum value of...\n",
        "                    grid[row-1][col],                   # the cell above (previous maximum) OR\n",
        "                    values[row-1] +                     # the value of the current item +\n",
        "                    grid[row-1][col - weights[row-1]]   # the maximum value obtained so far with the remaining capacity\n",
        "                    )                                     # i.e. the column that is the difference between the current weight\n",
        "            else:\n",
        "                grid[row][col] = grid[row-1][col]       # if does not fit, keeps the old value (above it)\n",
        "    final_grid = [row[1:] for row in grid[1:]] # ignores the first line and column of the grid (empty)\n",
        "    return final_grid\n",
        "\n",
        "bag_size = len(items)+1\n",
        "grid = make_grid(bag_size)\n",
        "final_grid = knapsack(grid, weights, values)\n",
        "\n",
        "print(\"         1  2  3   4   5   6\")\n",
        "for key, row in zip(items.keys(), final_grid):\n",
        "    print(f\"{key:8}{row}\")"
      ],
      "metadata": {
        "colab": {
          "base_uri": "https://localhost:8080/"
        },
        "id": "z1op7SHqsqpB",
        "outputId": "264a4ba2-3400-46c1-9a5d-ea27cd37d82e"
      },
      "execution_count": null,
      "outputs": [
        {
          "output_type": "stream",
          "name": "stdout",
          "text": [
            "         1  2  3   4   5   6\n",
            "water   [0, 0, 10, 10, 10, 10]\n",
            "book    [3, 3, 10, 13, 13, 13]\n",
            "food    [3, 9, 12, 13, 19, 22]\n",
            "jacket  [3, 9, 12, 14, 19, 22]\n",
            "camera  [6, 9, 15, 18, 20, 25]\n"
          ]
        }
      ]
    },
    {
      "cell_type": "markdown",
      "source": [
        "### Implementation 2 (Longest common subsequence)"
      ],
      "metadata": {
        "id": "dhxIUXUh5Frv"
      }
    },
    {
      "cell_type": "code",
      "source": [
        "words = [\"beterraba\", \"topeira\"]"
      ],
      "metadata": {
        "id": "hPRtANpP5IPI"
      },
      "execution_count": null,
      "outputs": []
    },
    {
      "cell_type": "code",
      "source": [
        "def subseq(words):\n",
        "    w1, w2 = words\n",
        "    value = 0\n",
        "    grid = [[0] * len(w2) for _ in range(len(w1))]\n",
        "\n",
        "    for i in range(len(w1)):\n",
        "        for j in range(len(w2)):\n",
        "            if w1[i] == w2[j]:\n",
        "                grid[i][j] = grid[i-1][j-1] + 1\n",
        "            else:\n",
        "                grid[i][j] = max(grid[i-1][j], grid[i][j-1])\n",
        "            if grid[i][j] > value:\n",
        "                value = grid[i][j]\n",
        "    return value, grid\n",
        "\n",
        "words = input(\"Input two words separated by space: \").split()\n",
        "\n",
        "#assert len(words) == 2, \"Input only two words!\"\n",
        "\n",
        "if len(words) != 2:\n",
        "    print(\"\\nInput only two words!\")\n",
        "else:\n",
        "    result, grid = subseq(words)\n",
        "\n",
        "    print(f\"Longest common subsequence between '{words[0]}' and '{words[1]}': {result}\\n\")\n",
        "    print(\"   \",\" \".join(words[1]))\n",
        "    for i, row in enumerate(grid):\n",
        "        print(words[0][i],\"|\", *row)"
      ],
      "metadata": {
        "colab": {
          "base_uri": "https://localhost:8080/"
        },
        "id": "U_kr2ces5Mb9",
        "outputId": "c51bc68b-c557-4931-8535-c7d010c2257f"
      },
      "execution_count": null,
      "outputs": [
        {
          "output_type": "stream",
          "name": "stdout",
          "text": [
            "Input two words separated by space: bla ble bli\n",
            "\n",
            "Input only two words!\n"
          ]
        }
      ]
    },
    {
      "cell_type": "markdown",
      "source": [
        "### Levenshtein Distance"
      ],
      "metadata": {
        "id": "9zFsKN1IRlDa"
      }
    },
    {
      "cell_type": "code",
      "source": [
        "def levenshtein(words):\n",
        "    w1, w2 = words\n",
        "    grid = [[0] * (len(w2)+1) for _ in range(len(w1)+1)]\n",
        "\n",
        "    for i in range(len(w1)+1):\n",
        "        for j in range(len(w2)+1):\n",
        "            if i == 0:\n",
        "                grid[i][j] = j\n",
        "            elif j == 0:\n",
        "                grid[i][j] = i\n",
        "            elif w1[i-1] == w2[j-1]:\n",
        "                grid[i][j] = grid[i-1][j-1]\n",
        "            else:\n",
        "                grid[i][j] = 1 + min(grid[i-1][j],\n",
        "                                    grid[i][j-1],\n",
        "                                    grid[i-1][j-1])\n",
        "    distance = grid[len(w1)][len(w2)]\n",
        "    return distance, grid\n",
        "\n",
        "if len(words) != 2:\n",
        "    print(\"\\nInput only two words!\")\n",
        "else:\n",
        "    distance, grid = levenshtein(words)\n",
        "\n",
        "    print(f\"Levenshtein distance between '{words[0]}' and '{words[1]}': {distance}\\n\")\n",
        "    print(\"   \",\" \".join(words[1]))\n",
        "    for i, row in enumerate(grid):\n",
        "        if i > 0:\n",
        "            print(words[0][i-1], *row)\n",
        "        else:\n",
        "            print(\" \", *row)"
      ],
      "metadata": {
        "colab": {
          "base_uri": "https://localhost:8080/"
        },
        "id": "DCdnaN0lRmqU",
        "outputId": "dfb13173-6def-44c2-8e51-69bdc3312ab4"
      },
      "execution_count": null,
      "outputs": [
        {
          "output_type": "stream",
          "name": "stdout",
          "text": [
            "Levenshtein distance between 'beterraba' and 'topeira': 6\n",
            "\n",
            "    t o p e i r a\n",
            "  0 1 2 3 4 5 6 7\n",
            "b 1 1 2 3 4 5 6 7\n",
            "e 2 2 2 3 3 4 5 6\n",
            "t 3 2 3 3 4 4 5 6\n",
            "e 4 3 3 4 3 4 5 6\n",
            "r 5 4 4 4 4 4 4 5\n",
            "r 6 5 5 5 5 5 4 5\n",
            "a 7 6 6 6 6 6 5 4\n",
            "b 8 7 7 7 7 7 6 5\n",
            "a 9 8 8 8 8 8 7 6\n"
          ]
        }
      ]
    }
  ]
}